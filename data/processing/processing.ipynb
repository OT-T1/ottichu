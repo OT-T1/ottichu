{
 "cells": [
  {
   "cell_type": "code",
   "execution_count": 1,
   "id": "2ab99d00",
   "metadata": {},
   "outputs": [],
   "source": [
    "import pandas as pd\n",
    "import json"
   ]
  },
  {
   "cell_type": "code",
   "execution_count": 2,
   "id": "deb3715b",
   "metadata": {},
   "outputs": [],
   "source": [
    "pd.set_option(\"display.max_columns\", None)"
   ]
  },
  {
   "cell_type": "markdown",
   "id": "77d28bf7",
   "metadata": {},
   "source": [
    "# json -> csv"
   ]
  },
  {
   "cell_type": "code",
   "execution_count": 58,
   "id": "a93161fd",
   "metadata": {},
   "outputs": [],
   "source": [
    "name_data = [\"coupang\", \"tving\", \"justwatch\"]\n",
    "for name in name_data:\n",
    "    df = pd.read_json(f'/Users/jeonggyu/Desktop/수집한 dataset/new_data/{name}_img.json', encoding='utf-8', orient='index')\n",
    "    df.to_csv(f'/Users/jeonggyu/Desktop/수집한 dataset/new_data/{name}_img.csv', encoding='utf-8')"
   ]
  },
  {
   "cell_type": "markdown",
   "id": "19db3040",
   "metadata": {},
   "source": [
    "# JustWatch 정보 확인"
   ]
  },
  {
   "cell_type": "code",
   "execution_count": 85,
   "id": "a30fd379",
   "metadata": {},
   "outputs": [],
   "source": [
    "jw_df = pd.read_csv('/Users/jeonggyu/Desktop/수집한 dataset/new_data/justwatch_img.csv')"
   ]
  },
  {
   "cell_type": "code",
   "execution_count": 89,
   "id": "0c637583",
   "metadata": {},
   "outputs": [
    {
     "data": {
      "text/plain": [
       "Index(['Unnamed: 0', 'ott', 'title', 'original_title', 'category', 'country',\n",
       "       'genre', 'director', 'actors', 'released_year', 'runtime', 'summary',\n",
       "       'rating', 'imgurl', 'ott.coupang', 'ott.Netflix', 'ott.tving',\n",
       "       'ott.Watcha', 'ott.wavve'],\n",
       "      dtype='object')"
      ]
     },
     "execution_count": 89,
     "metadata": {},
     "output_type": "execute_result"
    }
   ],
   "source": [
    "jw_df.columns"
   ]
  },
  {
   "cell_type": "markdown",
   "id": "6f987d54",
   "metadata": {},
   "source": [
    "# ott 서비스별로 행 나누기"
   ]
  },
  {
   "cell_type": "code",
   "execution_count": 87,
   "id": "59309bce",
   "metadata": {},
   "outputs": [],
   "source": [
    "ott = {'Netflix', 'tving', 'coupang', 'wavve', 'Watcha'}"
   ]
  },
  {
   "cell_type": "code",
   "execution_count": 88,
   "id": "02808f3d",
   "metadata": {},
   "outputs": [],
   "source": [
    "for name in ott:\n",
    "    jw_df[f'ott.{name}'] = None"
   ]
  },
  {
   "cell_type": "code",
   "execution_count": 90,
   "id": "8b7d56c9",
   "metadata": {},
   "outputs": [
    {
     "name": "stderr",
     "output_type": "stream",
     "text": [
      "/usr/local/lib/python3.9/site-packages/pandas/core/series.py:1056: SettingWithCopyWarning: \n",
      "A value is trying to be set on a copy of a slice from a DataFrame\n",
      "\n",
      "See the caveats in the documentation: https://pandas.pydata.org/pandas-docs/stable/user_guide/indexing.html#returning-a-view-versus-a-copy\n",
      "  cacher_needs_updating = self._check_is_chained_assignment_possible()\n"
     ]
    }
   ],
   "source": [
    "for idx in jw_df.index:\n",
    "    cur = jw_df.loc[idx]\n",
    "    tmp = eval(cur.ott)\n",
    "\n",
    "    for key, val in tmp.items():\n",
    "        if key in ott:\n",
    "            cur[f'ott.{key}'] = str(val)\n",
    "    jw_df.loc[idx] = cur"
   ]
  },
  {
   "cell_type": "code",
   "execution_count": 91,
   "id": "0c557c7b",
   "metadata": {},
   "outputs": [],
   "source": [
    "jw_df = jw_df.drop(columns=['ott'])"
   ]
  },
  {
   "cell_type": "markdown",
   "id": "be295cb4",
   "metadata": {},
   "source": [
    "# Justwatch 데이터 전처리"
   ]
  },
  {
   "cell_type": "code",
   "execution_count": 135,
   "id": "5ea809b7",
   "metadata": {},
   "outputs": [],
   "source": [
    "jw_df.rename(columns={'Unnamed: 0' : 'id'}, inplace=True)"
   ]
  },
  {
   "cell_type": "code",
   "execution_count": 92,
   "id": "b9e26073",
   "metadata": {},
   "outputs": [
    {
     "data": {
      "text/plain": [
       "3250"
      ]
     },
     "execution_count": 92,
     "metadata": {},
     "output_type": "execute_result"
    }
   ],
   "source": [
    "# 이건 어떻게 처리할까\n",
    "len(jw_df[jw_df['director'] == '[]'])"
   ]
  },
  {
   "cell_type": "code",
   "execution_count": 136,
   "id": "3d3e844e",
   "metadata": {},
   "outputs": [
    {
     "data": {
      "text/plain": [
       "id                    0\n",
       "title                 0\n",
       "original_title        0\n",
       "category              0\n",
       "country               0\n",
       "genre                 0\n",
       "director              0\n",
       "actors                0\n",
       "released_year         0\n",
       "runtime              22\n",
       "summary              62\n",
       "rating                0\n",
       "imgurl              215\n",
       "ott.coupang       17755\n",
       "ott.Netflix       12732\n",
       "ott.tving         17755\n",
       "ott.Watcha        10624\n",
       "ott.wavve          5041\n",
       "dtype: int64"
      ]
     },
     "execution_count": 136,
     "metadata": {},
     "output_type": "execute_result"
    }
   ],
   "source": [
    "# runtime없는 것은 어떻게? summary없는 것은 어떻게?\n",
    "jw_df.isnull().sum()"
   ]
  },
  {
   "cell_type": "code",
   "execution_count": 482,
   "id": "47c52b83",
   "metadata": {},
   "outputs": [],
   "source": [
    "# ott서비스 필요한 것만 가져옴 (넷플릭스, 티빙, 웨이브, 왓챠, 쿠팡플레이)\n",
    "need_ott = set(filter(lambda x: x.startswith('ott'), jw_df.columns)) - {'ott.Netflix', 'ott.Watcha', 'ott.wavve'}\n",
    "jw_df = jw_df.drop(columns=need_ott)"
   ]
  },
  {
   "cell_type": "code",
   "execution_count": 95,
   "id": "b57650ea",
   "metadata": {},
   "outputs": [
    {
     "data": {
      "text/plain": [
       "0"
      ]
     },
     "execution_count": 95,
     "metadata": {},
     "output_type": "execute_result"
    }
   ],
   "source": [
    "len(jw_df[jw_df.duplicated()])"
   ]
  },
  {
   "cell_type": "markdown",
   "id": "8c10d56c",
   "metadata": {},
   "source": [
    "# tving 전처리"
   ]
  },
  {
   "cell_type": "code",
   "execution_count": 107,
   "id": "6ff56bdb",
   "metadata": {},
   "outputs": [],
   "source": [
    "tving_df = pd.read_csv('/Users/jeonggyu/Desktop/수집한 dataset/new_data/tving_img.csv')"
   ]
  },
  {
   "cell_type": "code",
   "execution_count": 108,
   "id": "fef69d7d",
   "metadata": {},
   "outputs": [
    {
     "data": {
      "text/plain": [
       "Index(['Unnamed: 0', 'ott', 'title', 'original_title', 'category', 'country',\n",
       "       'genre', 'director', 'actors', 'released_year', 'runtime', 'summary',\n",
       "       'rating', 'imgurl'],\n",
       "      dtype='object')"
      ]
     },
     "execution_count": 108,
     "metadata": {},
     "output_type": "execute_result"
    }
   ],
   "source": [
    "tving_df.columns"
   ]
  },
  {
   "cell_type": "code",
   "execution_count": 123,
   "id": "a8bd7fbc",
   "metadata": {},
   "outputs": [],
   "source": [
    "tving_df['ott.tving'] = 1\n",
    "tving_df = tving_df.drop(columns=['ott'])"
   ]
  },
  {
   "cell_type": "code",
   "execution_count": 133,
   "id": "7dddecc5",
   "metadata": {},
   "outputs": [],
   "source": [
    "tving_df.rename(columns = {'Unnamed: 0' : 'id'}, inplace=True)"
   ]
  },
  {
   "cell_type": "code",
   "execution_count": 134,
   "id": "026da937",
   "metadata": {},
   "outputs": [
    {
     "data": {
      "text/html": [
       "<div>\n",
       "<style scoped>\n",
       "    .dataframe tbody tr th:only-of-type {\n",
       "        vertical-align: middle;\n",
       "    }\n",
       "\n",
       "    .dataframe tbody tr th {\n",
       "        vertical-align: top;\n",
       "    }\n",
       "\n",
       "    .dataframe thead th {\n",
       "        text-align: right;\n",
       "    }\n",
       "</style>\n",
       "<table border=\"1\" class=\"dataframe\">\n",
       "  <thead>\n",
       "    <tr style=\"text-align: right;\">\n",
       "      <th></th>\n",
       "      <th>id</th>\n",
       "      <th>title</th>\n",
       "      <th>original_title</th>\n",
       "      <th>category</th>\n",
       "      <th>country</th>\n",
       "      <th>genre</th>\n",
       "      <th>director</th>\n",
       "      <th>actors</th>\n",
       "      <th>released_year</th>\n",
       "      <th>runtime</th>\n",
       "      <th>summary</th>\n",
       "      <th>rating</th>\n",
       "      <th>imgurl</th>\n",
       "      <th>ott.tving</th>\n",
       "    </tr>\n",
       "  </thead>\n",
       "  <tbody>\n",
       "    <tr>\n",
       "      <th>0</th>\n",
       "      <td>P001504387</td>\n",
       "      <td>갯마을 차차차</td>\n",
       "      <td>NaN</td>\n",
       "      <td>TV 프로그램</td>\n",
       "      <td>[]</td>\n",
       "      <td>['드라마', '로맨스']</td>\n",
       "      <td>['유제원']</td>\n",
       "      <td>['신민아', '김선호', '이상이', '김영옥', '조한철', '공민정', '인교...</td>\n",
       "      <td>2021</td>\n",
       "      <td>0</td>\n",
       "      <td>현실주의 치과의사 윤혜진과 만능 백수 홍반장이 짠내 사람내음 가득한 바닷마을 ‘공진...</td>\n",
       "      <td>0.0</td>\n",
       "      <td>https://image.tving.com/resize_cdn.php?u=https...</td>\n",
       "      <td>1</td>\n",
       "    </tr>\n",
       "    <tr>\n",
       "      <th>1</th>\n",
       "      <td>P001503248</td>\n",
       "      <td>유미의 세포들</td>\n",
       "      <td>NaN</td>\n",
       "      <td>TV 프로그램</td>\n",
       "      <td>[]</td>\n",
       "      <td>['드라마', '로맨스']</td>\n",
       "      <td>['이상엽']</td>\n",
       "      <td>['김고은', '안보현', '이유비', '박지현']</td>\n",
       "      <td>2021</td>\n",
       "      <td>0</td>\n",
       "      <td>세포들과 함께 먹고 사랑하고 성장하는 평범한 유미(김고은 분)의 이야기를 그린 세포...</td>\n",
       "      <td>0.0</td>\n",
       "      <td>https://image.tving.com/resize_cdn.php?u=https...</td>\n",
       "      <td>1</td>\n",
       "    </tr>\n",
       "    <tr>\n",
       "      <th>2</th>\n",
       "      <td>P001496087</td>\n",
       "      <td>환승연애</td>\n",
       "      <td>NaN</td>\n",
       "      <td>TV 프로그램</td>\n",
       "      <td>[]</td>\n",
       "      <td>['예능', '관찰리얼리티']</td>\n",
       "      <td>['이진주', '최미래', '이희선', '김슬기', '곽정은', '이승환', '신혜...</td>\n",
       "      <td>['사이먼도미닉', '이용진', '김예원', '유라']</td>\n",
       "      <td>2021</td>\n",
       "      <td>0</td>\n",
       "      <td>다양한 이유로 이별한 커플들이 모여 지나간 사랑을 되짚고 새로운 사랑을 찾아나가는 ...</td>\n",
       "      <td>0.0</td>\n",
       "      <td>https://image.tving.com/resize_cdn.php?u=https...</td>\n",
       "      <td>1</td>\n",
       "    </tr>\n",
       "    <tr>\n",
       "      <th>3</th>\n",
       "      <td>P000515167</td>\n",
       "      <td>놀라운 토요일</td>\n",
       "      <td>NaN</td>\n",
       "      <td>TV 프로그램</td>\n",
       "      <td>[]</td>\n",
       "      <td>['예능', '음악예능']</td>\n",
       "      <td>['이태경', '진보미', '강은비', '강유민', '김윤아', '임다영']</td>\n",
       "      <td>['신동엽', '김동현', '문세윤', '박나래', '넉살', '태연', '한해',...</td>\n",
       "      <td>2018</td>\n",
       "      <td>0</td>\n",
       "      <td>‘좋아요’ 폭발하는 SNS 핵 공감 핫 플레이스부터 오랜 전통이 살아 숨 쉬는 노포...</td>\n",
       "      <td>0.0</td>\n",
       "      <td>https://image.tving.com/resize_cdn.php?u=https...</td>\n",
       "      <td>1</td>\n",
       "    </tr>\n",
       "    <tr>\n",
       "      <th>4</th>\n",
       "      <td>P001515756</td>\n",
       "      <td>Show Me The Money 10</td>\n",
       "      <td>NaN</td>\n",
       "      <td>TV 프로그램</td>\n",
       "      <td>[]</td>\n",
       "      <td>['예능', '음악예능']</td>\n",
       "      <td>[]</td>\n",
       "      <td>[]</td>\n",
       "      <td>2021</td>\n",
       "      <td>0</td>\n",
       "      <td>Mnet &lt;Show Me The Money 10&gt;2021 COMING SOON</td>\n",
       "      <td>0.0</td>\n",
       "      <td>https://image.tving.com/resize_cdn.php?u=https...</td>\n",
       "      <td>1</td>\n",
       "    </tr>\n",
       "  </tbody>\n",
       "</table>\n",
       "</div>"
      ],
      "text/plain": [
       "           id                 title original_title category country  \\\n",
       "0  P001504387               갯마을 차차차            NaN  TV 프로그램      []   \n",
       "1  P001503248               유미의 세포들            NaN  TV 프로그램      []   \n",
       "2  P001496087                  환승연애            NaN  TV 프로그램      []   \n",
       "3  P000515167               놀라운 토요일            NaN  TV 프로그램      []   \n",
       "4  P001515756  Show Me The Money 10            NaN  TV 프로그램      []   \n",
       "\n",
       "              genre                                           director  \\\n",
       "0    ['드라마', '로맨스']                                            ['유제원']   \n",
       "1    ['드라마', '로맨스']                                            ['이상엽']   \n",
       "2  ['예능', '관찰리얼리티']  ['이진주', '최미래', '이희선', '김슬기', '곽정은', '이승환', '신혜...   \n",
       "3    ['예능', '음악예능']         ['이태경', '진보미', '강은비', '강유민', '김윤아', '임다영']   \n",
       "4    ['예능', '음악예능']                                                 []   \n",
       "\n",
       "                                              actors  released_year  runtime  \\\n",
       "0  ['신민아', '김선호', '이상이', '김영옥', '조한철', '공민정', '인교...           2021        0   \n",
       "1                       ['김고은', '안보현', '이유비', '박지현']           2021        0   \n",
       "2                     ['사이먼도미닉', '이용진', '김예원', '유라']           2021        0   \n",
       "3  ['신동엽', '김동현', '문세윤', '박나래', '넉살', '태연', '한해',...           2018        0   \n",
       "4                                                 []           2021        0   \n",
       "\n",
       "                                             summary  rating  \\\n",
       "0  현실주의 치과의사 윤혜진과 만능 백수 홍반장이 짠내 사람내음 가득한 바닷마을 ‘공진...     0.0   \n",
       "1  세포들과 함께 먹고 사랑하고 성장하는 평범한 유미(김고은 분)의 이야기를 그린 세포...     0.0   \n",
       "2  다양한 이유로 이별한 커플들이 모여 지나간 사랑을 되짚고 새로운 사랑을 찾아나가는 ...     0.0   \n",
       "3  ‘좋아요’ 폭발하는 SNS 핵 공감 핫 플레이스부터 오랜 전통이 살아 숨 쉬는 노포...     0.0   \n",
       "4        Mnet <Show Me The Money 10>2021 COMING SOON     0.0   \n",
       "\n",
       "                                              imgurl  ott.tving  \n",
       "0  https://image.tving.com/resize_cdn.php?u=https...          1  \n",
       "1  https://image.tving.com/resize_cdn.php?u=https...          1  \n",
       "2  https://image.tving.com/resize_cdn.php?u=https...          1  \n",
       "3  https://image.tving.com/resize_cdn.php?u=https...          1  \n",
       "4  https://image.tving.com/resize_cdn.php?u=https...          1  "
      ]
     },
     "execution_count": 134,
     "metadata": {},
     "output_type": "execute_result"
    }
   ],
   "source": [
    "tving_df.head(5)"
   ]
  },
  {
   "cell_type": "code",
   "execution_count": 125,
   "id": "c228677e",
   "metadata": {},
   "outputs": [
    {
     "name": "stdout",
     "output_type": "stream",
     "text": [
      "5694\n",
      "5753\n"
     ]
    }
   ],
   "source": [
    "print(len(tving_df['title'].unique()))\n",
    "print(len(tving_df))"
   ]
  },
  {
   "cell_type": "code",
   "execution_count": 120,
   "id": "cecabb7c",
   "metadata": {},
   "outputs": [
    {
     "data": {
      "text/plain": [
       "Unnamed: 0           0\n",
       "ott                  0\n",
       "title                0\n",
       "original_title    2385\n",
       "category             0\n",
       "country              0\n",
       "genre                0\n",
       "director             0\n",
       "actors               0\n",
       "released_year        0\n",
       "runtime              0\n",
       "summary              3\n",
       "rating               0\n",
       "imgurl               6\n",
       "ott.tving            0\n",
       "dtype: int64"
      ]
     },
     "execution_count": 120,
     "metadata": {},
     "output_type": "execute_result"
    }
   ],
   "source": [
    "tving_df.isnull().sum()"
   ]
  },
  {
   "cell_type": "code",
   "execution_count": 111,
   "id": "d4737439",
   "metadata": {},
   "outputs": [
    {
     "data": {
      "text/plain": [
       "0"
      ]
     },
     "execution_count": 111,
     "metadata": {},
     "output_type": "execute_result"
    }
   ],
   "source": [
    "len(tving_df[tving_df.duplicated()])"
   ]
  },
  {
   "cell_type": "code",
   "execution_count": 112,
   "id": "586da6c7",
   "metadata": {},
   "outputs": [],
   "source": [
    "tving_df = tving_df.drop_duplicates()"
   ]
  },
  {
   "cell_type": "code",
   "execution_count": 113,
   "id": "634e0600",
   "metadata": {},
   "outputs": [
    {
     "data": {
      "text/plain": [
       "0"
      ]
     },
     "execution_count": 113,
     "metadata": {},
     "output_type": "execute_result"
    }
   ],
   "source": [
    "len(tving_df[tving_df.duplicated()])"
   ]
  },
  {
   "cell_type": "code",
   "execution_count": 114,
   "id": "69657ac6",
   "metadata": {},
   "outputs": [
    {
     "data": {
      "text/plain": [
       "Unnamed: 0           0\n",
       "ott                  0\n",
       "title                0\n",
       "original_title    2392\n",
       "category             0\n",
       "country              0\n",
       "genre                0\n",
       "director             0\n",
       "actors               0\n",
       "released_year        0\n",
       "runtime              0\n",
       "summary              3\n",
       "rating               0\n",
       "imgurl               6\n",
       "dtype: int64"
      ]
     },
     "execution_count": 114,
     "metadata": {},
     "output_type": "execute_result"
    }
   ],
   "source": [
    "tving_df.isnull().sum()"
   ]
  },
  {
   "cell_type": "code",
   "execution_count": 115,
   "id": "52bfb30b",
   "metadata": {},
   "outputs": [
    {
     "data": {
      "text/plain": [
       "99"
      ]
     },
     "execution_count": 115,
     "metadata": {},
     "output_type": "execute_result"
    }
   ],
   "source": [
    "len(tving_df[tving_df.duplicated(['title', 'category', 'director'])])"
   ]
  },
  {
   "cell_type": "code",
   "execution_count": 116,
   "id": "875ce3dd",
   "metadata": {},
   "outputs": [],
   "source": [
    "tving_df = tving_df.drop_duplicates(['title', 'category', 'director'])"
   ]
  },
  {
   "cell_type": "code",
   "execution_count": 117,
   "id": "6d18ddf4",
   "metadata": {},
   "outputs": [
    {
     "data": {
      "text/plain": [
       "5753"
      ]
     },
     "execution_count": 117,
     "metadata": {},
     "output_type": "execute_result"
    }
   ],
   "source": [
    "len(tving_df)"
   ]
  },
  {
   "cell_type": "markdown",
   "id": "148ddaaa",
   "metadata": {},
   "source": [
    "# Coupang 전처리"
   ]
  },
  {
   "cell_type": "code",
   "execution_count": 126,
   "id": "d6193515",
   "metadata": {},
   "outputs": [],
   "source": [
    "coupang_df = pd.read_csv('/Users/jeonggyu/Desktop/수집한 dataset/new_data/coupang_img.csv')"
   ]
  },
  {
   "cell_type": "code",
   "execution_count": 145,
   "id": "142ab884",
   "metadata": {},
   "outputs": [
    {
     "data": {
      "text/plain": [
       "Index(['id', 'title', 'director', 'actors', 'summary', 'country', 'category',\n",
       "       'genre', 'runtime', 'rating', 'imgurl', 'is_coopang'],\n",
       "      dtype='object')"
      ]
     },
     "execution_count": 145,
     "metadata": {},
     "output_type": "execute_result"
    }
   ],
   "source": [
    "coupang_df.columns"
   ]
  },
  {
   "cell_type": "code",
   "execution_count": 138,
   "id": "7620b49b",
   "metadata": {},
   "outputs": [],
   "source": [
    "coupang_df = coupang_df.drop(columns=['ott', 'Unnamed: 0', 'is_netflix', 'is_tving', 'is_wavve', 'is_watcha'])"
   ]
  },
  {
   "cell_type": "code",
   "execution_count": 146,
   "id": "f7aad4c2",
   "metadata": {},
   "outputs": [],
   "source": [
    "coupang_df.rename(columns={'is_coopang' : 'ott.coupang'}, inplace=True)"
   ]
  },
  {
   "cell_type": "code",
   "execution_count": 143,
   "id": "c053ea04",
   "metadata": {},
   "outputs": [
    {
     "name": "stdout",
     "output_type": "stream",
     "text": [
      "1791\n",
      "1791\n"
     ]
    }
   ],
   "source": [
    "print(len(coupang_df['title'].unique()))\n",
    "print(len(coupang_df))"
   ]
  },
  {
   "cell_type": "code",
   "execution_count": 147,
   "id": "255a6dd5",
   "metadata": {},
   "outputs": [
    {
     "data": {
      "text/plain": [
       "id             0\n",
       "title          0\n",
       "director       0\n",
       "actors         0\n",
       "summary        0\n",
       "country        0\n",
       "category       0\n",
       "genre          0\n",
       "runtime        0\n",
       "rating         0\n",
       "imgurl         0\n",
       "ott.coupang    0\n",
       "dtype: int64"
      ]
     },
     "execution_count": 147,
     "metadata": {},
     "output_type": "execute_result"
    }
   ],
   "source": [
    "coupang_df.isnull().sum()"
   ]
  },
  {
   "cell_type": "code",
   "execution_count": 148,
   "id": "bfb9a37e",
   "metadata": {},
   "outputs": [
    {
     "data": {
      "text/plain": [
       "0"
      ]
     },
     "execution_count": 148,
     "metadata": {},
     "output_type": "execute_result"
    }
   ],
   "source": [
    "len(coupang_df[coupang_df.duplicated()])"
   ]
  },
  {
   "cell_type": "code",
   "execution_count": 149,
   "id": "8e8f9657",
   "metadata": {},
   "outputs": [
    {
     "data": {
      "text/plain": [
       "1791"
      ]
     },
     "execution_count": 149,
     "metadata": {},
     "output_type": "execute_result"
    }
   ],
   "source": [
    "len(coupang_df)"
   ]
  },
  {
   "cell_type": "code",
   "execution_count": 150,
   "id": "667319df",
   "metadata": {},
   "outputs": [
    {
     "data": {
      "text/plain": [
       "0"
      ]
     },
     "execution_count": 150,
     "metadata": {},
     "output_type": "execute_result"
    }
   ],
   "source": [
    "len(coupang_df[coupang_df.duplicated(['title', 'category', 'director'])])"
   ]
  },
  {
   "cell_type": "markdown",
   "id": "9fcb709a",
   "metadata": {},
   "source": [
    "# tving + coupang"
   ]
  },
  {
   "cell_type": "code",
   "execution_count": 151,
   "id": "66ba6cbd",
   "metadata": {},
   "outputs": [],
   "source": [
    "tv_cou_df = pd.concat([tving_df, coupang_df], ignore_index=True)"
   ]
  },
  {
   "cell_type": "code",
   "execution_count": 152,
   "id": "0a1e0873",
   "metadata": {},
   "outputs": [
    {
     "name": "stdout",
     "output_type": "stream",
     "text": [
      "7544\n"
     ]
    },
    {
     "data": {
      "text/html": [
       "<div>\n",
       "<style scoped>\n",
       "    .dataframe tbody tr th:only-of-type {\n",
       "        vertical-align: middle;\n",
       "    }\n",
       "\n",
       "    .dataframe tbody tr th {\n",
       "        vertical-align: top;\n",
       "    }\n",
       "\n",
       "    .dataframe thead th {\n",
       "        text-align: right;\n",
       "    }\n",
       "</style>\n",
       "<table border=\"1\" class=\"dataframe\">\n",
       "  <thead>\n",
       "    <tr style=\"text-align: right;\">\n",
       "      <th></th>\n",
       "      <th>id</th>\n",
       "      <th>title</th>\n",
       "      <th>original_title</th>\n",
       "      <th>category</th>\n",
       "      <th>country</th>\n",
       "      <th>genre</th>\n",
       "      <th>director</th>\n",
       "      <th>actors</th>\n",
       "      <th>released_year</th>\n",
       "      <th>runtime</th>\n",
       "      <th>summary</th>\n",
       "      <th>rating</th>\n",
       "      <th>imgurl</th>\n",
       "      <th>ott.tving</th>\n",
       "      <th>ott.coupang</th>\n",
       "    </tr>\n",
       "  </thead>\n",
       "  <tbody>\n",
       "    <tr>\n",
       "      <th>0</th>\n",
       "      <td>P001504387</td>\n",
       "      <td>갯마을 차차차</td>\n",
       "      <td>NaN</td>\n",
       "      <td>TV 프로그램</td>\n",
       "      <td>[]</td>\n",
       "      <td>['드라마', '로맨스']</td>\n",
       "      <td>['유제원']</td>\n",
       "      <td>['신민아', '김선호', '이상이', '김영옥', '조한철', '공민정', '인교...</td>\n",
       "      <td>2021.0</td>\n",
       "      <td>0</td>\n",
       "      <td>현실주의 치과의사 윤혜진과 만능 백수 홍반장이 짠내 사람내음 가득한 바닷마을 ‘공진...</td>\n",
       "      <td>0.0</td>\n",
       "      <td>https://image.tving.com/resize_cdn.php?u=https...</td>\n",
       "      <td>1.0</td>\n",
       "      <td>NaN</td>\n",
       "    </tr>\n",
       "    <tr>\n",
       "      <th>1</th>\n",
       "      <td>P001503248</td>\n",
       "      <td>유미의 세포들</td>\n",
       "      <td>NaN</td>\n",
       "      <td>TV 프로그램</td>\n",
       "      <td>[]</td>\n",
       "      <td>['드라마', '로맨스']</td>\n",
       "      <td>['이상엽']</td>\n",
       "      <td>['김고은', '안보현', '이유비', '박지현']</td>\n",
       "      <td>2021.0</td>\n",
       "      <td>0</td>\n",
       "      <td>세포들과 함께 먹고 사랑하고 성장하는 평범한 유미(김고은 분)의 이야기를 그린 세포...</td>\n",
       "      <td>0.0</td>\n",
       "      <td>https://image.tving.com/resize_cdn.php?u=https...</td>\n",
       "      <td>1.0</td>\n",
       "      <td>NaN</td>\n",
       "    </tr>\n",
       "    <tr>\n",
       "      <th>2</th>\n",
       "      <td>P001496087</td>\n",
       "      <td>환승연애</td>\n",
       "      <td>NaN</td>\n",
       "      <td>TV 프로그램</td>\n",
       "      <td>[]</td>\n",
       "      <td>['예능', '관찰리얼리티']</td>\n",
       "      <td>['이진주', '최미래', '이희선', '김슬기', '곽정은', '이승환', '신혜...</td>\n",
       "      <td>['사이먼도미닉', '이용진', '김예원', '유라']</td>\n",
       "      <td>2021.0</td>\n",
       "      <td>0</td>\n",
       "      <td>다양한 이유로 이별한 커플들이 모여 지나간 사랑을 되짚고 새로운 사랑을 찾아나가는 ...</td>\n",
       "      <td>0.0</td>\n",
       "      <td>https://image.tving.com/resize_cdn.php?u=https...</td>\n",
       "      <td>1.0</td>\n",
       "      <td>NaN</td>\n",
       "    </tr>\n",
       "    <tr>\n",
       "      <th>3</th>\n",
       "      <td>P000515167</td>\n",
       "      <td>놀라운 토요일</td>\n",
       "      <td>NaN</td>\n",
       "      <td>TV 프로그램</td>\n",
       "      <td>[]</td>\n",
       "      <td>['예능', '음악예능']</td>\n",
       "      <td>['이태경', '진보미', '강은비', '강유민', '김윤아', '임다영']</td>\n",
       "      <td>['신동엽', '김동현', '문세윤', '박나래', '넉살', '태연', '한해',...</td>\n",
       "      <td>2018.0</td>\n",
       "      <td>0</td>\n",
       "      <td>‘좋아요’ 폭발하는 SNS 핵 공감 핫 플레이스부터 오랜 전통이 살아 숨 쉬는 노포...</td>\n",
       "      <td>0.0</td>\n",
       "      <td>https://image.tving.com/resize_cdn.php?u=https...</td>\n",
       "      <td>1.0</td>\n",
       "      <td>NaN</td>\n",
       "    </tr>\n",
       "    <tr>\n",
       "      <th>4</th>\n",
       "      <td>P001515756</td>\n",
       "      <td>Show Me The Money 10</td>\n",
       "      <td>NaN</td>\n",
       "      <td>TV 프로그램</td>\n",
       "      <td>[]</td>\n",
       "      <td>['예능', '음악예능']</td>\n",
       "      <td>[]</td>\n",
       "      <td>[]</td>\n",
       "      <td>2021.0</td>\n",
       "      <td>0</td>\n",
       "      <td>Mnet &lt;Show Me The Money 10&gt;2021 COMING SOON</td>\n",
       "      <td>0.0</td>\n",
       "      <td>https://image.tving.com/resize_cdn.php?u=https...</td>\n",
       "      <td>1.0</td>\n",
       "      <td>NaN</td>\n",
       "    </tr>\n",
       "  </tbody>\n",
       "</table>\n",
       "</div>"
      ],
      "text/plain": [
       "           id                 title original_title category country  \\\n",
       "0  P001504387               갯마을 차차차            NaN  TV 프로그램      []   \n",
       "1  P001503248               유미의 세포들            NaN  TV 프로그램      []   \n",
       "2  P001496087                  환승연애            NaN  TV 프로그램      []   \n",
       "3  P000515167               놀라운 토요일            NaN  TV 프로그램      []   \n",
       "4  P001515756  Show Me The Money 10            NaN  TV 프로그램      []   \n",
       "\n",
       "              genre                                           director  \\\n",
       "0    ['드라마', '로맨스']                                            ['유제원']   \n",
       "1    ['드라마', '로맨스']                                            ['이상엽']   \n",
       "2  ['예능', '관찰리얼리티']  ['이진주', '최미래', '이희선', '김슬기', '곽정은', '이승환', '신혜...   \n",
       "3    ['예능', '음악예능']         ['이태경', '진보미', '강은비', '강유민', '김윤아', '임다영']   \n",
       "4    ['예능', '음악예능']                                                 []   \n",
       "\n",
       "                                              actors  released_year  runtime  \\\n",
       "0  ['신민아', '김선호', '이상이', '김영옥', '조한철', '공민정', '인교...         2021.0        0   \n",
       "1                       ['김고은', '안보현', '이유비', '박지현']         2021.0        0   \n",
       "2                     ['사이먼도미닉', '이용진', '김예원', '유라']         2021.0        0   \n",
       "3  ['신동엽', '김동현', '문세윤', '박나래', '넉살', '태연', '한해',...         2018.0        0   \n",
       "4                                                 []         2021.0        0   \n",
       "\n",
       "                                             summary  rating  \\\n",
       "0  현실주의 치과의사 윤혜진과 만능 백수 홍반장이 짠내 사람내음 가득한 바닷마을 ‘공진...     0.0   \n",
       "1  세포들과 함께 먹고 사랑하고 성장하는 평범한 유미(김고은 분)의 이야기를 그린 세포...     0.0   \n",
       "2  다양한 이유로 이별한 커플들이 모여 지나간 사랑을 되짚고 새로운 사랑을 찾아나가는 ...     0.0   \n",
       "3  ‘좋아요’ 폭발하는 SNS 핵 공감 핫 플레이스부터 오랜 전통이 살아 숨 쉬는 노포...     0.0   \n",
       "4        Mnet <Show Me The Money 10>2021 COMING SOON     0.0   \n",
       "\n",
       "                                              imgurl  ott.tving  ott.coupang  \n",
       "0  https://image.tving.com/resize_cdn.php?u=https...        1.0          NaN  \n",
       "1  https://image.tving.com/resize_cdn.php?u=https...        1.0          NaN  \n",
       "2  https://image.tving.com/resize_cdn.php?u=https...        1.0          NaN  \n",
       "3  https://image.tving.com/resize_cdn.php?u=https...        1.0          NaN  \n",
       "4  https://image.tving.com/resize_cdn.php?u=https...        1.0          NaN  "
      ]
     },
     "execution_count": 152,
     "metadata": {},
     "output_type": "execute_result"
    }
   ],
   "source": [
    "print(len(tv_cou_df))\n",
    "tv_cou_df.head(5)"
   ]
  },
  {
   "cell_type": "code",
   "execution_count": 153,
   "id": "622e6e08",
   "metadata": {},
   "outputs": [
    {
     "data": {
      "text/plain": [
       "362"
      ]
     },
     "execution_count": 153,
     "metadata": {},
     "output_type": "execute_result"
    }
   ],
   "source": [
    "len(tv_cou_df[tv_cou_df.duplicated(['title', 'category', 'director'])])"
   ]
  },
  {
   "cell_type": "markdown",
   "id": "f36c4137",
   "metadata": {},
   "source": [
    "## tving, coupang 중복 데이터 제거"
   ]
  },
  {
   "cell_type": "code",
   "execution_count": 154,
   "id": "9086bb92",
   "metadata": {},
   "outputs": [],
   "source": [
    "dup_index = tv_cou_df[tv_cou_df.duplicated(['title', 'category', 'director'], keep=False)].index"
   ]
  },
  {
   "cell_type": "code",
   "execution_count": 155,
   "id": "cd5bc290",
   "metadata": {},
   "outputs": [
    {
     "data": {
      "text/html": [
       "<div>\n",
       "<style scoped>\n",
       "    .dataframe tbody tr th:only-of-type {\n",
       "        vertical-align: middle;\n",
       "    }\n",
       "\n",
       "    .dataframe tbody tr th {\n",
       "        vertical-align: top;\n",
       "    }\n",
       "\n",
       "    .dataframe thead th {\n",
       "        text-align: right;\n",
       "    }\n",
       "</style>\n",
       "<table border=\"1\" class=\"dataframe\">\n",
       "  <thead>\n",
       "    <tr style=\"text-align: right;\">\n",
       "      <th></th>\n",
       "      <th>id</th>\n",
       "      <th>title</th>\n",
       "      <th>original_title</th>\n",
       "      <th>category</th>\n",
       "      <th>country</th>\n",
       "      <th>genre</th>\n",
       "      <th>director</th>\n",
       "      <th>actors</th>\n",
       "      <th>released_year</th>\n",
       "      <th>runtime</th>\n",
       "      <th>summary</th>\n",
       "      <th>rating</th>\n",
       "      <th>imgurl</th>\n",
       "      <th>ott.tving</th>\n",
       "      <th>ott.coupang</th>\n",
       "    </tr>\n",
       "  </thead>\n",
       "  <tbody>\n",
       "    <tr>\n",
       "      <th>2318</th>\n",
       "      <td>M000234633</td>\n",
       "      <td>걸캅스</td>\n",
       "      <td>Miss ＆ Mrs. Cops</td>\n",
       "      <td>영화</td>\n",
       "      <td>[]</td>\n",
       "      <td>['코미디', '']</td>\n",
       "      <td>['정다원']</td>\n",
       "      <td>['라미란', '이성경', '윤상현', '최수영']</td>\n",
       "      <td>2018.0</td>\n",
       "      <td>0</td>\n",
       "      <td>′민원실 퇴출 0순위 전직 전설의 형사 ′미영′과 민원실로 밀려난 현직 꼴통 형사 ...</td>\n",
       "      <td>6.0</td>\n",
       "      <td>https://image.tving.com/upload/cms/caim/CAIM21...</td>\n",
       "      <td>1.0</td>\n",
       "      <td>NaN</td>\n",
       "    </tr>\n",
       "    <tr>\n",
       "      <th>7510</th>\n",
       "      <td>243d4144-f66e-4a68-af9a-e2c865f4585b</td>\n",
       "      <td>걸캅스</td>\n",
       "      <td>NaN</td>\n",
       "      <td>영화</td>\n",
       "      <td>[]</td>\n",
       "      <td>['코미디', '액션', '범죄']</td>\n",
       "      <td>['정다원']</td>\n",
       "      <td>['라미란', '이성경']</td>\n",
       "      <td>NaN</td>\n",
       "      <td>107</td>\n",
       "      <td>민원실 퇴출 0순위 전직 전설의 형사 미영과 민원실로 밀려난 현직 꼴통 형사 지혜....</td>\n",
       "      <td>0.0</td>\n",
       "      <td>https://img.coupangstreaming.com/titles/243d41...</td>\n",
       "      <td>NaN</td>\n",
       "      <td>1.0</td>\n",
       "    </tr>\n",
       "  </tbody>\n",
       "</table>\n",
       "</div>"
      ],
      "text/plain": [
       "                                        id title    original_title category  \\\n",
       "2318                            M000234633   걸캅스  Miss ＆ Mrs. Cops       영화   \n",
       "7510  243d4144-f66e-4a68-af9a-e2c865f4585b   걸캅스               NaN       영화   \n",
       "\n",
       "     country                genre director                        actors  \\\n",
       "2318      []          ['코미디', '']  ['정다원']  ['라미란', '이성경', '윤상현', '최수영']   \n",
       "7510      []  ['코미디', '액션', '범죄']  ['정다원']                ['라미란', '이성경']   \n",
       "\n",
       "      released_year  runtime  \\\n",
       "2318         2018.0        0   \n",
       "7510            NaN      107   \n",
       "\n",
       "                                                summary  rating  \\\n",
       "2318  ′민원실 퇴출 0순위 전직 전설의 형사 ′미영′과 민원실로 밀려난 현직 꼴통 형사 ...     6.0   \n",
       "7510  민원실 퇴출 0순위 전직 전설의 형사 미영과 민원실로 밀려난 현직 꼴통 형사 지혜....     0.0   \n",
       "\n",
       "                                                 imgurl  ott.tving  \\\n",
       "2318  https://image.tving.com/upload/cms/caim/CAIM21...        1.0   \n",
       "7510  https://img.coupangstreaming.com/titles/243d41...        NaN   \n",
       "\n",
       "      ott.coupang  \n",
       "2318          NaN  \n",
       "7510          1.0  "
      ]
     },
     "execution_count": 155,
     "metadata": {},
     "output_type": "execute_result"
    }
   ],
   "source": [
    "tv_cou_df[tv_cou_df['title'] == '걸캅스']"
   ]
  },
  {
   "cell_type": "code",
   "execution_count": 161,
   "id": "081a9b12",
   "metadata": {},
   "outputs": [
    {
     "name": "stderr",
     "output_type": "stream",
     "text": [
      "/usr/local/lib/python3.9/site-packages/pandas/core/series.py:1056: SettingWithCopyWarning: \n",
      "A value is trying to be set on a copy of a slice from a DataFrame\n",
      "\n",
      "See the caveats in the documentation: https://pandas.pydata.org/pandas-docs/stable/user_guide/indexing.html#returning-a-view-versus-a-copy\n",
      "  cacher_needs_updating = self._check_is_chained_assignment_possible()\n"
     ]
    }
   ],
   "source": [
    "for idx in dup_index:\n",
    "    if idx < 5753:\n",
    "        # tving_index\n",
    "        coupang_idx = search_dup_data_in_coupang(tv_cou_df.loc[idx]['title'], tv_cou_df)\n",
    "        if coupang_idx is None:\n",
    "            continue\n",
    "        cur_data = tv_cou_df.loc[idx]\n",
    "        for i in ['runtime', 'genre', 'actors', 'ott.coupang']:\n",
    "            if len(str(cur_data[i])) <= len(str(tv_cou_df.loc[coupang_idx][i])):\n",
    "                cur_data[i] = tv_cou_df.loc[coupang_idx][i]\n",
    "        tv_cou_df = tv_cou_df.drop(coupang_idx)\n",
    "        tv_cou_df.loc[idx] = cur_data"
   ]
  },
  {
   "cell_type": "code",
   "execution_count": 160,
   "id": "34fb6b95",
   "metadata": {},
   "outputs": [],
   "source": [
    "def search_dup_data_in_coupang(title, df):\n",
    "    for idx in dup_index:\n",
    "        if idx < 5753:\n",
    "            continue\n",
    "        # coupang_index\n",
    "        try:\n",
    "            com_title = df.loc[idx]['title']\n",
    "        except:\n",
    "            continue\n",
    "        if df.loc[idx]['title'] == title:\n",
    "            return idx"
   ]
  },
  {
   "cell_type": "code",
   "execution_count": 162,
   "id": "fb555d08",
   "metadata": {},
   "outputs": [
    {
     "data": {
      "text/html": [
       "<div>\n",
       "<style scoped>\n",
       "    .dataframe tbody tr th:only-of-type {\n",
       "        vertical-align: middle;\n",
       "    }\n",
       "\n",
       "    .dataframe tbody tr th {\n",
       "        vertical-align: top;\n",
       "    }\n",
       "\n",
       "    .dataframe thead th {\n",
       "        text-align: right;\n",
       "    }\n",
       "</style>\n",
       "<table border=\"1\" class=\"dataframe\">\n",
       "  <thead>\n",
       "    <tr style=\"text-align: right;\">\n",
       "      <th></th>\n",
       "      <th>id</th>\n",
       "      <th>title</th>\n",
       "      <th>original_title</th>\n",
       "      <th>category</th>\n",
       "      <th>country</th>\n",
       "      <th>genre</th>\n",
       "      <th>director</th>\n",
       "      <th>actors</th>\n",
       "      <th>released_year</th>\n",
       "      <th>runtime</th>\n",
       "      <th>summary</th>\n",
       "      <th>rating</th>\n",
       "      <th>imgurl</th>\n",
       "      <th>ott.tving</th>\n",
       "      <th>ott.coupang</th>\n",
       "    </tr>\n",
       "  </thead>\n",
       "  <tbody>\n",
       "    <tr>\n",
       "      <th>2318</th>\n",
       "      <td>M000234633</td>\n",
       "      <td>걸캅스</td>\n",
       "      <td>Miss ＆ Mrs. Cops</td>\n",
       "      <td>영화</td>\n",
       "      <td>[]</td>\n",
       "      <td>['코미디', '액션', '범죄']</td>\n",
       "      <td>['정다원']</td>\n",
       "      <td>['라미란', '이성경', '윤상현', '최수영']</td>\n",
       "      <td>2018.0</td>\n",
       "      <td>107</td>\n",
       "      <td>′민원실 퇴출 0순위 전직 전설의 형사 ′미영′과 민원실로 밀려난 현직 꼴통 형사 ...</td>\n",
       "      <td>6.0</td>\n",
       "      <td>https://image.tving.com/upload/cms/caim/CAIM21...</td>\n",
       "      <td>1.0</td>\n",
       "      <td>1.0</td>\n",
       "    </tr>\n",
       "  </tbody>\n",
       "</table>\n",
       "</div>"
      ],
      "text/plain": [
       "              id title    original_title category country  \\\n",
       "2318  M000234633   걸캅스  Miss ＆ Mrs. Cops       영화      []   \n",
       "\n",
       "                    genre director                        actors  \\\n",
       "2318  ['코미디', '액션', '범죄']  ['정다원']  ['라미란', '이성경', '윤상현', '최수영']   \n",
       "\n",
       "      released_year  runtime  \\\n",
       "2318         2018.0      107   \n",
       "\n",
       "                                                summary  rating  \\\n",
       "2318  ′민원실 퇴출 0순위 전직 전설의 형사 ′미영′과 민원실로 밀려난 현직 꼴통 형사 ...     6.0   \n",
       "\n",
       "                                                 imgurl  ott.tving  \\\n",
       "2318  https://image.tving.com/upload/cms/caim/CAIM21...        1.0   \n",
       "\n",
       "      ott.coupang  \n",
       "2318          1.0  "
      ]
     },
     "execution_count": 162,
     "metadata": {},
     "output_type": "execute_result"
    }
   ],
   "source": [
    "tv_cou_df[tv_cou_df['title'] == '걸캅스']"
   ]
  },
  {
   "cell_type": "code",
   "execution_count": 163,
   "id": "f82701a7",
   "metadata": {},
   "outputs": [
    {
     "data": {
      "text/plain": [
       "0"
      ]
     },
     "execution_count": 163,
     "metadata": {},
     "output_type": "execute_result"
    }
   ],
   "source": [
    "len(tv_cou_df[tv_cou_df.duplicated(['title', 'category', 'director'])])"
   ]
  },
  {
   "cell_type": "code",
   "execution_count": 164,
   "id": "024a33ed",
   "metadata": {},
   "outputs": [
    {
     "data": {
      "text/plain": [
       "7182"
      ]
     },
     "execution_count": 164,
     "metadata": {},
     "output_type": "execute_result"
    }
   ],
   "source": [
    "len(tv_cou_df)"
   ]
  },
  {
   "cell_type": "markdown",
   "id": "2cd3efa5",
   "metadata": {},
   "source": [
    "# JustWatch + Tving Data + Coupang"
   ]
  },
  {
   "cell_type": "code",
   "execution_count": 165,
   "id": "191880b3",
   "metadata": {},
   "outputs": [],
   "source": [
    "total_data = pd.concat([jw_df, tv_cou_df], ignore_index=True)"
   ]
  },
  {
   "cell_type": "code",
   "execution_count": 166,
   "id": "dd137db6",
   "metadata": {},
   "outputs": [
    {
     "data": {
      "text/plain": [
       "24937"
      ]
     },
     "execution_count": 166,
     "metadata": {},
     "output_type": "execute_result"
    }
   ],
   "source": [
    "len(total_data)"
   ]
  },
  {
   "cell_type": "code",
   "execution_count": 167,
   "id": "f88077b6",
   "metadata": {},
   "outputs": [
    {
     "data": {
      "text/html": [
       "<div>\n",
       "<style scoped>\n",
       "    .dataframe tbody tr th:only-of-type {\n",
       "        vertical-align: middle;\n",
       "    }\n",
       "\n",
       "    .dataframe tbody tr th {\n",
       "        vertical-align: top;\n",
       "    }\n",
       "\n",
       "    .dataframe thead th {\n",
       "        text-align: right;\n",
       "    }\n",
       "</style>\n",
       "<table border=\"1\" class=\"dataframe\">\n",
       "  <thead>\n",
       "    <tr style=\"text-align: right;\">\n",
       "      <th></th>\n",
       "      <th>id</th>\n",
       "      <th>title</th>\n",
       "      <th>original_title</th>\n",
       "      <th>category</th>\n",
       "      <th>country</th>\n",
       "      <th>genre</th>\n",
       "      <th>director</th>\n",
       "      <th>actors</th>\n",
       "      <th>released_year</th>\n",
       "      <th>runtime</th>\n",
       "      <th>summary</th>\n",
       "      <th>rating</th>\n",
       "      <th>imgurl</th>\n",
       "      <th>ott.coupang</th>\n",
       "      <th>ott.Netflix</th>\n",
       "      <th>ott.tving</th>\n",
       "      <th>ott.Watcha</th>\n",
       "      <th>ott.wavve</th>\n",
       "    </tr>\n",
       "  </thead>\n",
       "  <tbody>\n",
       "    <tr>\n",
       "      <th>0</th>\n",
       "      <td>10</td>\n",
       "      <td>홈랜드</td>\n",
       "      <td>Homeland</td>\n",
       "      <td>TV 프로그램</td>\n",
       "      <td>['미국']</td>\n",
       "      <td>['액션', '전쟁', '드라마', '스릴러', '범죄']</td>\n",
       "      <td>[]</td>\n",
       "      <td>['Claire Danes', 'Maury Sterling', 'Numan Acar...</td>\n",
       "      <td>2011.0</td>\n",
       "      <td>52.0</td>\n",
       "      <td>미 해병대 보병 부사관인 니콜라스 브로디 하사는 이라크 자유작전(이라크 전쟁) 중 ...</td>\n",
       "      <td>7.9</td>\n",
       "      <td>https://images.justwatch.com/poster/46536252/s332</td>\n",
       "      <td>None</td>\n",
       "      <td>['정액제']</td>\n",
       "      <td>None</td>\n",
       "      <td>None</td>\n",
       "      <td>None</td>\n",
       "    </tr>\n",
       "    <tr>\n",
       "      <th>1</th>\n",
       "      <td>112614</td>\n",
       "      <td>중경삼림</td>\n",
       "      <td>重慶森林</td>\n",
       "      <td>영화</td>\n",
       "      <td>['홍콩']</td>\n",
       "      <td>['로맨스', '코미디', '범죄', '드라마']</td>\n",
       "      <td>['Wong Kar-wai']</td>\n",
       "      <td>['Brigitte Lin', 'Tony Leung Chiu-wai', 'Faye ...</td>\n",
       "      <td>1994.0</td>\n",
       "      <td>103.0</td>\n",
       "      <td>경찰 223은 헤어진 옛 애인을 기다리며, 1달 동안 그녀에게서 연락이 오지 않으면...</td>\n",
       "      <td>8.1</td>\n",
       "      <td>https://images.justwatch.com/poster/241789176/...</td>\n",
       "      <td>None</td>\n",
       "      <td>None</td>\n",
       "      <td>None</td>\n",
       "      <td>['정액제']</td>\n",
       "      <td>None</td>\n",
       "    </tr>\n",
       "  </tbody>\n",
       "</table>\n",
       "</div>"
      ],
      "text/plain": [
       "       id title original_title category country  \\\n",
       "0      10   홈랜드       Homeland  TV 프로그램  ['미국']   \n",
       "1  112614  중경삼림           重慶森林       영화  ['홍콩']   \n",
       "\n",
       "                              genre          director  \\\n",
       "0  ['액션', '전쟁', '드라마', '스릴러', '범죄']                []   \n",
       "1       ['로맨스', '코미디', '범죄', '드라마']  ['Wong Kar-wai']   \n",
       "\n",
       "                                              actors  released_year  runtime  \\\n",
       "0  ['Claire Danes', 'Maury Sterling', 'Numan Acar...         2011.0     52.0   \n",
       "1  ['Brigitte Lin', 'Tony Leung Chiu-wai', 'Faye ...         1994.0    103.0   \n",
       "\n",
       "                                             summary  rating  \\\n",
       "0  미 해병대 보병 부사관인 니콜라스 브로디 하사는 이라크 자유작전(이라크 전쟁) 중 ...     7.9   \n",
       "1  경찰 223은 헤어진 옛 애인을 기다리며, 1달 동안 그녀에게서 연락이 오지 않으면...     8.1   \n",
       "\n",
       "                                              imgurl ott.coupang ott.Netflix  \\\n",
       "0  https://images.justwatch.com/poster/46536252/s332        None     ['정액제']   \n",
       "1  https://images.justwatch.com/poster/241789176/...        None        None   \n",
       "\n",
       "  ott.tving ott.Watcha ott.wavve  \n",
       "0      None       None      None  \n",
       "1      None    ['정액제']      None  "
      ]
     },
     "execution_count": 167,
     "metadata": {},
     "output_type": "execute_result"
    }
   ],
   "source": [
    "total_data.head(2)"
   ]
  },
  {
   "cell_type": "code",
   "execution_count": 168,
   "id": "450b5226",
   "metadata": {},
   "outputs": [
    {
     "data": {
      "text/plain": [
       "0"
      ]
     },
     "execution_count": 168,
     "metadata": {},
     "output_type": "execute_result"
    }
   ],
   "source": [
    "len(total_data[total_data.duplicated()])"
   ]
  },
  {
   "cell_type": "markdown",
   "id": "15fbd82b",
   "metadata": {},
   "source": [
    "# 중복 데이터 제거 ((Tving+Coupang)과 justwatch 겹치는 목록)"
   ]
  },
  {
   "cell_type": "code",
   "execution_count": 169,
   "id": "f7569428",
   "metadata": {},
   "outputs": [
    {
     "name": "stdout",
     "output_type": "stream",
     "text": [
      "Int64Index([    3,     4,     6,     8,    10,    11,    12,    17,    21,\n",
      "               24,\n",
      "            ...\n",
      "            23494, 23495, 23497, 23500, 23502, 23503, 23504, 23505, 23506,\n",
      "            23507],\n",
      "           dtype='int64', length=4234)\n"
     ]
    }
   ],
   "source": [
    "# 중복되는 인덱스의 배열\n",
    "dup_index = total_data[total_data.duplicated(['title', 'category', 'released_year'], keep=False)].index\n",
    "print(dup_index)"
   ]
  },
  {
   "cell_type": "code",
   "execution_count": 174,
   "id": "116009eb",
   "metadata": {},
   "outputs": [
    {
     "data": {
      "text/html": [
       "<div>\n",
       "<style scoped>\n",
       "    .dataframe tbody tr th:only-of-type {\n",
       "        vertical-align: middle;\n",
       "    }\n",
       "\n",
       "    .dataframe tbody tr th {\n",
       "        vertical-align: top;\n",
       "    }\n",
       "\n",
       "    .dataframe thead th {\n",
       "        text-align: right;\n",
       "    }\n",
       "</style>\n",
       "<table border=\"1\" class=\"dataframe\">\n",
       "  <thead>\n",
       "    <tr style=\"text-align: right;\">\n",
       "      <th></th>\n",
       "      <th>id</th>\n",
       "      <th>title</th>\n",
       "      <th>original_title</th>\n",
       "      <th>category</th>\n",
       "      <th>country</th>\n",
       "      <th>genre</th>\n",
       "      <th>director</th>\n",
       "      <th>actors</th>\n",
       "      <th>released_year</th>\n",
       "      <th>runtime</th>\n",
       "      <th>summary</th>\n",
       "      <th>rating</th>\n",
       "      <th>imgurl</th>\n",
       "      <th>ott.coupang</th>\n",
       "      <th>ott.Netflix</th>\n",
       "      <th>ott.tving</th>\n",
       "      <th>ott.Watcha</th>\n",
       "      <th>ott.wavve</th>\n",
       "    </tr>\n",
       "  </thead>\n",
       "  <tbody>\n",
       "    <tr>\n",
       "      <th>3</th>\n",
       "      <td>7320</td>\n",
       "      <td>유주얼 서스펙트</td>\n",
       "      <td>The Usual Suspects</td>\n",
       "      <td>영화</td>\n",
       "      <td>['미국']</td>\n",
       "      <td>['스릴러', '드라마', '범죄']</td>\n",
       "      <td>['Bryan Singer']</td>\n",
       "      <td>['Gabriel Byrne', 'Stephen Baldwin', 'Kevin Sp...</td>\n",
       "      <td>1995.0</td>\n",
       "      <td>106.0</td>\n",
       "      <td>산 페드로 부두에서 27명이 사망하고 9,100만달러가 증발하는 유혈극이 벌어진다....</td>\n",
       "      <td>8.3</td>\n",
       "      <td>https://images.justwatch.com/poster/8655298/s332</td>\n",
       "      <td>None</td>\n",
       "      <td>['정액제']</td>\n",
       "      <td>None</td>\n",
       "      <td>None</td>\n",
       "      <td>['정액제', '구매', '대여']</td>\n",
       "    </tr>\n",
       "    <tr>\n",
       "      <th>20942</th>\n",
       "      <td>M000321034</td>\n",
       "      <td>유주얼 서스펙트</td>\n",
       "      <td>The Usual Suspects</td>\n",
       "      <td>영화</td>\n",
       "      <td>[]</td>\n",
       "      <td>['스릴러', '']</td>\n",
       "      <td>['브라이언 싱어']</td>\n",
       "      <td>['스티븐 볼드윈', '가브리엘 번', '베네치오 델 토로', '채즈 팔민테리', ...</td>\n",
       "      <td>1995.0</td>\n",
       "      <td>0.0</td>\n",
       "      <td>산페드로 부두, 27명이 사망하고 9,100만달러가 증발하는 유혈극이 벌어진다. 수...</td>\n",
       "      <td>9.0</td>\n",
       "      <td>https://image.tving.com/upload/cms/caim/CAIM21...</td>\n",
       "      <td>NaN</td>\n",
       "      <td>NaN</td>\n",
       "      <td>1.0</td>\n",
       "      <td>NaN</td>\n",
       "      <td>NaN</td>\n",
       "    </tr>\n",
       "  </tbody>\n",
       "</table>\n",
       "</div>"
      ],
      "text/plain": [
       "               id     title      original_title category country  \\\n",
       "3            7320  유주얼 서스펙트  The Usual Suspects       영화  ['미국']   \n",
       "20942  M000321034  유주얼 서스펙트  The Usual Suspects       영화      []   \n",
       "\n",
       "                      genre          director  \\\n",
       "3      ['스릴러', '드라마', '범죄']  ['Bryan Singer']   \n",
       "20942           ['스릴러', '']       ['브라이언 싱어']   \n",
       "\n",
       "                                                  actors  released_year  \\\n",
       "3      ['Gabriel Byrne', 'Stephen Baldwin', 'Kevin Sp...         1995.0   \n",
       "20942  ['스티븐 볼드윈', '가브리엘 번', '베네치오 델 토로', '채즈 팔민테리', ...         1995.0   \n",
       "\n",
       "       runtime                                            summary  rating  \\\n",
       "3        106.0  산 페드로 부두에서 27명이 사망하고 9,100만달러가 증발하는 유혈극이 벌어진다....     8.3   \n",
       "20942      0.0  산페드로 부두, 27명이 사망하고 9,100만달러가 증발하는 유혈극이 벌어진다. 수...     9.0   \n",
       "\n",
       "                                                  imgurl ott.coupang  \\\n",
       "3       https://images.justwatch.com/poster/8655298/s332        None   \n",
       "20942  https://image.tving.com/upload/cms/caim/CAIM21...         NaN   \n",
       "\n",
       "      ott.Netflix ott.tving ott.Watcha            ott.wavve  \n",
       "3         ['정액제']      None       None  ['정액제', '구매', '대여']  \n",
       "20942         NaN       1.0        NaN                  NaN  "
      ]
     },
     "execution_count": 174,
     "metadata": {},
     "output_type": "execute_result"
    }
   ],
   "source": [
    "total_data[total_data['title'] == '유주얼 서스펙트']"
   ]
  },
  {
   "cell_type": "code",
   "execution_count": 177,
   "id": "6257c821",
   "metadata": {},
   "outputs": [
    {
     "data": {
      "text/html": [
       "<div>\n",
       "<style scoped>\n",
       "    .dataframe tbody tr th:only-of-type {\n",
       "        vertical-align: middle;\n",
       "    }\n",
       "\n",
       "    .dataframe tbody tr th {\n",
       "        vertical-align: top;\n",
       "    }\n",
       "\n",
       "    .dataframe thead th {\n",
       "        text-align: right;\n",
       "    }\n",
       "</style>\n",
       "<table border=\"1\" class=\"dataframe\">\n",
       "  <thead>\n",
       "    <tr style=\"text-align: right;\">\n",
       "      <th></th>\n",
       "      <th>id</th>\n",
       "      <th>title</th>\n",
       "      <th>original_title</th>\n",
       "      <th>category</th>\n",
       "      <th>country</th>\n",
       "      <th>genre</th>\n",
       "      <th>director</th>\n",
       "      <th>actors</th>\n",
       "      <th>released_year</th>\n",
       "      <th>runtime</th>\n",
       "      <th>summary</th>\n",
       "      <th>rating</th>\n",
       "      <th>imgurl</th>\n",
       "      <th>ott.coupang</th>\n",
       "      <th>ott.Netflix</th>\n",
       "      <th>ott.tving</th>\n",
       "      <th>ott.Watcha</th>\n",
       "      <th>ott.wavve</th>\n",
       "    </tr>\n",
       "  </thead>\n",
       "  <tbody>\n",
       "    <tr>\n",
       "      <th>2931</th>\n",
       "      <td>28886</td>\n",
       "      <td>괴물</td>\n",
       "      <td>괴물</td>\n",
       "      <td>영화</td>\n",
       "      <td>['대한민국']</td>\n",
       "      <td>['공포', '애니메이션', 'SF', '액션', '드라마']</td>\n",
       "      <td>['Bong Joon-ho']</td>\n",
       "      <td>['Song Kang-ho', 'Byun Hee-bong', 'Park Hae-il...</td>\n",
       "      <td>2006.0</td>\n",
       "      <td>120.0</td>\n",
       "      <td>아버지가 운영하는 한강매점, 늘어지게 낮잠 자던 강두는 우연히 특이한 광경을 목격하...</td>\n",
       "      <td>7.0</td>\n",
       "      <td>https://images.justwatch.com/poster/193809351/...</td>\n",
       "      <td>None</td>\n",
       "      <td>['정액제']</td>\n",
       "      <td>None</td>\n",
       "      <td>['정액제']</td>\n",
       "      <td>['구매', '대여']</td>\n",
       "    </tr>\n",
       "    <tr>\n",
       "      <th>21957</th>\n",
       "      <td>M000292336</td>\n",
       "      <td>괴물</td>\n",
       "      <td>The Host</td>\n",
       "      <td>영화</td>\n",
       "      <td>[]</td>\n",
       "      <td>[' 드라마', '패밀리', '액션', 'SF']</td>\n",
       "      <td>['봉준호']</td>\n",
       "      <td>[' 송강호', ' 변희봉', '박해일', '배두나', '고아성']</td>\n",
       "      <td>2006.0</td>\n",
       "      <td>119.0</td>\n",
       "      <td>햇살 가득한 평화로운 한강 둔치 아버지가 운영하는 한강 매점, 늘어지게 낮잠 자던 ...</td>\n",
       "      <td>9.0</td>\n",
       "      <td>https://image.tving.com/upload/cms/caim/CAIM21...</td>\n",
       "      <td>1.0</td>\n",
       "      <td>NaN</td>\n",
       "      <td>1.0</td>\n",
       "      <td>NaN</td>\n",
       "      <td>NaN</td>\n",
       "    </tr>\n",
       "  </tbody>\n",
       "</table>\n",
       "</div>"
      ],
      "text/plain": [
       "               id title original_title category   country  \\\n",
       "2931        28886    괴물             괴물       영화  ['대한민국']   \n",
       "21957  M000292336    괴물       The Host       영화        []   \n",
       "\n",
       "                                    genre          director  \\\n",
       "2931   ['공포', '애니메이션', 'SF', '액션', '드라마']  ['Bong Joon-ho']   \n",
       "21957         [' 드라마', '패밀리', '액션', 'SF']           ['봉준호']   \n",
       "\n",
       "                                                  actors  released_year  \\\n",
       "2931   ['Song Kang-ho', 'Byun Hee-bong', 'Park Hae-il...         2006.0   \n",
       "21957              [' 송강호', ' 변희봉', '박해일', '배두나', '고아성']         2006.0   \n",
       "\n",
       "       runtime                                            summary  rating  \\\n",
       "2931     120.0  아버지가 운영하는 한강매점, 늘어지게 낮잠 자던 강두는 우연히 특이한 광경을 목격하...     7.0   \n",
       "21957    119.0  햇살 가득한 평화로운 한강 둔치 아버지가 운영하는 한강 매점, 늘어지게 낮잠 자던 ...     9.0   \n",
       "\n",
       "                                                  imgurl ott.coupang  \\\n",
       "2931   https://images.justwatch.com/poster/193809351/...        None   \n",
       "21957  https://image.tving.com/upload/cms/caim/CAIM21...         1.0   \n",
       "\n",
       "      ott.Netflix ott.tving ott.Watcha     ott.wavve  \n",
       "2931      ['정액제']      None    ['정액제']  ['구매', '대여']  \n",
       "21957         NaN       1.0        NaN           NaN  "
      ]
     },
     "execution_count": 177,
     "metadata": {},
     "output_type": "execute_result"
    }
   ],
   "source": [
    "total_data[(total_data['title']=='괴물') & (total_data['category']=='영화') & (total_data['released_year']==2006)]"
   ]
  },
  {
   "cell_type": "code",
   "execution_count": 171,
   "id": "e78d17a7",
   "metadata": {},
   "outputs": [
    {
     "data": {
      "text/plain": [
       "24937"
      ]
     },
     "execution_count": 171,
     "metadata": {},
     "output_type": "execute_result"
    }
   ],
   "source": [
    "len(total_data)"
   ]
  },
  {
   "cell_type": "code",
   "execution_count": 180,
   "id": "69600e08",
   "metadata": {},
   "outputs": [
    {
     "name": "stdout",
     "output_type": "stream",
     "text": [
      "error\n",
      "error\n",
      "error\n",
      "error\n",
      "error\n",
      "error\n",
      "error\n",
      "error\n",
      "error\n",
      "error\n",
      "error\n"
     ]
    }
   ],
   "source": [
    "for idx in dup_index:\n",
    "    if idx < 17764:\n",
    "        # justwatch data\n",
    "        tving_idx = search_dup_data_in_tving(total_data.loc[idx])\n",
    "        if tving_idx is None:\n",
    "            print(\"error\")\n",
    "            continue\n",
    "        cur_data = total_data.loc[idx]\n",
    "        for i in ['director', 'actors', 'ott.tving', 'ott.coupang']:\n",
    "            cur_data[i] = total_data.loc[tving_idx][i]\n",
    "        total_data = total_data.drop(tving_idx)\n",
    "        total_data.loc[idx] = cur_data"
   ]
  },
  {
   "cell_type": "code",
   "execution_count": 178,
   "id": "53e1c837",
   "metadata": {},
   "outputs": [],
   "source": [
    "def search_dup_data_in_tving(data):\n",
    "    for idx in dup_index:\n",
    "        if idx < 17764:\n",
    "            continue\n",
    "        try:\n",
    "            com_data = total_data.loc[idx]\n",
    "        except:\n",
    "            continue\n",
    "        if com_data['title'] == data['title'] and com_data['category'] == data['category'] and com_data['released_year'] == data['released_year']:\n",
    "            return idx"
   ]
  },
  {
   "cell_type": "code",
   "execution_count": 181,
   "id": "e6d319bb",
   "metadata": {},
   "outputs": [
    {
     "data": {
      "text/plain": [
       "22831"
      ]
     },
     "execution_count": 181,
     "metadata": {},
     "output_type": "execute_result"
    }
   ],
   "source": [
    "len(total_data)"
   ]
  },
  {
   "cell_type": "code",
   "execution_count": 182,
   "id": "eb6890a4",
   "metadata": {},
   "outputs": [
    {
     "data": {
      "text/html": [
       "<div>\n",
       "<style scoped>\n",
       "    .dataframe tbody tr th:only-of-type {\n",
       "        vertical-align: middle;\n",
       "    }\n",
       "\n",
       "    .dataframe tbody tr th {\n",
       "        vertical-align: top;\n",
       "    }\n",
       "\n",
       "    .dataframe thead th {\n",
       "        text-align: right;\n",
       "    }\n",
       "</style>\n",
       "<table border=\"1\" class=\"dataframe\">\n",
       "  <thead>\n",
       "    <tr style=\"text-align: right;\">\n",
       "      <th></th>\n",
       "      <th>id</th>\n",
       "      <th>title</th>\n",
       "      <th>original_title</th>\n",
       "      <th>category</th>\n",
       "      <th>country</th>\n",
       "      <th>genre</th>\n",
       "      <th>director</th>\n",
       "      <th>actors</th>\n",
       "      <th>released_year</th>\n",
       "      <th>runtime</th>\n",
       "      <th>summary</th>\n",
       "      <th>rating</th>\n",
       "      <th>imgurl</th>\n",
       "      <th>ott.coupang</th>\n",
       "      <th>ott.Netflix</th>\n",
       "      <th>ott.tving</th>\n",
       "      <th>ott.Watcha</th>\n",
       "      <th>ott.wavve</th>\n",
       "    </tr>\n",
       "  </thead>\n",
       "  <tbody>\n",
       "    <tr>\n",
       "      <th>5477</th>\n",
       "      <td>64123</td>\n",
       "      <td>아수라</td>\n",
       "      <td>アシュラ</td>\n",
       "      <td>영화</td>\n",
       "      <td>['일본']</td>\n",
       "      <td>['공포', '애니메이션', '액션', '드라마', '역사']</td>\n",
       "      <td>['Keiichi Sato']</td>\n",
       "      <td>['Masako Nozawa', 'Hiroaki Hirata', 'Kinya Kit...</td>\n",
       "      <td>2012.0</td>\n",
       "      <td>76.0</td>\n",
       "      <td>“태어나지 않는 편이 좋았을 텐데…”  15세기 중기(무로마치 시대)의 교토는 그야...</td>\n",
       "      <td>6.8</td>\n",
       "      <td>https://images.justwatch.com/poster/94291387/s332</td>\n",
       "      <td>None</td>\n",
       "      <td>None</td>\n",
       "      <td>None</td>\n",
       "      <td>None</td>\n",
       "      <td>['정액제', '대여']</td>\n",
       "    </tr>\n",
       "    <tr>\n",
       "      <th>8593</th>\n",
       "      <td>247629</td>\n",
       "      <td>아수라</td>\n",
       "      <td>아수라</td>\n",
       "      <td>영화</td>\n",
       "      <td>['대한민국']</td>\n",
       "      <td>['범죄', '액션', '드라마', '스릴러']</td>\n",
       "      <td>['김성수']</td>\n",
       "      <td>['정우성', '황정민', '주지훈', '곽도원']</td>\n",
       "      <td>2016.0</td>\n",
       "      <td>136.0</td>\n",
       "      <td>강력계 형사 한도경은 이권과 성공을 위해 각종 범죄를 저지르는 악덕시장 박성배의 뒷...</td>\n",
       "      <td>6.7</td>\n",
       "      <td>https://images.justwatch.com/poster/9627223/s332</td>\n",
       "      <td>1.0</td>\n",
       "      <td>['정액제']</td>\n",
       "      <td>1.0</td>\n",
       "      <td>None</td>\n",
       "      <td>['구매', '대여']</td>\n",
       "    </tr>\n",
       "    <tr>\n",
       "      <th>22405</th>\n",
       "      <td>M000144672</td>\n",
       "      <td>아수라</td>\n",
       "      <td>Asura</td>\n",
       "      <td>영화</td>\n",
       "      <td>[]</td>\n",
       "      <td>['공포(호러)', '']</td>\n",
       "      <td>['사토 케이이치']</td>\n",
       "      <td>['노자와 마사코', '하야시바라 메구미']</td>\n",
       "      <td>2013.0</td>\n",
       "      <td>0.0</td>\n",
       "      <td>“태어나지 않는 편이 좋았을 텐데...”15세기 중기(무로마치 시대)의 교토는 그야...</td>\n",
       "      <td>9.0</td>\n",
       "      <td>https://image.tving.com/upload/cms/caim/CAIM21...</td>\n",
       "      <td>NaN</td>\n",
       "      <td>NaN</td>\n",
       "      <td>1.0</td>\n",
       "      <td>NaN</td>\n",
       "      <td>NaN</td>\n",
       "    </tr>\n",
       "  </tbody>\n",
       "</table>\n",
       "</div>"
      ],
      "text/plain": [
       "               id title original_title category   country  \\\n",
       "5477        64123   아수라           アシュラ       영화    ['일본']   \n",
       "8593       247629   아수라            아수라       영화  ['대한민국']   \n",
       "22405  M000144672   아수라          Asura       영화        []   \n",
       "\n",
       "                                    genre          director  \\\n",
       "5477   ['공포', '애니메이션', '액션', '드라마', '역사']  ['Keiichi Sato']   \n",
       "8593           ['범죄', '액션', '드라마', '스릴러']           ['김성수']   \n",
       "22405                      ['공포(호러)', '']       ['사토 케이이치']   \n",
       "\n",
       "                                                  actors  released_year  \\\n",
       "5477   ['Masako Nozawa', 'Hiroaki Hirata', 'Kinya Kit...         2012.0   \n",
       "8593                        ['정우성', '황정민', '주지훈', '곽도원']         2016.0   \n",
       "22405                           ['노자와 마사코', '하야시바라 메구미']         2013.0   \n",
       "\n",
       "       runtime                                            summary  rating  \\\n",
       "5477      76.0  “태어나지 않는 편이 좋았을 텐데…”  15세기 중기(무로마치 시대)의 교토는 그야...     6.8   \n",
       "8593     136.0  강력계 형사 한도경은 이권과 성공을 위해 각종 범죄를 저지르는 악덕시장 박성배의 뒷...     6.7   \n",
       "22405      0.0  “태어나지 않는 편이 좋았을 텐데...”15세기 중기(무로마치 시대)의 교토는 그야...     9.0   \n",
       "\n",
       "                                                  imgurl ott.coupang  \\\n",
       "5477   https://images.justwatch.com/poster/94291387/s332        None   \n",
       "8593    https://images.justwatch.com/poster/9627223/s332         1.0   \n",
       "22405  https://image.tving.com/upload/cms/caim/CAIM21...         NaN   \n",
       "\n",
       "      ott.Netflix ott.tving ott.Watcha      ott.wavve  \n",
       "5477         None      None       None  ['정액제', '대여']  \n",
       "8593      ['정액제']       1.0       None   ['구매', '대여']  \n",
       "22405         NaN       1.0        NaN            NaN  "
      ]
     },
     "execution_count": 182,
     "metadata": {},
     "output_type": "execute_result"
    }
   ],
   "source": [
    "total_data[total_data['title']=='아수라']"
   ]
  },
  {
   "cell_type": "markdown",
   "id": "18777539",
   "metadata": {},
   "source": [
    "# 중복 데이터 제거 2 (노가다)"
   ]
  },
  {
   "cell_type": "code",
   "execution_count": 193,
   "id": "2a374159",
   "metadata": {},
   "outputs": [],
   "source": [
    "from collections import defaultdict\n",
    "title_category = defaultdict(list)\n",
    "for i in total_data[total_data.duplicated(['title', 'category'], keep=False)].index:\n",
    "    cur = total_data.loc[i]\n",
    "    title_category[(cur['title'], cur['category'])].append(i)"
   ]
  },
  {
   "cell_type": "code",
   "execution_count": 196,
   "id": "86b5e89c",
   "metadata": {},
   "outputs": [
    {
     "data": {
      "text/plain": [
       "{('비트', '영화'): [89, 14140, 24152],\n",
       " ('로미오와 줄리엣', '영화'): [157, 297, 7001],\n",
       " ('나쁜 녀석들', '영화'): [175, 6718, 24477],\n",
       " ('차이나타운', '영화'): [254, 7489, 21218],\n",
       " ('인페르노', '영화'): [322, 8642, 24318],\n",
       " ('벤허', '영화'): [368, 853, 8803, 24565],\n",
       " ('뮬란', '영화'): [376, 15401, 21960],\n",
       " ('엠마', '영화'): [400, 15411, 24589],\n",
       " ('순수의 시대', '영화'): [420, 7827, 24209],\n",
       " ('하울링', '영화'): [465, 5220, 23058],\n",
       " ('위대한 유산', '영화'): [483, 582, 2378, 5874],\n",
       " ('적과의 동침', '영화'): [574, 4986, 17042, 21991],\n",
       " ('은밀한 유혹', '영화'): [583, 8075, 20604],\n",
       " ('천녀유혼', '영화'): [620, 4919, 21547],\n",
       " ('스트리트 파이터', '영화'): [680, 1516, 24629],\n",
       " ('젊은이의 양지', '영화'): [714, 15433, 21137],\n",
       " ('연인', '영화'): [737, 2525, 24227],\n",
       " ('안나 카레니나', '영화'): [748, 1414, 5172],\n",
       " ('열혈남아', '영화'): [854, 3018, 24343],\n",
       " ('리벤지', '영화'): [894, 11697, 20730],\n",
       " ('레 미제라블', '영화'): [928, 13661, 20488],\n",
       " ('소공녀', '영화'): [1251, 11672, 24377],\n",
       " ('모모', '영화'): [1293, 4127, 9214],\n",
       " ('빈센트', '영화'): [1315, 7073, 10674],\n",
       " ('기문둔갑', '영화'): [1669, 10576, 15843],\n",
       " ('암전', '영화'): [1704, 14304, 20365],\n",
       " ('장마', '영화'): [1727, 16029, 23342],\n",
       " ('하루', '영화'): [2066, 7241, 10531],\n",
       " ('챔피언', '영화'): [2209, 12001, 20041, 21315],\n",
       " ('빅 피쉬', '영화'): [2292, 10461, 24374],\n",
       " ('몬스터', '영화'): [2302, 6308, 11879, 22163, 24562],\n",
       " ('헬보이', '영화'): [2506, 13629, 24528],\n",
       " ('숨바꼭질', '영화'): [2756, 5968, 12177, 24190],\n",
       " ('두 여자', '영화'): [2873, 4525, 13755],\n",
       " ('일루셔니스트', '영화'): [2977, 16170, 24496],\n",
       " ('몬스터 하우스', '영화'): [2980, 10489, 24382],\n",
       " ('싸움의 기술', '영화'): [2983, 14665, 22726],\n",
       " ('포세이돈', '영화'): [2997, 7067, 24253],\n",
       " ('귀향', '영화'): [3004, 9322, 22916],\n",
       " ('히트맨', '영화'): [3284, 15682, 20223],\n",
       " ('잃어버린 세계를 찾아서', '영화'): [3582, 13662, 24312],\n",
       " ('마다가스카 2', '영화'): [3615, 21221, 24573],\n",
       " ('클로이', '영화'): [3960, 20593, 24680],\n",
       " ('시크릿', '영화'): [4074, 6143, 22153],\n",
       " ('강철의 연금술사 BROTHERHOOD', 'TV 프로그램'): [4159, 18737, 23827],\n",
       " ('만추', '영화'): [4219, 21572, 24137],\n",
       " ('한나', '영화'): [4676, 10047, 24376],\n",
       " ('더 콜러', '영화'): [4830, 23211, 23212],\n",
       " ('손님', '영화'): [4881, 8018, 20274],\n",
       " ('블라인드', '영화'): [4883, 14148, 21999],\n",
       " ('럭키', '영화'): [4996, 8954, 20402],\n",
       " ('똑똑박사 에디', 'TV 프로그램'): [5105, 19358, 23606],\n",
       " ('비스트', '영화'): [5219, 13841, 23104],\n",
       " ('브레이크', '영화'): [5386, 12312, 13987],\n",
       " ('아수라', '영화'): [5477, 8593, 22405],\n",
       " ('요리공주 루피', 'TV 프로그램'): [5705, 19267, 23602],\n",
       " ('지.아이.조 2', '영화'): [5839, 20508, 24260],\n",
       " ('사이코메트리', '영화'): [6025, 9395, 20943],\n",
       " ('최고의 이혼', 'TV 프로그램'): [6384, 13095, 23538],\n",
       " ('논스톱', '영화'): [6605, 20368, 24372],\n",
       " ('미녀와 야수', '영화'): [6612, 21377, 22950],\n",
       " ('고백', '영화'): [8166, 17343, 21203],\n",
       " ('사라진 시간', '영화'): [8193, 15414, 20396],\n",
       " ('애프터매스', '영화'): [8289, 10167, 17087],\n",
       " ('사일런스', '영화'): [8634, 13658, 24282],\n",
       " ('더 보이', '영화'): [8737, 13580, 22545],\n",
       " ('조작된 도시', '영화'): [10574, 20207, 24127],\n",
       " ('아빠는 딸', '영화'): [11006, 20260, 21643, 24121],\n",
       " ('갈매기', '영화'): [11846, 17273, 21463],\n",
       " ('아직 끝나지 않았다', '영화'): [12005, 21913, 22225],\n",
       " ('침입자', '영화'): [12699, 16121, 20206],\n",
       " ('썰바이벌', 'TV 프로그램'): [17588, 17832, 23547]}"
      ]
     },
     "execution_count": 196,
     "metadata": {},
     "output_type": "execute_result"
    }
   ],
   "source": [
    "dict(filter(lambda x: len(x[1]) > 2, title_category.items()))"
   ]
  },
  {
   "cell_type": "code",
   "execution_count": 376,
   "id": "9ef74996",
   "metadata": {},
   "outputs": [
    {
     "data": {
      "text/html": [
       "<div>\n",
       "<style scoped>\n",
       "    .dataframe tbody tr th:only-of-type {\n",
       "        vertical-align: middle;\n",
       "    }\n",
       "\n",
       "    .dataframe tbody tr th {\n",
       "        vertical-align: top;\n",
       "    }\n",
       "\n",
       "    .dataframe thead th {\n",
       "        text-align: right;\n",
       "    }\n",
       "</style>\n",
       "<table border=\"1\" class=\"dataframe\">\n",
       "  <thead>\n",
       "    <tr style=\"text-align: right;\">\n",
       "      <th></th>\n",
       "      <th>id</th>\n",
       "      <th>title</th>\n",
       "      <th>original_title</th>\n",
       "      <th>category</th>\n",
       "      <th>country</th>\n",
       "      <th>genre</th>\n",
       "      <th>director</th>\n",
       "      <th>actors</th>\n",
       "      <th>released_year</th>\n",
       "      <th>runtime</th>\n",
       "      <th>summary</th>\n",
       "      <th>rating</th>\n",
       "      <th>imgurl</th>\n",
       "      <th>ott.coupang</th>\n",
       "      <th>ott.Netflix</th>\n",
       "      <th>ott.tving</th>\n",
       "      <th>ott.Watcha</th>\n",
       "      <th>ott.wavve</th>\n",
       "    </tr>\n",
       "  </thead>\n",
       "  <tbody>\n",
       "    <tr>\n",
       "      <th>157</th>\n",
       "      <td>109186</td>\n",
       "      <td>로미오와 줄리엣</td>\n",
       "      <td>Romeo + Juliet</td>\n",
       "      <td>영화</td>\n",
       "      <td>['미국']</td>\n",
       "      <td>['드라마', '로맨스', 'Made in Europe']</td>\n",
       "      <td>['Baz Luhrmann']</td>\n",
       "      <td>['Leonardo DiCaprio', 'Claire Danes', 'Jesse B...</td>\n",
       "      <td>1996.0</td>\n",
       "      <td>120.0</td>\n",
       "      <td>정열의 도시 베로나, 태양의 열기가 가득한 이 도시에서 두 가문 몬태규가와 캐플릿가...</td>\n",
       "      <td>6.8</td>\n",
       "      <td>https://images.justwatch.com/poster/15554797/s332</td>\n",
       "      <td>None</td>\n",
       "      <td>None</td>\n",
       "      <td>None</td>\n",
       "      <td>None</td>\n",
       "      <td>['구매']</td>\n",
       "    </tr>\n",
       "    <tr>\n",
       "      <th>297</th>\n",
       "      <td>18906</td>\n",
       "      <td>로미오와 줄리엣</td>\n",
       "      <td>Romeo and Juliet</td>\n",
       "      <td>영화</td>\n",
       "      <td>['이탈리아', '영국']</td>\n",
       "      <td>['로맨스', 'Made in Europe', '드라마']</td>\n",
       "      <td>['Franco Zeffirelli']</td>\n",
       "      <td>['Leonard Whiting', 'Olivia Hussey', 'John McE...</td>\n",
       "      <td>1968.0</td>\n",
       "      <td>138.0</td>\n",
       "      <td>몬태규가의 로미오는 원수 집안인 캐플릿가의 가면파티에 몰래 갔다 우연히 아름다운 여...</td>\n",
       "      <td>7.5</td>\n",
       "      <td>https://images.justwatch.com/poster/16035808/s332</td>\n",
       "      <td>None</td>\n",
       "      <td>['정액제']</td>\n",
       "      <td>None</td>\n",
       "      <td>None</td>\n",
       "      <td>['구매', '대여']</td>\n",
       "    </tr>\n",
       "    <tr>\n",
       "      <th>7001</th>\n",
       "      <td>147996</td>\n",
       "      <td>로미오와 줄리엣</td>\n",
       "      <td>Romeo and Juliet</td>\n",
       "      <td>영화</td>\n",
       "      <td>['미국']</td>\n",
       "      <td>['로맨스', '드라마', '코미디', '판타지', 'SF', 'Made in Eu...</td>\n",
       "      <td>['David Leveaux']</td>\n",
       "      <td>['Orlando Bloom', 'Condola Rashad', 'Christian...</td>\n",
       "      <td>2014.0</td>\n",
       "      <td>135.0</td>\n",
       "      <td>Orlando Bloom and Condola Rashad take on the t...</td>\n",
       "      <td>6.0</td>\n",
       "      <td>https://images.justwatch.com/poster/10252806/s332</td>\n",
       "      <td>None</td>\n",
       "      <td>None</td>\n",
       "      <td>None</td>\n",
       "      <td>['정액제']</td>\n",
       "      <td>None</td>\n",
       "    </tr>\n",
       "  </tbody>\n",
       "</table>\n",
       "</div>"
      ],
      "text/plain": [
       "          id     title    original_title category         country  \\\n",
       "157   109186  로미오와 줄리엣    Romeo + Juliet       영화          ['미국']   \n",
       "297    18906  로미오와 줄리엣  Romeo and Juliet       영화  ['이탈리아', '영국']   \n",
       "7001  147996  로미오와 줄리엣  Romeo and Juliet       영화          ['미국']   \n",
       "\n",
       "                                                  genre  \\\n",
       "157                    ['드라마', '로맨스', 'Made in Europe']   \n",
       "297                    ['로맨스', 'Made in Europe', '드라마']   \n",
       "7001  ['로맨스', '드라마', '코미디', '판타지', 'SF', 'Made in Eu...   \n",
       "\n",
       "                   director  \\\n",
       "157        ['Baz Luhrmann']   \n",
       "297   ['Franco Zeffirelli']   \n",
       "7001      ['David Leveaux']   \n",
       "\n",
       "                                                 actors released_year runtime  \\\n",
       "157   ['Leonardo DiCaprio', 'Claire Danes', 'Jesse B...        1996.0   120.0   \n",
       "297   ['Leonard Whiting', 'Olivia Hussey', 'John McE...        1968.0   138.0   \n",
       "7001  ['Orlando Bloom', 'Condola Rashad', 'Christian...        2014.0   135.0   \n",
       "\n",
       "                                                summary rating  \\\n",
       "157   정열의 도시 베로나, 태양의 열기가 가득한 이 도시에서 두 가문 몬태규가와 캐플릿가...    6.8   \n",
       "297   몬태규가의 로미오는 원수 집안인 캐플릿가의 가면파티에 몰래 갔다 우연히 아름다운 여...    7.5   \n",
       "7001  Orlando Bloom and Condola Rashad take on the t...    6.0   \n",
       "\n",
       "                                                 imgurl ott.coupang  \\\n",
       "157   https://images.justwatch.com/poster/15554797/s332        None   \n",
       "297   https://images.justwatch.com/poster/16035808/s332        None   \n",
       "7001  https://images.justwatch.com/poster/10252806/s332        None   \n",
       "\n",
       "     ott.Netflix ott.tving ott.Watcha     ott.wavve  \n",
       "157         None      None       None        ['구매']  \n",
       "297      ['정액제']      None       None  ['구매', '대여']  \n",
       "7001        None      None    ['정액제']          None  "
      ]
     },
     "execution_count": 376,
     "metadata": {},
     "output_type": "execute_result"
    }
   ],
   "source": [
    "total_data[total_data['title'] == '로미오와 줄리엣']"
   ]
  },
  {
   "cell_type": "code",
   "execution_count": 372,
   "id": "16d4b704",
   "metadata": {},
   "outputs": [],
   "source": [
    "total_data = tmp_func(8642, 24318, total_data)"
   ]
  },
  {
   "cell_type": "code",
   "execution_count": 368,
   "id": "3a69649b",
   "metadata": {},
   "outputs": [],
   "source": [
    "def tmp_func(cur_idx, other_idx, total_data):\n",
    "    cur, other = total_data.loc[cur_idx], total_data.loc[other_idx]\n",
    "    for i in ['released_year', 'ott.tving', 'ott.coupang', 'director', 'actors']:\n",
    "        if i == 'ott.tving' and not pd.isna(cur[i]):\n",
    "            continue\n",
    "        cur[i] = other[i]\n",
    "    total_data.loc[cur_idx] = cur\n",
    "    total_data = total_data.drop(other_idx)\n",
    "    return total_data"
   ]
  },
  {
   "cell_type": "code",
   "execution_count": 192,
   "id": "e93f9fdc",
   "metadata": {},
   "outputs": [
    {
     "name": "stderr",
     "output_type": "stream",
     "text": [
      "/usr/local/lib/python3.9/site-packages/pandas/core/series.py:1056: SettingWithCopyWarning: \n",
      "A value is trying to be set on a copy of a slice from a DataFrame\n",
      "\n",
      "See the caveats in the documentation: https://pandas.pydata.org/pandas-docs/stable/user_guide/indexing.html#returning-a-view-versus-a-copy\n",
      "  cacher_needs_updating = self._check_is_chained_assignment_possible()\n"
     ]
    }
   ],
   "source": [
    "for key, val in title_category.items():\n",
    "    val.sort()\n",
    "    if len(val) == 2 and (val[0] < 17764 and val[1] >= 17764):\n",
    "        cur = total_data.loc[val[0]]\n",
    "        other = total_data.loc[val[1]]\n",
    "        for i in ['ott.tving', 'ott.coupang', 'director', 'actors']:\n",
    "            cur[i] = other[i]\n",
    "        total_data.loc[val[0]] = cur\n",
    "        total_data = total_data.drop(val[1])"
   ]
  },
  {
   "cell_type": "markdown",
   "id": "66332aa1",
   "metadata": {},
   "source": [
    "# Country의 결측치 => 삭제?"
   ]
  },
  {
   "cell_type": "code",
   "execution_count": 377,
   "id": "14c6b233",
   "metadata": {},
   "outputs": [
    {
     "data": {
      "text/plain": [
       "4906"
      ]
     },
     "execution_count": 377,
     "metadata": {},
     "output_type": "execute_result"
    }
   ],
   "source": [
    "len(total_data[total_data['country'] == '[]'])"
   ]
  },
  {
   "cell_type": "markdown",
   "id": "ef1b550c",
   "metadata": {},
   "source": [
    "# Actor, Director의 결측치와 영어데이터 => 삭제? or검색을 활용한 방법??"
   ]
  },
  {
   "cell_type": "code",
   "execution_count": 378,
   "id": "5e9ee24e",
   "metadata": {},
   "outputs": [
    {
     "data": {
      "text/plain": [
       "1907"
      ]
     },
     "execution_count": 378,
     "metadata": {},
     "output_type": "execute_result"
    }
   ],
   "source": [
    "len(total_data[total_data['actors'] == '[]'])"
   ]
  },
  {
   "cell_type": "code",
   "execution_count": 379,
   "id": "7b981386",
   "metadata": {},
   "outputs": [
    {
     "data": {
      "text/plain": [
       "13599"
      ]
     },
     "execution_count": 379,
     "metadata": {},
     "output_type": "execute_result"
    }
   ],
   "source": [
    "import string\n",
    "eng_actor_cnt = 0\n",
    "for i in total_data['actors']:\n",
    "    if len(i) > 3 and i[2] in string.ascii_letters:\n",
    "        eng_actor_cnt += 1\n",
    "eng_actor_cnt"
   ]
  },
  {
   "cell_type": "code",
   "execution_count": 380,
   "id": "277c4d08",
   "metadata": {},
   "outputs": [
    {
     "data": {
      "text/plain": [
       "11673"
      ]
     },
     "execution_count": 380,
     "metadata": {},
     "output_type": "execute_result"
    }
   ],
   "source": [
    "eng_dir_cnt = 0\n",
    "for i in total_data['director']:\n",
    "    if len(i) > 3 and i[2] in string.ascii_letters:\n",
    "        eng_dir_cnt += 1\n",
    "eng_dir_cnt"
   ]
  },
  {
   "cell_type": "code",
   "execution_count": 381,
   "id": "44877e77",
   "metadata": {},
   "outputs": [
    {
     "data": {
      "text/plain": [
       "3851"
      ]
     },
     "execution_count": 381,
     "metadata": {},
     "output_type": "execute_result"
    }
   ],
   "source": [
    "len(total_data[total_data['director'] == '[]'])"
   ]
  },
  {
   "cell_type": "code",
   "execution_count": 382,
   "id": "d1eff6d3",
   "metadata": {},
   "outputs": [],
   "source": [
    "mask1 = (total_data['actors'] == '[]') & (total_data['director'] == '[]')"
   ]
  },
  {
   "cell_type": "code",
   "execution_count": 383,
   "id": "d63e40f8",
   "metadata": {},
   "outputs": [
    {
     "data": {
      "text/plain": [
       "1120"
      ]
     },
     "execution_count": 383,
     "metadata": {},
     "output_type": "execute_result"
    }
   ],
   "source": [
    "len(total_data.loc[mask1, :])"
   ]
  },
  {
   "cell_type": "markdown",
   "id": "0a78dc11",
   "metadata": {},
   "source": [
    "# 장르로 거르는건?"
   ]
  },
  {
   "cell_type": "code",
   "execution_count": 384,
   "id": "6753ce62",
   "metadata": {},
   "outputs": [
    {
     "data": {
      "text/plain": [
       "689"
      ]
     },
     "execution_count": 384,
     "metadata": {},
     "output_type": "execute_result"
    }
   ],
   "source": [
    "len(total_data[total_data['genre'] == '[]'])"
   ]
  },
  {
   "cell_type": "code",
   "execution_count": 385,
   "id": "35cc8226",
   "metadata": {},
   "outputs": [],
   "source": [
    "tmp = set()\n",
    "for i in total_data['genre'].unique():\n",
    "    for j in i[1:-1].split(\",\"):\n",
    "        tmp.add(j)"
   ]
  },
  {
   "cell_type": "code",
   "execution_count": 386,
   "id": "ec8e574b",
   "metadata": {},
   "outputs": [
    {
     "name": "stdout",
     "output_type": "stream",
     "text": [
      "222\n"
     ]
    }
   ],
   "source": [
    "print(len(tmp))"
   ]
  },
  {
   "cell_type": "markdown",
   "id": "64882cad",
   "metadata": {},
   "source": [
    "# 영어 줄거리는 과감하게 버리는 건?"
   ]
  },
  {
   "cell_type": "code",
   "execution_count": 393,
   "id": "4655e717",
   "metadata": {},
   "outputs": [
    {
     "data": {
      "text/plain": [
       "0"
      ]
     },
     "execution_count": 393,
     "metadata": {},
     "output_type": "execute_result"
    }
   ],
   "source": [
    "import re\n",
    "reg = re.compile('[ㄱ-힣]')\n",
    "cnt = 0 \n",
    "for i in total_data.index:\n",
    "    cur = total_data.loc[i]\n",
    "    try:\n",
    "        if reg.search(cur['summary']):\n",
    "            pass\n",
    "        else:\n",
    "            cnt+=1\n",
    "            pass\n",
    "    except:\n",
    "        pass\n",
    "cnt"
   ]
  },
  {
   "cell_type": "markdown",
   "id": "95b535c1",
   "metadata": {},
   "source": [
    "# 영어 데이터 처리"
   ]
  },
  {
   "cell_type": "code",
   "execution_count": 390,
   "id": "c5dcdb6a",
   "metadata": {},
   "outputs": [],
   "source": [
    "import re\n",
    "reg = re.compile('[ㄱ-힣]')\n",
    "cnt = 0 \n",
    "for i in total_data.index:\n",
    "    cur = total_data.loc[i]\n",
    "    try:\n",
    "        if reg.search(cur['summary']):\n",
    "            pass\n",
    "        else:\n",
    "            cur['summary'] = None\n",
    "            pass\n",
    "    except:\n",
    "        cur['summary'] = None\n",
    "    total_data.loc[i] = cur"
   ]
  },
  {
   "cell_type": "code",
   "execution_count": 391,
   "id": "4bae7cfa",
   "metadata": {},
   "outputs": [
    {
     "data": {
      "text/html": [
       "<div>\n",
       "<style scoped>\n",
       "    .dataframe tbody tr th:only-of-type {\n",
       "        vertical-align: middle;\n",
       "    }\n",
       "\n",
       "    .dataframe tbody tr th {\n",
       "        vertical-align: top;\n",
       "    }\n",
       "\n",
       "    .dataframe thead th {\n",
       "        text-align: right;\n",
       "    }\n",
       "</style>\n",
       "<table border=\"1\" class=\"dataframe\">\n",
       "  <thead>\n",
       "    <tr style=\"text-align: right;\">\n",
       "      <th></th>\n",
       "      <th>id</th>\n",
       "      <th>title</th>\n",
       "      <th>original_title</th>\n",
       "      <th>category</th>\n",
       "      <th>country</th>\n",
       "      <th>genre</th>\n",
       "      <th>director</th>\n",
       "      <th>actors</th>\n",
       "      <th>released_year</th>\n",
       "      <th>runtime</th>\n",
       "      <th>summary</th>\n",
       "      <th>rating</th>\n",
       "      <th>imgurl</th>\n",
       "      <th>ott.coupang</th>\n",
       "      <th>ott.Netflix</th>\n",
       "      <th>ott.tving</th>\n",
       "      <th>ott.Watcha</th>\n",
       "      <th>ott.wavve</th>\n",
       "    </tr>\n",
       "  </thead>\n",
       "  <tbody>\n",
       "    <tr>\n",
       "      <th>17745</th>\n",
       "      <td>269837</td>\n",
       "      <td>아기상어: 올리와 윌리엄</td>\n",
       "      <td>아기상어: 올리와 윌리엄</td>\n",
       "      <td>TV 프로그램</td>\n",
       "      <td>['대한민국']</td>\n",
       "      <td>[]</td>\n",
       "      <td>[]</td>\n",
       "      <td>['Kimiko Glenn', 'Luke Youngblood', 'Natasha R...</td>\n",
       "      <td>2021.0</td>\n",
       "      <td>11.0</td>\n",
       "      <td>None</td>\n",
       "      <td>0.0</td>\n",
       "      <td>https://images.justwatch.com/poster/239863093/...</td>\n",
       "      <td>None</td>\n",
       "      <td>None</td>\n",
       "      <td>None</td>\n",
       "      <td>['정액제']</td>\n",
       "      <td>['정액제']</td>\n",
       "    </tr>\n",
       "  </tbody>\n",
       "</table>\n",
       "</div>"
      ],
      "text/plain": [
       "           id          title original_title category   country genre director  \\\n",
       "17745  269837  아기상어: 올리와 윌리엄  아기상어: 올리와 윌리엄  TV 프로그램  ['대한민국']    []       []   \n",
       "\n",
       "                                                  actors released_year  \\\n",
       "17745  ['Kimiko Glenn', 'Luke Youngblood', 'Natasha R...        2021.0   \n",
       "\n",
       "      runtime summary rating  \\\n",
       "17745    11.0    None    0.0   \n",
       "\n",
       "                                                  imgurl ott.coupang  \\\n",
       "17745  https://images.justwatch.com/poster/239863093/...        None   \n",
       "\n",
       "      ott.Netflix ott.tving ott.Watcha ott.wavve  \n",
       "17745        None      None    ['정액제']   ['정액제']  "
      ]
     },
     "execution_count": 391,
     "metadata": {},
     "output_type": "execute_result"
    }
   ],
   "source": [
    "total_data[total_data['title']=='아기상어: 올리와 윌리엄']"
   ]
  },
  {
   "cell_type": "code",
   "execution_count": 394,
   "id": "75c7d891",
   "metadata": {},
   "outputs": [
    {
     "data": {
      "text/plain": [
       "21778"
      ]
     },
     "execution_count": 394,
     "metadata": {},
     "output_type": "execute_result"
    }
   ],
   "source": [
    "len(total_data)"
   ]
  },
  {
   "cell_type": "code",
   "execution_count": 395,
   "id": "1721860b",
   "metadata": {
    "scrolled": true
   },
   "outputs": [
    {
     "data": {
      "text/plain": [
       "id                    0\n",
       "title                 0\n",
       "original_title     2728\n",
       "category              0\n",
       "country               0\n",
       "genre                 0\n",
       "director              0\n",
       "actors                0\n",
       "released_year       941\n",
       "runtime              22\n",
       "summary            1845\n",
       "rating                0\n",
       "imgurl              218\n",
       "ott.coupang       19988\n",
       "ott.Netflix       16755\n",
       "ott.tving         16114\n",
       "ott.Watcha        14648\n",
       "ott.wavve          9064\n",
       "dtype: int64"
      ]
     },
     "execution_count": 395,
     "metadata": {},
     "output_type": "execute_result"
    }
   ],
   "source": [
    "total_data.isnull().sum()"
   ]
  },
  {
   "cell_type": "code",
   "execution_count": 399,
   "id": "0aa5f498",
   "metadata": {},
   "outputs": [],
   "source": [
    "total_data.to_csv(\"/Users/jeonggyu/Desktop/수집한 dataset/new_data/total_data.csv\")"
   ]
  },
  {
   "cell_type": "markdown",
   "id": "222f869e",
   "metadata": {},
   "source": [
    "# actor 이름 교체"
   ]
  },
  {
   "cell_type": "code",
   "execution_count": 400,
   "id": "5f3d4dc8",
   "metadata": {},
   "outputs": [],
   "source": [
    "df = pd.read_csv(\"/Users/jeonggyu/Desktop/수집한 dataset/new_data/total_data.csv\")"
   ]
  },
  {
   "cell_type": "code",
   "execution_count": 402,
   "id": "44470d50",
   "metadata": {},
   "outputs": [
    {
     "name": "stderr",
     "output_type": "stream",
     "text": [
      "/usr/local/lib/python3.9/site-packages/pandas/core/series.py:1056: SettingWithCopyWarning: \n",
      "A value is trying to be set on a copy of a slice from a DataFrame\n",
      "\n",
      "See the caveats in the documentation: https://pandas.pydata.org/pandas-docs/stable/user_guide/indexing.html#returning-a-view-versus-a-copy\n",
      "  cacher_needs_updating = self._check_is_chained_assignment_possible()\n"
     ]
    }
   ],
   "source": [
    "with open(\"/Users/jeonggyu/Desktop/수집한 dataset/actors/final_actors.json\", \"r\") as f:\n",
    "    dict_actor = json.load(f)\n",
    "    for idx in df.index:\n",
    "        cur = df.loc[idx]\n",
    "        try:\n",
    "            cur_actors = cur['actors'].replace(\"'\", \"\")[1:-1].split(\",\")\n",
    "\n",
    "            ch_actors = list(map(lambda x: x.strip(), filter(lambda x: x is not None, map(lambda x: dict_actor.get(x), cur_actors))))\n",
    "            cur['actors'] = str(ch_actors)\n",
    "\n",
    "            df.loc[idx] = cur\n",
    "        except Exception as e:\n",
    "            pass\n",
    "#             print(e)"
   ]
  },
  {
   "cell_type": "code",
   "execution_count": 405,
   "id": "647ec5b2",
   "metadata": {},
   "outputs": [
    {
     "data": {
      "text/html": [
       "<div>\n",
       "<style scoped>\n",
       "    .dataframe tbody tr th:only-of-type {\n",
       "        vertical-align: middle;\n",
       "    }\n",
       "\n",
       "    .dataframe tbody tr th {\n",
       "        vertical-align: top;\n",
       "    }\n",
       "\n",
       "    .dataframe thead th {\n",
       "        text-align: right;\n",
       "    }\n",
       "</style>\n",
       "<table border=\"1\" class=\"dataframe\">\n",
       "  <thead>\n",
       "    <tr style=\"text-align: right;\">\n",
       "      <th></th>\n",
       "      <th>Unnamed: 0</th>\n",
       "      <th>id</th>\n",
       "      <th>title</th>\n",
       "      <th>original_title</th>\n",
       "      <th>category</th>\n",
       "      <th>country</th>\n",
       "      <th>genre</th>\n",
       "      <th>director</th>\n",
       "      <th>actors</th>\n",
       "      <th>released_year</th>\n",
       "      <th>runtime</th>\n",
       "      <th>summary</th>\n",
       "      <th>rating</th>\n",
       "      <th>imgurl</th>\n",
       "      <th>ott.coupang</th>\n",
       "      <th>ott.Netflix</th>\n",
       "      <th>ott.tving</th>\n",
       "      <th>ott.Watcha</th>\n",
       "      <th>ott.wavve</th>\n",
       "    </tr>\n",
       "  </thead>\n",
       "  <tbody>\n",
       "    <tr>\n",
       "      <th>0</th>\n",
       "      <td>0</td>\n",
       "      <td>10</td>\n",
       "      <td>홈랜드</td>\n",
       "      <td>Homeland</td>\n",
       "      <td>TV 프로그램</td>\n",
       "      <td>['미국']</td>\n",
       "      <td>['액션', '전쟁', '드라마', '스릴러', '범죄']</td>\n",
       "      <td>[]</td>\n",
       "      <td>['클레어 데인즈', '모리 스터링', '너맨 아카', '님랏 카우르', '맨디 파...</td>\n",
       "      <td>2011.0</td>\n",
       "      <td>52.0</td>\n",
       "      <td>미 해병대 보병 부사관인 니콜라스 브로디 하사는 이라크 자유작전(이라크 전쟁) 중 ...</td>\n",
       "      <td>7.9</td>\n",
       "      <td>https://images.justwatch.com/poster/46536252/s332</td>\n",
       "      <td>NaN</td>\n",
       "      <td>['정액제']</td>\n",
       "      <td>NaN</td>\n",
       "      <td>NaN</td>\n",
       "      <td>NaN</td>\n",
       "    </tr>\n",
       "    <tr>\n",
       "      <th>1</th>\n",
       "      <td>1</td>\n",
       "      <td>112614</td>\n",
       "      <td>중경삼림</td>\n",
       "      <td>重慶森林</td>\n",
       "      <td>영화</td>\n",
       "      <td>['홍콩']</td>\n",
       "      <td>['로맨스', '코미디', '범죄', '드라마']</td>\n",
       "      <td>['왕가위']</td>\n",
       "      <td>['임청하', '양조위', '왕페이', '금성무', '주가령', '청 싱 초', '...</td>\n",
       "      <td>1994.0</td>\n",
       "      <td>103.0</td>\n",
       "      <td>경찰 223은 헤어진 옛 애인을 기다리며, 1달 동안 그녀에게서 연락이 오지 않으면...</td>\n",
       "      <td>8.1</td>\n",
       "      <td>https://images.justwatch.com/poster/241789176/...</td>\n",
       "      <td>NaN</td>\n",
       "      <td>NaN</td>\n",
       "      <td>NaN</td>\n",
       "      <td>['정액제']</td>\n",
       "      <td>NaN</td>\n",
       "    </tr>\n",
       "    <tr>\n",
       "      <th>2</th>\n",
       "      <td>2</td>\n",
       "      <td>128565</td>\n",
       "      <td>캔디맨</td>\n",
       "      <td>Candyman</td>\n",
       "      <td>영화</td>\n",
       "      <td>['미국']</td>\n",
       "      <td>['드라마', '공포', '스릴러']</td>\n",
       "      <td>['버나드 로즈']</td>\n",
       "      <td>['버지니아 매드슨', '토니 토드', '잰더 버클리', '카시 레몬즈', '바네사...</td>\n",
       "      <td>1992.0</td>\n",
       "      <td>99.0</td>\n",
       "      <td>도시의 전설에 대한 논문을 쓰고 있는 헬렌 라일(Helen Lyle: 버지니아 매드...</td>\n",
       "      <td>6.6</td>\n",
       "      <td>https://images.justwatch.com/poster/10703948/s332</td>\n",
       "      <td>NaN</td>\n",
       "      <td>NaN</td>\n",
       "      <td>NaN</td>\n",
       "      <td>NaN</td>\n",
       "      <td>['정액제', '대여']</td>\n",
       "    </tr>\n",
       "    <tr>\n",
       "      <th>3</th>\n",
       "      <td>3</td>\n",
       "      <td>7320</td>\n",
       "      <td>유주얼 서스펙트</td>\n",
       "      <td>The Usual Suspects</td>\n",
       "      <td>영화</td>\n",
       "      <td>['미국']</td>\n",
       "      <td>['스릴러', '드라마', '범죄']</td>\n",
       "      <td>['브라이언 싱어']</td>\n",
       "      <td>['스티븐 볼드윈', '가브리엘 번', '베네치오 델 토로', '채즈 팔민테리', ...</td>\n",
       "      <td>1995.0</td>\n",
       "      <td>106.0</td>\n",
       "      <td>산 페드로 부두에서 27명이 사망하고 9,100만달러가 증발하는 유혈극이 벌어진다....</td>\n",
       "      <td>8.3</td>\n",
       "      <td>https://images.justwatch.com/poster/8655298/s332</td>\n",
       "      <td>NaN</td>\n",
       "      <td>['정액제']</td>\n",
       "      <td>1.0</td>\n",
       "      <td>NaN</td>\n",
       "      <td>['정액제', '구매', '대여']</td>\n",
       "    </tr>\n",
       "    <tr>\n",
       "      <th>4</th>\n",
       "      <td>4</td>\n",
       "      <td>42409</td>\n",
       "      <td>파이트 클럽</td>\n",
       "      <td>Fight Club</td>\n",
       "      <td>영화</td>\n",
       "      <td>['독일', '미국']</td>\n",
       "      <td>['드라마']</td>\n",
       "      <td>['데이빗 핀처']</td>\n",
       "      <td>['브래드 피트', '에드워드 노튼', '헬레나 본햄 카터', '미트 로프', '자...</td>\n",
       "      <td>1999.0</td>\n",
       "      <td>139.0</td>\n",
       "      <td>자동차 회사의 리콜 심사관으로 일하는 주인공(에드워드 노튼)은 일상의 무료함과 공허...</td>\n",
       "      <td>8.6</td>\n",
       "      <td>https://images.justwatch.com/poster/21851876/s332</td>\n",
       "      <td>1.0</td>\n",
       "      <td>['정액제']</td>\n",
       "      <td>1.0</td>\n",
       "      <td>NaN</td>\n",
       "      <td>['구매']</td>\n",
       "    </tr>\n",
       "  </tbody>\n",
       "</table>\n",
       "</div>"
      ],
      "text/plain": [
       "   Unnamed: 0      id     title      original_title category       country  \\\n",
       "0           0      10       홈랜드            Homeland  TV 프로그램        ['미국']   \n",
       "1           1  112614      중경삼림                重慶森林       영화        ['홍콩']   \n",
       "2           2  128565       캔디맨            Candyman       영화        ['미국']   \n",
       "3           3    7320  유주얼 서스펙트  The Usual Suspects       영화        ['미국']   \n",
       "4           4   42409    파이트 클럽          Fight Club       영화  ['독일', '미국']   \n",
       "\n",
       "                              genre     director  \\\n",
       "0  ['액션', '전쟁', '드라마', '스릴러', '범죄']           []   \n",
       "1       ['로맨스', '코미디', '범죄', '드라마']      ['왕가위']   \n",
       "2              ['드라마', '공포', '스릴러']   ['버나드 로즈']   \n",
       "3              ['스릴러', '드라마', '범죄']  ['브라이언 싱어']   \n",
       "4                           ['드라마']   ['데이빗 핀처']   \n",
       "\n",
       "                                              actors  released_year  runtime  \\\n",
       "0  ['클레어 데인즈', '모리 스터링', '너맨 아카', '님랏 카우르', '맨디 파...         2011.0     52.0   \n",
       "1  ['임청하', '양조위', '왕페이', '금성무', '주가령', '청 싱 초', '...         1994.0    103.0   \n",
       "2  ['버지니아 매드슨', '토니 토드', '잰더 버클리', '카시 레몬즈', '바네사...         1992.0     99.0   \n",
       "3  ['스티븐 볼드윈', '가브리엘 번', '베네치오 델 토로', '채즈 팔민테리', ...         1995.0    106.0   \n",
       "4  ['브래드 피트', '에드워드 노튼', '헬레나 본햄 카터', '미트 로프', '자...         1999.0    139.0   \n",
       "\n",
       "                                             summary  rating  \\\n",
       "0  미 해병대 보병 부사관인 니콜라스 브로디 하사는 이라크 자유작전(이라크 전쟁) 중 ...     7.9   \n",
       "1  경찰 223은 헤어진 옛 애인을 기다리며, 1달 동안 그녀에게서 연락이 오지 않으면...     8.1   \n",
       "2  도시의 전설에 대한 논문을 쓰고 있는 헬렌 라일(Helen Lyle: 버지니아 매드...     6.6   \n",
       "3  산 페드로 부두에서 27명이 사망하고 9,100만달러가 증발하는 유혈극이 벌어진다....     8.3   \n",
       "4  자동차 회사의 리콜 심사관으로 일하는 주인공(에드워드 노튼)은 일상의 무료함과 공허...     8.6   \n",
       "\n",
       "                                              imgurl  ott.coupang ott.Netflix  \\\n",
       "0  https://images.justwatch.com/poster/46536252/s332          NaN     ['정액제']   \n",
       "1  https://images.justwatch.com/poster/241789176/...          NaN         NaN   \n",
       "2  https://images.justwatch.com/poster/10703948/s332          NaN         NaN   \n",
       "3   https://images.justwatch.com/poster/8655298/s332          NaN     ['정액제']   \n",
       "4  https://images.justwatch.com/poster/21851876/s332          1.0     ['정액제']   \n",
       "\n",
       "   ott.tving ott.Watcha            ott.wavve  \n",
       "0        NaN        NaN                  NaN  \n",
       "1        NaN    ['정액제']                  NaN  \n",
       "2        NaN        NaN        ['정액제', '대여']  \n",
       "3        1.0        NaN  ['정액제', '구매', '대여']  \n",
       "4        1.0        NaN               ['구매']  "
      ]
     },
     "execution_count": 405,
     "metadata": {},
     "output_type": "execute_result"
    }
   ],
   "source": [
    "df.head(5)"
   ]
  },
  {
   "cell_type": "markdown",
   "id": "8f451358",
   "metadata": {},
   "source": [
    "# director 이름 교체"
   ]
  },
  {
   "cell_type": "code",
   "execution_count": 404,
   "id": "d1f444b1",
   "metadata": {},
   "outputs": [
    {
     "name": "stderr",
     "output_type": "stream",
     "text": [
      "/usr/local/lib/python3.9/site-packages/pandas/core/series.py:1056: SettingWithCopyWarning: \n",
      "A value is trying to be set on a copy of a slice from a DataFrame\n",
      "\n",
      "See the caveats in the documentation: https://pandas.pydata.org/pandas-docs/stable/user_guide/indexing.html#returning-a-view-versus-a-copy\n",
      "  cacher_needs_updating = self._check_is_chained_assignment_possible()\n"
     ]
    }
   ],
   "source": [
    "with open(\"/Users/jeonggyu/Desktop/수집한 dataset/director/final_director.json\") as f:\n",
    "    dict_dir = json.load(f)\n",
    "    for idx in df.index:\n",
    "        cur = df.loc[idx]\n",
    "        cur_dir = cur['director'].replace(\"'\", \"\")[1:-1].split(\",\")\n",
    "        \n",
    "        ch_dir = list(map(lambda x: x.strip(), filter(lambda x: x is not None, map(lambda x: dict_dir.get(x), cur_dir))))\n",
    "        \n",
    "        cur['director'] = str(ch_dir)\n",
    "        df.loc[idx] = cur"
   ]
  },
  {
   "cell_type": "code",
   "execution_count": 296,
   "id": "64f0b8ce",
   "metadata": {},
   "outputs": [
    {
     "name": "stdout",
     "output_type": "stream",
     "text": [
      "13959\n",
      "11339\n"
     ]
    }
   ],
   "source": [
    "with open(f\"/Users/jeonggyu/Desktop/수집한 dataset/director/director.json\", \"r\") as nf,\\\n",
    "     open(f\"/Users/jeonggyu/Desktop/수집한 dataset/director/final_director.json\", \"w\") as target:\n",
    "    nd = json.load(nf)\n",
    "    print(len(nd.keys()))\n",
    "\n",
    "    # 한글 key 값들 처리\n",
    "    for key, val in nd.items():\n",
    "        if reg.search(key):\n",
    "            nd[key] = key\n",
    "    \n",
    "    \n",
    "    tmp = dict(filter(lambda x: reg.search(str(x[1])), nd.items()))\n",
    "    \n",
    "    print(len(tmp.keys()))\n",
    "    target.write(json.dumps(tmp))"
   ]
  },
  {
   "cell_type": "code",
   "execution_count": 13,
   "id": "057dbc79",
   "metadata": {},
   "outputs": [],
   "source": [
    "df.to_csv(\"/Users/jeonggyu/Desktop/수집한 dataset/data/final_total_data.csv\")"
   ]
  },
  {
   "cell_type": "markdown",
   "id": "b3ba51d4",
   "metadata": {},
   "source": [
    "# actor 데이터 합치기"
   ]
  },
  {
   "cell_type": "code",
   "execution_count": 360,
   "id": "311e107d",
   "metadata": {},
   "outputs": [
    {
     "name": "stdout",
     "output_type": "stream",
     "text": [
      "naver =  7214 4065\n",
      "google =  4065 1269\n",
      "naver + google =  5852\n",
      "naver =  17786 11851\n",
      "google =  11851 4405\n",
      "naver + google =  13004\n",
      "naver =  25000 15191\n",
      "google =  15191 5867\n",
      "naver + google =  18702\n",
      "naver =  25000 17172\n",
      "google =  17172 6908\n",
      "naver + google =  17486\n",
      "naver =  25000 19026\n",
      "google =  19026 7901\n",
      "naver + google =  16296\n",
      "naver =  37411 27341\n",
      "google =  27341 12744\n",
      "naver + google =  24737\n"
     ]
    }
   ],
   "source": [
    "import re\n",
    "reg = re.compile('[가-힣]')\n",
    "\n",
    "file_name = [('0', '7214'), ('7214', '25000'), ('25000', '50000'), ('50000', '75000'), ['75000', '100000'], ['100000', 'end']]\n",
    "for start, end in file_name:\n",
    "    with open(f'/Users/jeonggyu/Desktop/수집한 dataset/actors/google_{start}_{end}.json', \"r\") as nf,\\\n",
    "         open(f'/Users/jeonggyu/Desktop/수집한 dataset/actors/{start}_{end}.json', \"r\") as of,\\\n",
    "         open(f'/Users/jeonggyu/Desktop/수집한 dataset/actors/final_{start}_{end}.json', \"w\") as target:\n",
    "        nd, od = json.load(nf), json.load(of)\n",
    "        print(\"naver = \", len(od), len(list(filter(lambda x: x[1] is None, od.items()))))\n",
    "        print(\"google = \", len(nd), len(list(filter(lambda x: x[1] is None, nd.items()))))\n",
    "        # google검색을 naver와 합친다.\n",
    "        od.update(nd)\n",
    "\n",
    "        # 한글 key 값들 처리\n",
    "        for key, val in od.items():\n",
    "            if reg.search(key):\n",
    "                od[key] = key\n",
    "\n",
    "        # none 처리\n",
    "        tmp = dict(filter(lambda x: x[1] is not None, od.items()))\n",
    "\n",
    "        # 영어 value 값 처리\n",
    "        tmp = dict(filter(lambda x: reg.search(str(x[1])), tmp.items()))\n",
    "\n",
    "        print(\"naver + google = \", len(tmp))\n",
    "\n",
    "        target.write(json.dumps(tmp))\n"
   ]
  },
  {
   "cell_type": "code",
   "execution_count": 362,
   "id": "d7b51964",
   "metadata": {},
   "outputs": [
    {
     "name": "stdout",
     "output_type": "stream",
     "text": [
      "5852 13004 18702 17486 16296 24737\n",
      "96077\n"
     ]
    }
   ],
   "source": [
    "with open(f'/Users/jeonggyu/Desktop/수집한 dataset/actors/final_0_7214.json', \"r\") as f1,\\\n",
    "     open(f'/Users/jeonggyu/Desktop/수집한 dataset/actors/final_7214_25000.json', \"r\") as f2,\\\n",
    "     open(f'/Users/jeonggyu/Desktop/수집한 dataset/actors/final_25000_50000.json', \"r\") as f3,\\\n",
    "     open(f'/Users/jeonggyu/Desktop/수집한 dataset/actors/final_50000_75000.json', \"r\") as f4, \\\n",
    "     open(f'/Users/jeonggyu/Desktop/수집한 dataset/actors/final_75000_100000.json', \"r\") as f5, \\\n",
    "     open(f'/Users/jeonggyu/Desktop/수집한 dataset/actors/final_100000_end.json', \"r\") as f6, \\\n",
    "     open(f'/Users/jeonggyu/Desktop/수집한 dataset/actors/final_actors.json', \"w\") as target:\n",
    "    d1, d2, d3, d4, d5, d6 = json.load(f1), json.load(f2), json.load(f3), json.load(f4), json.load(f5), json.load(f6)\n",
    "    print(len(d1), len(d2), len(d3), len(d4), len(d5), len(d6))\n",
    "    d1.update(d2)\n",
    "    d1.update(d3)\n",
    "    d1.update(d4)\n",
    "    d1.update(d5)\n",
    "    d1.update(d6)\n",
    "    print(len(d1))\n",
    "    target.write(json.dumps(d1))\n",
    "    "
   ]
  },
  {
   "cell_type": "code",
   "execution_count": 448,
   "id": "9a1259a6",
   "metadata": {},
   "outputs": [],
   "source": [
    "df = df.drop(columns=['Unnamed: 0', 'original_title', 'country'])"
   ]
  },
  {
   "cell_type": "code",
   "execution_count": 450,
   "id": "0b22457e",
   "metadata": {},
   "outputs": [],
   "source": [
    "js = df.to_json(\"/Users/jeonggyu/Desktop/수집한 dataset/data/final_total_data.json\", orient=\"index\")"
   ]
  },
  {
   "cell_type": "code",
   "execution_count": 437,
   "id": "dfeea38d",
   "metadata": {},
   "outputs": [
    {
     "data": {
      "text/plain": [
       "9117"
      ]
     },
     "execution_count": 437,
     "metadata": {},
     "output_type": "execute_result"
    }
   ],
   "source": [
    "len(df['director'].unique())\n",
    "    "
   ]
  },
  {
   "cell_type": "code",
   "execution_count": 447,
   "id": "f286f12f",
   "metadata": {},
   "outputs": [
    {
     "data": {
      "text/plain": [
       "83169"
      ]
     },
     "execution_count": 447,
     "metadata": {},
     "output_type": "execute_result"
    }
   ],
   "source": [
    "abcd = set()\n",
    "for i in df['actorss'].unique():\n",
    "    for val in ast.literal_eval(i):\n",
    "        abcd.add(val)s\n",
    "len(abcd)"
   ]
  },
  {
   "cell_type": "code",
   "execution_count": 3,
   "id": "5052aad8",
   "metadata": {},
   "outputs": [],
   "source": [
    "import pandas as pd"
   ]
  },
  {
   "cell_type": "code",
   "execution_count": 6,
   "id": "f5f3e11e",
   "metadata": {},
   "outputs": [],
   "source": [
    "import csv\n",
    "import json\n",
    "\n",
    "input_file_name = \"/Users/jeonggyu/Desktop/수집한 dataset/data/final_total_data.json\"\n",
    "output_file_name = \"/Users/jeonggyu/Desktop/수집한 dataset/data/final_total_data.csv\"\n",
    "\n",
    "with open(input_file_name, \"r\", encoding=\"utf-8\", newline=\"\") as input_file, \\\n",
    "        open(output_file_name, \"w\", encoding=\"utf-8\", newline=\"\") as output_file:\n",
    "\n",
    "    data = []\n",
    "    for line in input_file:\n",
    "        datum = json.loads(line)\n",
    "        data.append(datum)\n",
    "        \n",
    "    csvwriter = csv.writer(output_file)\n",
    "    csvwriter.writerow(data[0].keys())\n",
    "    for line in data:\n",
    "        csvwriter.writerow(line.values())"
   ]
  },
  {
   "cell_type": "code",
   "execution_count": 103,
   "id": "b95b88b0",
   "metadata": {},
   "outputs": [],
   "source": [
    "df = pd.read_csv(\"/Users/jeonggyu/Desktop/수집한 dataset/data/final_total_data.csv\")"
   ]
  },
  {
   "cell_type": "code",
   "execution_count": 104,
   "id": "70821ebd",
   "metadata": {},
   "outputs": [
    {
     "data": {
      "text/plain": [
       "21771"
      ]
     },
     "execution_count": 104,
     "metadata": {},
     "output_type": "execute_result"
    }
   ],
   "source": [
    "len(df)"
   ]
  },
  {
   "cell_type": "code",
   "execution_count": 105,
   "id": "574e9ebc",
   "metadata": {},
   "outputs": [],
   "source": [
    "df = df.drop(columns=[\"Unnamed: 0\", \"Unnamed: 0.1\", \"original_title\", \"country\"])"
   ]
  },
  {
   "cell_type": "code",
   "execution_count": 106,
   "id": "a48156b1",
   "metadata": {},
   "outputs": [
    {
     "data": {
      "text/html": [
       "<div>\n",
       "<style scoped>\n",
       "    .dataframe tbody tr th:only-of-type {\n",
       "        vertical-align: middle;\n",
       "    }\n",
       "\n",
       "    .dataframe tbody tr th {\n",
       "        vertical-align: top;\n",
       "    }\n",
       "\n",
       "    .dataframe thead th {\n",
       "        text-align: right;\n",
       "    }\n",
       "</style>\n",
       "<table border=\"1\" class=\"dataframe\">\n",
       "  <thead>\n",
       "    <tr style=\"text-align: right;\">\n",
       "      <th></th>\n",
       "      <th>title</th>\n",
       "      <th>category</th>\n",
       "      <th>genre</th>\n",
       "      <th>director</th>\n",
       "      <th>actors</th>\n",
       "      <th>released_year</th>\n",
       "      <th>runtime</th>\n",
       "      <th>summary</th>\n",
       "      <th>rating</th>\n",
       "      <th>ott.Netflix</th>\n",
       "      <th>ott.Watcha</th>\n",
       "      <th>ott.wavve</th>\n",
       "      <th>ott.tving</th>\n",
       "      <th>ott.coupang</th>\n",
       "    </tr>\n",
       "  </thead>\n",
       "  <tbody>\n",
       "    <tr>\n",
       "      <th>0</th>\n",
       "      <td>홈랜드</td>\n",
       "      <td>TV 프로그램</td>\n",
       "      <td>['전쟁', '드라마', '액션', '범죄', '스릴러']</td>\n",
       "      <td>[]</td>\n",
       "      <td>['클레어 데인즈', '모리 스터링', '너맨 아카', '님랏 카우르', '맨디 파...</td>\n",
       "      <td>2011.0</td>\n",
       "      <td>52.0</td>\n",
       "      <td>미 해병대 보병 부사관인 니콜라스 브로디 하사는 이라크 자유작전(이라크 전쟁) 중 ...</td>\n",
       "      <td>7.9</td>\n",
       "      <td>['정액제']</td>\n",
       "      <td>NaN</td>\n",
       "      <td>NaN</td>\n",
       "      <td>NaN</td>\n",
       "      <td>NaN</td>\n",
       "    </tr>\n",
       "    <tr>\n",
       "      <th>1</th>\n",
       "      <td>중경삼림</td>\n",
       "      <td>영화</td>\n",
       "      <td>['로맨스', '드라마', '코미디', '범죄']</td>\n",
       "      <td>['왕가위']</td>\n",
       "      <td>['임청하', '양조위', '왕페이', '금성무', '주가령', '청 싱 초', '...</td>\n",
       "      <td>1994.0</td>\n",
       "      <td>103.0</td>\n",
       "      <td>경찰 223은 헤어진 옛 애인을 기다리며, 1달 동안 그녀에게서 연락이 오지 않으면...</td>\n",
       "      <td>8.1</td>\n",
       "      <td>NaN</td>\n",
       "      <td>['정액제']</td>\n",
       "      <td>NaN</td>\n",
       "      <td>NaN</td>\n",
       "      <td>NaN</td>\n",
       "    </tr>\n",
       "    <tr>\n",
       "      <th>2</th>\n",
       "      <td>캔디맨</td>\n",
       "      <td>영화</td>\n",
       "      <td>['드라마', '공포', '스릴러']</td>\n",
       "      <td>['버나드 로즈']</td>\n",
       "      <td>['버지니아 매드슨', '토니 토드', '잰더 버클리', '카시 레몬즈', '바네사...</td>\n",
       "      <td>1992.0</td>\n",
       "      <td>99.0</td>\n",
       "      <td>도시의 전설에 대한 논문을 쓰고 있는 헬렌 라일(Helen Lyle: 버지니아 매드...</td>\n",
       "      <td>6.6</td>\n",
       "      <td>NaN</td>\n",
       "      <td>NaN</td>\n",
       "      <td>['정액제', '대여']</td>\n",
       "      <td>NaN</td>\n",
       "      <td>NaN</td>\n",
       "    </tr>\n",
       "    <tr>\n",
       "      <th>3</th>\n",
       "      <td>파이트 클럽</td>\n",
       "      <td>영화</td>\n",
       "      <td>['드라마']</td>\n",
       "      <td>['데이빗 핀처']</td>\n",
       "      <td>['브래드 피트', '에드워드 노튼', '헬레나 본햄 카터', '미트 로프', '자...</td>\n",
       "      <td>1999.0</td>\n",
       "      <td>139.0</td>\n",
       "      <td>자동차 회사의 리콜 심사관으로 일하는 주인공(에드워드 노튼)은 일상의 무료함과 공허...</td>\n",
       "      <td>8.6</td>\n",
       "      <td>['정액제']</td>\n",
       "      <td>NaN</td>\n",
       "      <td>['구매']</td>\n",
       "      <td>['구매']</td>\n",
       "      <td>['정액제']</td>\n",
       "    </tr>\n",
       "    <tr>\n",
       "      <th>4</th>\n",
       "      <td>유주얼 서스펙트</td>\n",
       "      <td>영화</td>\n",
       "      <td>['스릴러', '드라마', '범죄']</td>\n",
       "      <td>['브라이언 싱어']</td>\n",
       "      <td>['스티븐 볼드윈', '가브리엘 번', '베네치오 델 토로', '채즈 팔민테리', ...</td>\n",
       "      <td>1995.0</td>\n",
       "      <td>106.0</td>\n",
       "      <td>산 페드로 부두에서 27명이 사망하고 9,100만달러가 증발하는 유혈극이 벌어진다....</td>\n",
       "      <td>8.3</td>\n",
       "      <td>['정액제']</td>\n",
       "      <td>NaN</td>\n",
       "      <td>['정액제', '대여', '구매']</td>\n",
       "      <td>['구매']</td>\n",
       "      <td>NaN</td>\n",
       "    </tr>\n",
       "  </tbody>\n",
       "</table>\n",
       "</div>"
      ],
      "text/plain": [
       "      title category                             genre     director  \\\n",
       "0       홈랜드  TV 프로그램  ['전쟁', '드라마', '액션', '범죄', '스릴러']           []   \n",
       "1      중경삼림       영화       ['로맨스', '드라마', '코미디', '범죄']      ['왕가위']   \n",
       "2       캔디맨       영화              ['드라마', '공포', '스릴러']   ['버나드 로즈']   \n",
       "3    파이트 클럽       영화                           ['드라마']   ['데이빗 핀처']   \n",
       "4  유주얼 서스펙트       영화              ['스릴러', '드라마', '범죄']  ['브라이언 싱어']   \n",
       "\n",
       "                                              actors  released_year  runtime  \\\n",
       "0  ['클레어 데인즈', '모리 스터링', '너맨 아카', '님랏 카우르', '맨디 파...         2011.0     52.0   \n",
       "1  ['임청하', '양조위', '왕페이', '금성무', '주가령', '청 싱 초', '...         1994.0    103.0   \n",
       "2  ['버지니아 매드슨', '토니 토드', '잰더 버클리', '카시 레몬즈', '바네사...         1992.0     99.0   \n",
       "3  ['브래드 피트', '에드워드 노튼', '헬레나 본햄 카터', '미트 로프', '자...         1999.0    139.0   \n",
       "4  ['스티븐 볼드윈', '가브리엘 번', '베네치오 델 토로', '채즈 팔민테리', ...         1995.0    106.0   \n",
       "\n",
       "                                             summary  rating ott.Netflix  \\\n",
       "0  미 해병대 보병 부사관인 니콜라스 브로디 하사는 이라크 자유작전(이라크 전쟁) 중 ...     7.9     ['정액제']   \n",
       "1  경찰 223은 헤어진 옛 애인을 기다리며, 1달 동안 그녀에게서 연락이 오지 않으면...     8.1         NaN   \n",
       "2  도시의 전설에 대한 논문을 쓰고 있는 헬렌 라일(Helen Lyle: 버지니아 매드...     6.6         NaN   \n",
       "3  자동차 회사의 리콜 심사관으로 일하는 주인공(에드워드 노튼)은 일상의 무료함과 공허...     8.6     ['정액제']   \n",
       "4  산 페드로 부두에서 27명이 사망하고 9,100만달러가 증발하는 유혈극이 벌어진다....     8.3     ['정액제']   \n",
       "\n",
       "  ott.Watcha            ott.wavve ott.tving ott.coupang  \n",
       "0        NaN                  NaN       NaN         NaN  \n",
       "1    ['정액제']                  NaN       NaN         NaN  \n",
       "2        NaN        ['정액제', '대여']       NaN         NaN  \n",
       "3        NaN               ['구매']    ['구매']     ['정액제']  \n",
       "4        NaN  ['정액제', '대여', '구매']    ['구매']         NaN  "
      ]
     },
     "execution_count": 106,
     "metadata": {},
     "output_type": "execute_result"
    }
   ],
   "source": [
    "df.head(5)"
   ]
  },
  {
   "cell_type": "code",
   "execution_count": 114,
   "id": "c7dd51cc",
   "metadata": {},
   "outputs": [],
   "source": [
    "import ast\n",
    "a = set()\n",
    "for i in df['genre'].unique():\n",
    "    for val in ast.literal_eval(i):\n",
    "        a.add(val)"
   ]
  },
  {
   "cell_type": "code",
   "execution_count": 115,
   "id": "8c8ec4e7",
   "metadata": {},
   "outputs": [
    {
     "data": {
      "text/plain": [
       "{'SF',\n",
       " 'e스포츠 리그',\n",
       " '가족',\n",
       " '가족 예능',\n",
       " '강연',\n",
       " '갱스터',\n",
       " '건강',\n",
       " '게임',\n",
       " '게임 버라이어티',\n",
       " '게임쇼',\n",
       " '고전 키즈',\n",
       " '공룡',\n",
       " '공연',\n",
       " '공연실황',\n",
       " '공포',\n",
       " '과학',\n",
       " '관찰리얼리티',\n",
       " '교양',\n",
       " '교육',\n",
       " '국제대회',\n",
       " '권력',\n",
       " '기술',\n",
       " '나영석 예능',\n",
       " '낚시',\n",
       " '노래',\n",
       " '느와르',\n",
       " '다큐멘터리',\n",
       " '다크 코미디',\n",
       " '단막극',\n",
       " '당구',\n",
       " '독서 예능',\n",
       " '동물',\n",
       " '동요',\n",
       " '동화',\n",
       " '드라마',\n",
       " '디지털오리지널',\n",
       " '로맨스',\n",
       " '로맨틱 코미디',\n",
       " '로봇',\n",
       " '리빙',\n",
       " '리얼리티',\n",
       " '마법',\n",
       " '마법과 모험',\n",
       " '막장',\n",
       " '먹방',\n",
       " '메디컬',\n",
       " '멜로',\n",
       " '명랑',\n",
       " '모험',\n",
       " '뮤지컬',\n",
       " '뮤직',\n",
       " '미국',\n",
       " '미스터리',\n",
       " '밀리터리',\n",
       " '버라이어티',\n",
       " '범죄',\n",
       " '범죄 스릴러',\n",
       " '법정',\n",
       " '복수',\n",
       " '뷰티',\n",
       " '비하인드',\n",
       " '사극',\n",
       " '생활꿀팁',\n",
       " '서바이벌',\n",
       " '서부',\n",
       " '서부극',\n",
       " '선발대회',\n",
       " '성인',\n",
       " '성장',\n",
       " '소설 원작',\n",
       " '수사극',\n",
       " '수사물',\n",
       " '순정',\n",
       " '스릴러',\n",
       " '스타일',\n",
       " '스페셜',\n",
       " '스포츠',\n",
       " '스포츠 예능',\n",
       " '시대극',\n",
       " '시리즈물',\n",
       " '시사',\n",
       " '시상식',\n",
       " '시트콤',\n",
       " '실화',\n",
       " '실화 바탕',\n",
       " '아이돌',\n",
       " '애니',\n",
       " '애니멀',\n",
       " '애니메이션',\n",
       " '액션',\n",
       " '어드벤처',\n",
       " '어린이',\n",
       " '에듀테인먼트',\n",
       " '여성주인공',\n",
       " '여행',\n",
       " '역사',\n",
       " '연애',\n",
       " '연애 리얼리티',\n",
       " '엽기',\n",
       " '영국',\n",
       " '영어교육',\n",
       " '영유아',\n",
       " '영화',\n",
       " '예능',\n",
       " '예능 스페셜',\n",
       " '오컬트',\n",
       " '오피스 드라마',\n",
       " '요리',\n",
       " '요리 서바이벌',\n",
       " '워맨스',\n",
       " '웹드라마',\n",
       " '웹예능',\n",
       " '웹툰',\n",
       " '유아',\n",
       " '육아',\n",
       " '음식',\n",
       " '음악',\n",
       " '음악 서바이벌',\n",
       " '음악예능',\n",
       " '의학',\n",
       " '인포테인먼트',\n",
       " '일반',\n",
       " '일본',\n",
       " '자연',\n",
       " '재테크',\n",
       " '전기',\n",
       " '전쟁',\n",
       " '정치',\n",
       " '중국',\n",
       " '차트쇼',\n",
       " '첩보물',\n",
       " '청춘',\n",
       " '축제',\n",
       " '취미',\n",
       " '코미디',\n",
       " '콘서트',\n",
       " '쿡방',\n",
       " '퀴즈쇼',\n",
       " '키즈',\n",
       " '타임슬립',\n",
       " '탐사보도',\n",
       " '토론',\n",
       " '토크',\n",
       " '판타지',\n",
       " '패밀리',\n",
       " '펫',\n",
       " '학습',\n",
       " '학원',\n",
       " '해외시리즈',\n",
       " '호러',\n",
       " '홀리데이',\n",
       " '홈트',\n",
       " '휴먼',\n",
       " '히어로',\n",
       " '힐링 예능'}"
      ]
     },
     "execution_count": 115,
     "metadata": {},
     "output_type": "execute_result"
    }
   ],
   "source": [
    "a"
   ]
  },
  {
   "cell_type": "markdown",
   "id": "ea794500",
   "metadata": {},
   "source": [
    "# 뺄 것들\n",
    "- ''\n",
    "- '3d'\n",
    "- 'Made in Europe'\n",
    "- 'Reality TV'\n",
    "- 'sf' => 'SF'\n",
    "- '건강/의학' => '건강', '의학'\n",
    "- '공포(호러)' => '공포'\n",
    "- '공포/스릴러' => '공포', '스릴러'\n",
    "- '공포/오컬트' => '공포', '오컬트'\n",
    "- '교육&독서 예능' => '교육', '독서 예능'\n",
    "- '노래/동요' => '노래', '동요'\n",
    "- '동물 친구들' => '동물'\n",
    "- '로맨스/순정' => '로맨스', '순정'\n",
    "- '로봇/액션' => '로봇', '액션'\n",
    "- '리빙/재테크' => '리빙', '재테크'\n",
    "- '멜로/로맨스' => '멜로', '로맨스'\n",
    "- '모험/판타지' => '모험', '판타지'\n",
    "- '미스터리/스릴러' => '미스터리', '스릴러'\n",
    "- '서부극(웨스턴) => '서부극'\n",
    "- '스페셜 몰아보기' => '스페셜'\n",
    "- '시사・교양' => '시사', '교양'\n",
    "- '실화 바탕' => '실화'\n",
    "- '어드밴처', '어드벤처', '어드벤쳐' => '어드벤쳐'\n",
    "- '연애 리얼리티&토크쇼' => '연애 리얼리티', '토크쇼'\n",
    "- '자동차,기차, 탈 것' => 없애자\n",
    "- '자동차와 비행기' => 없애자\n",
    "- '청춘(성장)' => '청춘'\n",
    "- '코메디' => '코미디'\n",
    "- '토크쇼' => '토크'"
   ]
  },
  {
   "cell_type": "code",
   "execution_count": 406,
   "id": "37c06f42",
   "metadata": {},
   "outputs": [],
   "source": [
    "change_dict = {\"\" : \"del\",\"3d\" : \"del\", \"Made in Europe\": \"del\", \"Reality TV\": \"del\", \"sf\": \"SF\", \"공포(호러)\": \"공포\", \"동물 친구들\": \"동물\", \"서부극(웨스턴)\": \"서부극\", \"스페셜 몰아보기\" : \"스페셜\", \"어드밴처\" : \"어드벤처\", \"어드벤쳐\" : \"어드벤처\", \"자동차,기차, 탈 것\" : \"del\", \"자동차와 비행기\" : \"del\", \"청춘(성장)\": \"청춘\", \"코메디\" : \"코미디\", \"토크쇼\" : \"토크\", \"아이돌(리얼리티)\": \"아이돌\"}"
   ]
  },
  {
   "cell_type": "code",
   "execution_count": 407,
   "id": "b1aeac95",
   "metadata": {},
   "outputs": [],
   "source": [
    "def split_func(val_list):\n",
    "    ans = []\n",
    "    for val in val_list:\n",
    "        for v in val.replace(\"&\", \"/\").replace(\"・\", \"/\").split(\"/\"):\n",
    "            ans.append(v.strip())\n",
    "    return ans"
   ]
  },
  {
   "cell_type": "code",
   "execution_count": 409,
   "id": "5c3f23da",
   "metadata": {},
   "outputs": [
    {
     "name": "stderr",
     "output_type": "stream",
     "text": [
      "/usr/local/lib/python3.9/site-packages/pandas/core/series.py:1056: SettingWithCopyWarning: \n",
      "A value is trying to be set on a copy of a slice from a DataFrame\n",
      "\n",
      "See the caveats in the documentation: https://pandas.pydata.org/pandas-docs/stable/user_guide/indexing.html#returning-a-view-versus-a-copy\n",
      "  cacher_needs_updating = self._check_is_chained_assignment_possible()\n"
     ]
    }
   ],
   "source": [
    "import ast\n",
    "def func(x):\n",
    "    \n",
    "    if change_dict.get(x) is None:\n",
    "        return x\n",
    "    elif change_dict.get(x) == \"del\":\n",
    "        return\n",
    "    return change_dict.get(x)\n",
    "    \n",
    "for idx in df.index:\n",
    "    cur = df.loc[idx]\n",
    "    try:\n",
    "        # 먼저 \"/\", \"&\"를 나누는 것부터 하자.\n",
    "        cur_genres = split_func(ast.literal_eval(cur['genre']))\n",
    "\n",
    "        ch_genres = list(filter(lambda x: x is not None, map(func, cur_genres)))\n",
    "\n",
    "        cur['genre'] = str(list(set(ch_genres)))\n",
    "\n",
    "        df.loc[idx] = cur\n",
    "    except Exception as e:\n",
    "        pass\n",
    "        print(e)"
   ]
  },
  {
   "cell_type": "code",
   "execution_count": 410,
   "id": "5f003695",
   "metadata": {},
   "outputs": [
    {
     "data": {
      "text/html": [
       "<div>\n",
       "<style scoped>\n",
       "    .dataframe tbody tr th:only-of-type {\n",
       "        vertical-align: middle;\n",
       "    }\n",
       "\n",
       "    .dataframe tbody tr th {\n",
       "        vertical-align: top;\n",
       "    }\n",
       "\n",
       "    .dataframe thead th {\n",
       "        text-align: right;\n",
       "    }\n",
       "</style>\n",
       "<table border=\"1\" class=\"dataframe\">\n",
       "  <thead>\n",
       "    <tr style=\"text-align: right;\">\n",
       "      <th></th>\n",
       "      <th>Unnamed: 0</th>\n",
       "      <th>id</th>\n",
       "      <th>title</th>\n",
       "      <th>original_title</th>\n",
       "      <th>category</th>\n",
       "      <th>country</th>\n",
       "      <th>genre</th>\n",
       "      <th>director</th>\n",
       "      <th>actors</th>\n",
       "      <th>released_year</th>\n",
       "      <th>runtime</th>\n",
       "      <th>summary</th>\n",
       "      <th>rating</th>\n",
       "      <th>imgurl</th>\n",
       "      <th>ott.coupang</th>\n",
       "      <th>ott.Netflix</th>\n",
       "      <th>ott.tving</th>\n",
       "      <th>ott.Watcha</th>\n",
       "      <th>ott.wavve</th>\n",
       "    </tr>\n",
       "  </thead>\n",
       "  <tbody>\n",
       "    <tr>\n",
       "      <th>0</th>\n",
       "      <td>0</td>\n",
       "      <td>10</td>\n",
       "      <td>홈랜드</td>\n",
       "      <td>Homeland</td>\n",
       "      <td>TV 프로그램</td>\n",
       "      <td>['미국']</td>\n",
       "      <td>['범죄', '액션', '드라마', '전쟁', '스릴러']</td>\n",
       "      <td>[]</td>\n",
       "      <td>['클레어 데인즈', '모리 스터링', '너맨 아카', '님랏 카우르', '맨디 파...</td>\n",
       "      <td>2011.0</td>\n",
       "      <td>52.0</td>\n",
       "      <td>미 해병대 보병 부사관인 니콜라스 브로디 하사는 이라크 자유작전(이라크 전쟁) 중 ...</td>\n",
       "      <td>7.9</td>\n",
       "      <td>https://images.justwatch.com/poster/46536252/s332</td>\n",
       "      <td>NaN</td>\n",
       "      <td>['정액제']</td>\n",
       "      <td>NaN</td>\n",
       "      <td>NaN</td>\n",
       "      <td>NaN</td>\n",
       "    </tr>\n",
       "    <tr>\n",
       "      <th>1</th>\n",
       "      <td>1</td>\n",
       "      <td>112614</td>\n",
       "      <td>중경삼림</td>\n",
       "      <td>重慶森林</td>\n",
       "      <td>영화</td>\n",
       "      <td>['홍콩']</td>\n",
       "      <td>['로맨스', '코미디', '범죄', '드라마']</td>\n",
       "      <td>['왕가위']</td>\n",
       "      <td>['임청하', '양조위', '왕페이', '금성무', '주가령', '청 싱 초', '...</td>\n",
       "      <td>1994.0</td>\n",
       "      <td>103.0</td>\n",
       "      <td>경찰 223은 헤어진 옛 애인을 기다리며, 1달 동안 그녀에게서 연락이 오지 않으면...</td>\n",
       "      <td>8.1</td>\n",
       "      <td>https://images.justwatch.com/poster/241789176/...</td>\n",
       "      <td>NaN</td>\n",
       "      <td>NaN</td>\n",
       "      <td>NaN</td>\n",
       "      <td>['정액제']</td>\n",
       "      <td>NaN</td>\n",
       "    </tr>\n",
       "    <tr>\n",
       "      <th>2</th>\n",
       "      <td>2</td>\n",
       "      <td>128565</td>\n",
       "      <td>캔디맨</td>\n",
       "      <td>Candyman</td>\n",
       "      <td>영화</td>\n",
       "      <td>['미국']</td>\n",
       "      <td>['스릴러', '공포', '드라마']</td>\n",
       "      <td>['버나드 로즈']</td>\n",
       "      <td>['버지니아 매드슨', '토니 토드', '잰더 버클리', '카시 레몬즈', '바네사...</td>\n",
       "      <td>1992.0</td>\n",
       "      <td>99.0</td>\n",
       "      <td>도시의 전설에 대한 논문을 쓰고 있는 헬렌 라일(Helen Lyle: 버지니아 매드...</td>\n",
       "      <td>6.6</td>\n",
       "      <td>https://images.justwatch.com/poster/10703948/s332</td>\n",
       "      <td>NaN</td>\n",
       "      <td>NaN</td>\n",
       "      <td>NaN</td>\n",
       "      <td>NaN</td>\n",
       "      <td>['정액제', '대여']</td>\n",
       "    </tr>\n",
       "    <tr>\n",
       "      <th>3</th>\n",
       "      <td>3</td>\n",
       "      <td>7320</td>\n",
       "      <td>유주얼 서스펙트</td>\n",
       "      <td>The Usual Suspects</td>\n",
       "      <td>영화</td>\n",
       "      <td>['미국']</td>\n",
       "      <td>['범죄', '드라마', '스릴러']</td>\n",
       "      <td>['브라이언 싱어']</td>\n",
       "      <td>['스티븐 볼드윈', '가브리엘 번', '베네치오 델 토로', '채즈 팔민테리', ...</td>\n",
       "      <td>1995.0</td>\n",
       "      <td>106.0</td>\n",
       "      <td>산 페드로 부두에서 27명이 사망하고 9,100만달러가 증발하는 유혈극이 벌어진다....</td>\n",
       "      <td>8.3</td>\n",
       "      <td>https://images.justwatch.com/poster/8655298/s332</td>\n",
       "      <td>NaN</td>\n",
       "      <td>['정액제']</td>\n",
       "      <td>1.0</td>\n",
       "      <td>NaN</td>\n",
       "      <td>['정액제', '구매', '대여']</td>\n",
       "    </tr>\n",
       "    <tr>\n",
       "      <th>4</th>\n",
       "      <td>4</td>\n",
       "      <td>42409</td>\n",
       "      <td>파이트 클럽</td>\n",
       "      <td>Fight Club</td>\n",
       "      <td>영화</td>\n",
       "      <td>['독일', '미국']</td>\n",
       "      <td>['드라마']</td>\n",
       "      <td>['데이빗 핀처']</td>\n",
       "      <td>['브래드 피트', '에드워드 노튼', '헬레나 본햄 카터', '미트 로프', '자...</td>\n",
       "      <td>1999.0</td>\n",
       "      <td>139.0</td>\n",
       "      <td>자동차 회사의 리콜 심사관으로 일하는 주인공(에드워드 노튼)은 일상의 무료함과 공허...</td>\n",
       "      <td>8.6</td>\n",
       "      <td>https://images.justwatch.com/poster/21851876/s332</td>\n",
       "      <td>1.0</td>\n",
       "      <td>['정액제']</td>\n",
       "      <td>1.0</td>\n",
       "      <td>NaN</td>\n",
       "      <td>['구매']</td>\n",
       "    </tr>\n",
       "  </tbody>\n",
       "</table>\n",
       "</div>"
      ],
      "text/plain": [
       "   Unnamed: 0      id     title      original_title category       country  \\\n",
       "0           0      10       홈랜드            Homeland  TV 프로그램        ['미국']   \n",
       "1           1  112614      중경삼림                重慶森林       영화        ['홍콩']   \n",
       "2           2  128565       캔디맨            Candyman       영화        ['미국']   \n",
       "3           3    7320  유주얼 서스펙트  The Usual Suspects       영화        ['미국']   \n",
       "4           4   42409    파이트 클럽          Fight Club       영화  ['독일', '미국']   \n",
       "\n",
       "                              genre     director  \\\n",
       "0  ['범죄', '액션', '드라마', '전쟁', '스릴러']           []   \n",
       "1       ['로맨스', '코미디', '범죄', '드라마']      ['왕가위']   \n",
       "2              ['스릴러', '공포', '드라마']   ['버나드 로즈']   \n",
       "3              ['범죄', '드라마', '스릴러']  ['브라이언 싱어']   \n",
       "4                           ['드라마']   ['데이빗 핀처']   \n",
       "\n",
       "                                              actors  released_year  runtime  \\\n",
       "0  ['클레어 데인즈', '모리 스터링', '너맨 아카', '님랏 카우르', '맨디 파...         2011.0     52.0   \n",
       "1  ['임청하', '양조위', '왕페이', '금성무', '주가령', '청 싱 초', '...         1994.0    103.0   \n",
       "2  ['버지니아 매드슨', '토니 토드', '잰더 버클리', '카시 레몬즈', '바네사...         1992.0     99.0   \n",
       "3  ['스티븐 볼드윈', '가브리엘 번', '베네치오 델 토로', '채즈 팔민테리', ...         1995.0    106.0   \n",
       "4  ['브래드 피트', '에드워드 노튼', '헬레나 본햄 카터', '미트 로프', '자...         1999.0    139.0   \n",
       "\n",
       "                                             summary  rating  \\\n",
       "0  미 해병대 보병 부사관인 니콜라스 브로디 하사는 이라크 자유작전(이라크 전쟁) 중 ...     7.9   \n",
       "1  경찰 223은 헤어진 옛 애인을 기다리며, 1달 동안 그녀에게서 연락이 오지 않으면...     8.1   \n",
       "2  도시의 전설에 대한 논문을 쓰고 있는 헬렌 라일(Helen Lyle: 버지니아 매드...     6.6   \n",
       "3  산 페드로 부두에서 27명이 사망하고 9,100만달러가 증발하는 유혈극이 벌어진다....     8.3   \n",
       "4  자동차 회사의 리콜 심사관으로 일하는 주인공(에드워드 노튼)은 일상의 무료함과 공허...     8.6   \n",
       "\n",
       "                                              imgurl  ott.coupang ott.Netflix  \\\n",
       "0  https://images.justwatch.com/poster/46536252/s332          NaN     ['정액제']   \n",
       "1  https://images.justwatch.com/poster/241789176/...          NaN         NaN   \n",
       "2  https://images.justwatch.com/poster/10703948/s332          NaN         NaN   \n",
       "3   https://images.justwatch.com/poster/8655298/s332          NaN     ['정액제']   \n",
       "4  https://images.justwatch.com/poster/21851876/s332          1.0     ['정액제']   \n",
       "\n",
       "   ott.tving ott.Watcha            ott.wavve  \n",
       "0        NaN        NaN                  NaN  \n",
       "1        NaN    ['정액제']                  NaN  \n",
       "2        NaN        NaN        ['정액제', '대여']  \n",
       "3        1.0        NaN  ['정액제', '구매', '대여']  \n",
       "4        1.0        NaN               ['구매']  "
      ]
     },
     "execution_count": 410,
     "metadata": {},
     "output_type": "execute_result"
    }
   ],
   "source": [
    "df.head(5)"
   ]
  },
  {
   "cell_type": "code",
   "execution_count": 411,
   "id": "2096e4f7",
   "metadata": {},
   "outputs": [],
   "source": [
    "df.drop(columns=['Unnamed: 0'], inplace=True)"
   ]
  },
  {
   "cell_type": "code",
   "execution_count": 412,
   "id": "91c3bb58",
   "metadata": {},
   "outputs": [],
   "source": [
    "df.to_csv(\"/Users/jeonggyu/Desktop/수집한 dataset/new_data/final_total_data.csv\")\n",
    "df.to_json(\"/Users/jeonggyu/Desktop/수집한 dataset/new_data/final_total_data.json\", orient=\"index\")"
   ]
  },
  {
   "cell_type": "code",
   "execution_count": null,
   "id": "1e9521fe",
   "metadata": {},
   "outputs": [],
   "source": []
  }
 ],
 "metadata": {
  "kernelspec": {
   "display_name": "Python 3 (ipykernel)",
   "language": "python",
   "name": "python3"
  },
  "language_info": {
   "codemirror_mode": {
    "name": "ipython",
    "version": 3
   },
   "file_extension": ".py",
   "mimetype": "text/x-python",
   "name": "python",
   "nbconvert_exporter": "python",
   "pygments_lexer": "ipython3",
   "version": "3.9.6"
  }
 },
 "nbformat": 4,
 "nbformat_minor": 5
}
