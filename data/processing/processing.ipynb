{
 "cells": [
  {
   "cell_type": "code",
   "execution_count": 40,
   "id": "2ab99d00",
   "metadata": {},
   "outputs": [],
   "source": [
    "import pandas as pd\n",
    "import json"
   ]
  },
  {
   "cell_type": "code",
   "execution_count": 219,
   "id": "deb3715b",
   "metadata": {},
   "outputs": [],
   "source": [
    "pd.set_option(\"display.max_columns\", None)"
   ]
  },
  {
   "cell_type": "markdown",
   "id": "19db3040",
   "metadata": {},
   "source": [
    "# JustWatch 정보 확인"
   ]
  },
  {
   "cell_type": "code",
   "execution_count": null,
   "id": "a30fd379",
   "metadata": {},
   "outputs": [],
   "source": [
    "jw_df = pd.read_csv('/Users/jeonggyu/Desktop/수집한 dataset/jw_ott.csv')"
   ]
  },
  {
   "cell_type": "code",
   "execution_count": 111,
   "id": "0c637583",
   "metadata": {},
   "outputs": [
    {
     "data": {
      "text/plain": [
       "Index(['Unnamed: 0', 'title', 'original_title', 'category', 'country', 'genre',\n",
       "       'director', 'actors', 'released_year', 'runtime', 'summary', 'rating',\n",
       "       'ott.Netflix', 'ott.Naver Store', 'ott.Watcha', 'ott.wavve',\n",
       "       'ott.Google Play Movies', 'ott.Amazon Prime Video', 'ott.BroadwayHD',\n",
       "       'ott.Mubi', 'ott.', 'ott.Plex', 'ott.DocAlliance Films',\n",
       "       'ott.WOW Presents Plus', 'ott.Crunchyroll', 'ott.DOCSVILLE',\n",
       "       'ott.GuideDoc', 'ott.Filmzie', 'ott.True Story', 'ott.Hoichoi',\n",
       "       'ott.Spamflix', 'ott.Dekkoo', 'ott.Curiosity Stream'],\n",
       "      dtype='object')"
      ]
     },
     "execution_count": 111,
     "metadata": {},
     "output_type": "execute_result"
    }
   ],
   "source": [
    "jw_df.columns"
   ]
  },
  {
   "cell_type": "markdown",
   "id": "be295cb4",
   "metadata": {},
   "source": [
    "# Justwatch 데이터 전처리"
   ]
  },
  {
   "cell_type": "code",
   "execution_count": 459,
   "id": "b9e26073",
   "metadata": {},
   "outputs": [
    {
     "data": {
      "text/plain": [
       "3267"
      ]
     },
     "execution_count": 459,
     "metadata": {},
     "output_type": "execute_result"
    }
   ],
   "source": [
    "# 이건 어떻게 처리할까\n",
    "len(jw_df[jw_df['director'] == '[]'])"
   ]
  },
  {
   "cell_type": "code",
   "execution_count": 460,
   "id": "3d3e844e",
   "metadata": {},
   "outputs": [
    {
     "data": {
      "text/plain": [
       "Unnamed: 0                    0\n",
       "title                         0\n",
       "original_title                0\n",
       "category                      0\n",
       "country                       0\n",
       "genre                         0\n",
       "director                      0\n",
       "actors                        0\n",
       "released_year                 0\n",
       "runtime                      24\n",
       "summary                      61\n",
       "rating                        0\n",
       "ott.Netflix               12740\n",
       "ott.Naver Store            7893\n",
       "ott.Watcha                10635\n",
       "ott.wavve                  5040\n",
       "ott.Google Play Movies    11053\n",
       "ott.Amazon Prime Video    17634\n",
       "ott.BroadwayHD            17746\n",
       "ott.Mubi                  17742\n",
       "ott.                      17752\n",
       "ott.Plex                  17692\n",
       "ott.DocAlliance Films     17758\n",
       "ott.WOW Presents Plus     17761\n",
       "ott.Crunchyroll           17752\n",
       "ott.DOCSVILLE             17763\n",
       "ott.GuideDoc              17756\n",
       "ott.Filmzie               17759\n",
       "ott.True Story            17762\n",
       "ott.Hoichoi               17763\n",
       "ott.Spamflix              17762\n",
       "ott.Dekkoo                17763\n",
       "ott.Curiosity Stream      17763\n",
       "dtype: int64"
      ]
     },
     "execution_count": 460,
     "metadata": {},
     "output_type": "execute_result"
    }
   ],
   "source": [
    "# runtime없는 것은 어떻게? summary없는 것은 어떻게?\n",
    "jw_df.isnull().sum()"
   ]
  },
  {
   "cell_type": "code",
   "execution_count": 482,
   "id": "47c52b83",
   "metadata": {},
   "outputs": [],
   "source": [
    "# ott서비스 필요한 것만 가져옴 (넷플릭스, 티빙, 웨이브, 왓챠, 쿠팡플레이)\n",
    "need_ott = set(filter(lambda x: x.startswith('ott'), jw_df.columns)) - {'ott.Netflix', 'ott.Watcha', 'ott.wavve'}\n",
    "jw_df = jw_df.drop(columns=need_ott)"
   ]
  },
  {
   "cell_type": "code",
   "execution_count": 483,
   "id": "b57650ea",
   "metadata": {},
   "outputs": [
    {
     "data": {
      "text/plain": [
       "0"
      ]
     },
     "execution_count": 483,
     "metadata": {},
     "output_type": "execute_result"
    }
   ],
   "source": [
    "len(jw_df[jw_df.duplicated()])"
   ]
  },
  {
   "cell_type": "markdown",
   "id": "8c10d56c",
   "metadata": {},
   "source": [
    "# tving 전처리"
   ]
  },
  {
   "cell_type": "code",
   "execution_count": 498,
   "id": "6ff56bdb",
   "metadata": {},
   "outputs": [],
   "source": [
    "tving_df = pd.read_csv('/Users/jeonggyu/Desktop/수집한 dataset/tving_ott.csv')"
   ]
  },
  {
   "cell_type": "code",
   "execution_count": 499,
   "id": "fef69d7d",
   "metadata": {},
   "outputs": [
    {
     "data": {
      "text/plain": [
       "Index(['Unnamed: 0', 'title', 'original_title', 'category', 'country', 'genre',\n",
       "       'director', 'actors', 'released_year', 'runtime', 'summary', 'rating',\n",
       "       'ott.tving'],\n",
       "      dtype='object')"
      ]
     },
     "execution_count": 499,
     "metadata": {},
     "output_type": "execute_result"
    }
   ],
   "source": [
    "tving_df.columns"
   ]
  },
  {
   "cell_type": "code",
   "execution_count": 500,
   "id": "c228677e",
   "metadata": {},
   "outputs": [
    {
     "name": "stdout",
     "output_type": "stream",
     "text": [
      "5694\n",
      "5852\n"
     ]
    }
   ],
   "source": [
    "print(len(tving_df['title'].unique()))\n",
    "print(len(tving_df))"
   ]
  },
  {
   "cell_type": "code",
   "execution_count": 501,
   "id": "cecabb7c",
   "metadata": {},
   "outputs": [
    {
     "data": {
      "text/plain": [
       "Unnamed: 0           0\n",
       "title                0\n",
       "original_title    2392\n",
       "category             0\n",
       "country              0\n",
       "genre                0\n",
       "director             0\n",
       "actors               0\n",
       "released_year        0\n",
       "runtime              0\n",
       "summary              3\n",
       "rating               0\n",
       "ott.tving            0\n",
       "dtype: int64"
      ]
     },
     "execution_count": 501,
     "metadata": {},
     "output_type": "execute_result"
    }
   ],
   "source": [
    "tving_df.isnull().sum()"
   ]
  },
  {
   "cell_type": "code",
   "execution_count": 503,
   "id": "d4737439",
   "metadata": {},
   "outputs": [
    {
     "data": {
      "text/plain": [
       "31"
      ]
     },
     "execution_count": 503,
     "metadata": {},
     "output_type": "execute_result"
    }
   ],
   "source": [
    "len(tving_df[tving_df.duplicated()])"
   ]
  },
  {
   "cell_type": "code",
   "execution_count": 504,
   "id": "586da6c7",
   "metadata": {},
   "outputs": [],
   "source": [
    "tving_df = tving_df.drop_duplicates()"
   ]
  },
  {
   "cell_type": "code",
   "execution_count": 505,
   "id": "634e0600",
   "metadata": {},
   "outputs": [
    {
     "data": {
      "text/plain": [
       "0"
      ]
     },
     "execution_count": 505,
     "metadata": {},
     "output_type": "execute_result"
    }
   ],
   "source": [
    "len(tving_df[tving_df.duplicated()])"
   ]
  },
  {
   "cell_type": "code",
   "execution_count": 506,
   "id": "69657ac6",
   "metadata": {},
   "outputs": [
    {
     "data": {
      "text/plain": [
       "Unnamed: 0       0\n",
       "title            0\n",
       "category         0\n",
       "country          0\n",
       "genre            0\n",
       "director         0\n",
       "actors           0\n",
       "released_year    0\n",
       "runtime          0\n",
       "summary          3\n",
       "rating           0\n",
       "ott.tving        0\n",
       "dtype: int64"
      ]
     },
     "execution_count": 506,
     "metadata": {},
     "output_type": "execute_result"
    }
   ],
   "source": [
    "tving_df.isnull().sum()"
   ]
  },
  {
   "cell_type": "code",
   "execution_count": 563,
   "id": "52bfb30b",
   "metadata": {},
   "outputs": [
    {
     "data": {
      "text/plain": [
       "68"
      ]
     },
     "execution_count": 563,
     "metadata": {},
     "output_type": "execute_result"
    }
   ],
   "source": [
    "len(tving_df[tving_df.duplicated(['title', 'category', 'director'])])"
   ]
  },
  {
   "cell_type": "code",
   "execution_count": 564,
   "id": "875ce3dd",
   "metadata": {},
   "outputs": [],
   "source": [
    "tving_df = tving_df.drop_duplicates(['title', 'category', 'director'])"
   ]
  },
  {
   "cell_type": "code",
   "execution_count": 579,
   "id": "6d18ddf4",
   "metadata": {},
   "outputs": [
    {
     "data": {
      "text/plain": [
       "5753"
      ]
     },
     "execution_count": 579,
     "metadata": {},
     "output_type": "execute_result"
    }
   ],
   "source": [
    "len(tving_df)"
   ]
  },
  {
   "cell_type": "markdown",
   "id": "148ddaaa",
   "metadata": {},
   "source": [
    "# Coupang 전처리"
   ]
  },
  {
   "cell_type": "code",
   "execution_count": 507,
   "id": "d6193515",
   "metadata": {},
   "outputs": [],
   "source": [
    "coupang_df = pd.read_csv('/Users/jeonggyu/Desktop/수집한 dataset/coupang_ott.csv')"
   ]
  },
  {
   "cell_type": "code",
   "execution_count": 508,
   "id": "142ab884",
   "metadata": {},
   "outputs": [
    {
     "data": {
      "text/plain": [
       "Index(['Unnamed: 0', 'id', 'title', 'director', 'actors', 'summary', 'country',\n",
       "       'category', 'genre', 'runtime', 'rating', 'is_netflix', 'is_tving',\n",
       "       'is_wavve', 'is_watcha', 'is_coopang', 'ott.coupang'],\n",
       "      dtype='object')"
      ]
     },
     "execution_count": 508,
     "metadata": {},
     "output_type": "execute_result"
    }
   ],
   "source": [
    "coupang_df.columns"
   ]
  },
  {
   "cell_type": "code",
   "execution_count": 509,
   "id": "c053ea04",
   "metadata": {},
   "outputs": [
    {
     "name": "stdout",
     "output_type": "stream",
     "text": [
      "1791\n",
      "1791\n"
     ]
    }
   ],
   "source": [
    "print(len(coupang_df['title'].unique()))\n",
    "print(len(coupang_df))"
   ]
  },
  {
   "cell_type": "code",
   "execution_count": 510,
   "id": "255a6dd5",
   "metadata": {},
   "outputs": [
    {
     "data": {
      "text/plain": [
       "Unnamed: 0     0\n",
       "id             0\n",
       "title          0\n",
       "director       0\n",
       "actors         0\n",
       "summary        0\n",
       "country        0\n",
       "category       0\n",
       "genre          0\n",
       "runtime        0\n",
       "rating         0\n",
       "is_netflix     0\n",
       "is_tving       0\n",
       "is_wavve       0\n",
       "is_watcha      0\n",
       "is_coopang     0\n",
       "ott.coupang    0\n",
       "dtype: int64"
      ]
     },
     "execution_count": 510,
     "metadata": {},
     "output_type": "execute_result"
    }
   ],
   "source": [
    "coupang_df.isnull().sum()"
   ]
  },
  {
   "cell_type": "code",
   "execution_count": 511,
   "id": "b29d9886",
   "metadata": {},
   "outputs": [],
   "source": [
    "coupang_df = coupang_df.drop(columns=['id','is_netflix', 'is_tving', 'is_wavve', 'is_watcha', 'is_coopang'])"
   ]
  },
  {
   "cell_type": "code",
   "execution_count": 512,
   "id": "bfb9a37e",
   "metadata": {},
   "outputs": [
    {
     "data": {
      "text/plain": [
       "0"
      ]
     },
     "execution_count": 512,
     "metadata": {},
     "output_type": "execute_result"
    }
   ],
   "source": [
    "len(coupang_df[coupang_df.duplicated()])"
   ]
  },
  {
   "cell_type": "code",
   "execution_count": 528,
   "id": "8e8f9657",
   "metadata": {},
   "outputs": [
    {
     "data": {
      "text/plain": [
       "1791"
      ]
     },
     "execution_count": 528,
     "metadata": {},
     "output_type": "execute_result"
    }
   ],
   "source": [
    "len(coupang_df)"
   ]
  },
  {
   "cell_type": "code",
   "execution_count": 574,
   "id": "667319df",
   "metadata": {},
   "outputs": [
    {
     "data": {
      "text/plain": [
       "0"
      ]
     },
     "execution_count": 574,
     "metadata": {},
     "output_type": "execute_result"
    }
   ],
   "source": [
    "len(coupang_df[coupang_df.duplicated(['title', 'category', 'director'])])"
   ]
  },
  {
   "cell_type": "markdown",
   "id": "9fcb709a",
   "metadata": {},
   "source": [
    "# tving + coupang"
   ]
  },
  {
   "cell_type": "code",
   "execution_count": 653,
   "id": "66ba6cbd",
   "metadata": {},
   "outputs": [],
   "source": [
    "tv_cou_df = pd.concat([tving_df, coupang_df], ignore_index=True)"
   ]
  },
  {
   "cell_type": "code",
   "execution_count": 654,
   "id": "0a1e0873",
   "metadata": {},
   "outputs": [
    {
     "name": "stdout",
     "output_type": "stream",
     "text": [
      "7544\n"
     ]
    },
    {
     "data": {
      "text/html": [
       "<div>\n",
       "<style scoped>\n",
       "    .dataframe tbody tr th:only-of-type {\n",
       "        vertical-align: middle;\n",
       "    }\n",
       "\n",
       "    .dataframe tbody tr th {\n",
       "        vertical-align: top;\n",
       "    }\n",
       "\n",
       "    .dataframe thead th {\n",
       "        text-align: right;\n",
       "    }\n",
       "</style>\n",
       "<table border=\"1\" class=\"dataframe\">\n",
       "  <thead>\n",
       "    <tr style=\"text-align: right;\">\n",
       "      <th></th>\n",
       "      <th>Unnamed: 0</th>\n",
       "      <th>title</th>\n",
       "      <th>category</th>\n",
       "      <th>country</th>\n",
       "      <th>genre</th>\n",
       "      <th>director</th>\n",
       "      <th>actors</th>\n",
       "      <th>released_year</th>\n",
       "      <th>runtime</th>\n",
       "      <th>summary</th>\n",
       "      <th>rating</th>\n",
       "      <th>ott.tving</th>\n",
       "      <th>ott.coupang</th>\n",
       "    </tr>\n",
       "  </thead>\n",
       "  <tbody>\n",
       "    <tr>\n",
       "      <th>0</th>\n",
       "      <td>0</td>\n",
       "      <td>갯마을 차차차</td>\n",
       "      <td>TV 프로그램</td>\n",
       "      <td>[]</td>\n",
       "      <td>['드라마', '로맨스']</td>\n",
       "      <td>['유제원']</td>\n",
       "      <td>['신민아', '김선호', '이상이', '김영옥', '조한철', '공민정', '인교...</td>\n",
       "      <td>2021.0</td>\n",
       "      <td>0</td>\n",
       "      <td>현실주의 치과의사 윤혜진과 만능 백수 홍반장이 짠내 사람내음 가득한 바닷마을 ‘공진...</td>\n",
       "      <td>0.0</td>\n",
       "      <td>['정액제']</td>\n",
       "      <td>NaN</td>\n",
       "    </tr>\n",
       "    <tr>\n",
       "      <th>1</th>\n",
       "      <td>0</td>\n",
       "      <td>유미의 세포들</td>\n",
       "      <td>TV 프로그램</td>\n",
       "      <td>[]</td>\n",
       "      <td>['드라마', '로맨스']</td>\n",
       "      <td>['이상엽']</td>\n",
       "      <td>['김고은', '안보현', '이유비', '박지현']</td>\n",
       "      <td>2021.0</td>\n",
       "      <td>0</td>\n",
       "      <td>세포들과 함께 먹고 사랑하고 성장하는 평범한 유미(김고은 분)의 이야기를 그린 세포...</td>\n",
       "      <td>0.0</td>\n",
       "      <td>['정액제']</td>\n",
       "      <td>NaN</td>\n",
       "    </tr>\n",
       "    <tr>\n",
       "      <th>2</th>\n",
       "      <td>0</td>\n",
       "      <td>환승연애</td>\n",
       "      <td>TV 프로그램</td>\n",
       "      <td>[]</td>\n",
       "      <td>['예능', '관찰리얼리티']</td>\n",
       "      <td>['이진주', '최미래', '이희선', '김슬기', '곽정은', '이승환', '신혜...</td>\n",
       "      <td>['사이먼도미닉', '이용진', '김예원', '유라']</td>\n",
       "      <td>2021.0</td>\n",
       "      <td>0</td>\n",
       "      <td>다양한 이유로 이별한 커플들이 모여 \\r\\n지나간 사랑을 되짚고 \\r\\n새로운 사랑...</td>\n",
       "      <td>0.0</td>\n",
       "      <td>['정액제']</td>\n",
       "      <td>NaN</td>\n",
       "    </tr>\n",
       "    <tr>\n",
       "      <th>3</th>\n",
       "      <td>0</td>\n",
       "      <td>놀라운 토요일</td>\n",
       "      <td>TV 프로그램</td>\n",
       "      <td>[]</td>\n",
       "      <td>['예능', '음악예능']</td>\n",
       "      <td>['이태경', '진보미', '강은비', '강유민', '김윤아', '임다영']</td>\n",
       "      <td>['신동엽', '김동현', '문세윤', '박나래', '넉살', '태연', '한해',...</td>\n",
       "      <td>2018.0</td>\n",
       "      <td>0</td>\n",
       "      <td>‘좋아요’ 폭발하는 SNS 핵 공감 핫 플레이스부터 오랜 전통이 살아 숨 쉬는 노포...</td>\n",
       "      <td>0.0</td>\n",
       "      <td>['정액제']</td>\n",
       "      <td>NaN</td>\n",
       "    </tr>\n",
       "    <tr>\n",
       "      <th>4</th>\n",
       "      <td>0</td>\n",
       "      <td>Show Me The Money 10</td>\n",
       "      <td>TV 프로그램</td>\n",
       "      <td>[]</td>\n",
       "      <td>['예능', '음악예능']</td>\n",
       "      <td>[]</td>\n",
       "      <td>[]</td>\n",
       "      <td>2021.0</td>\n",
       "      <td>0</td>\n",
       "      <td>Mnet &lt;Show Me The Money 10&gt;\\r\\n2021 COMING SOON</td>\n",
       "      <td>0.0</td>\n",
       "      <td>['정액제']</td>\n",
       "      <td>NaN</td>\n",
       "    </tr>\n",
       "  </tbody>\n",
       "</table>\n",
       "</div>"
      ],
      "text/plain": [
       "   Unnamed: 0                 title category country             genre  \\\n",
       "0           0               갯마을 차차차  TV 프로그램      []    ['드라마', '로맨스']   \n",
       "1           0               유미의 세포들  TV 프로그램      []    ['드라마', '로맨스']   \n",
       "2           0                  환승연애  TV 프로그램      []  ['예능', '관찰리얼리티']   \n",
       "3           0               놀라운 토요일  TV 프로그램      []    ['예능', '음악예능']   \n",
       "4           0  Show Me The Money 10  TV 프로그램      []    ['예능', '음악예능']   \n",
       "\n",
       "                                            director  \\\n",
       "0                                            ['유제원']   \n",
       "1                                            ['이상엽']   \n",
       "2  ['이진주', '최미래', '이희선', '김슬기', '곽정은', '이승환', '신혜...   \n",
       "3         ['이태경', '진보미', '강은비', '강유민', '김윤아', '임다영']   \n",
       "4                                                 []   \n",
       "\n",
       "                                              actors  released_year  runtime  \\\n",
       "0  ['신민아', '김선호', '이상이', '김영옥', '조한철', '공민정', '인교...         2021.0        0   \n",
       "1                       ['김고은', '안보현', '이유비', '박지현']         2021.0        0   \n",
       "2                     ['사이먼도미닉', '이용진', '김예원', '유라']         2021.0        0   \n",
       "3  ['신동엽', '김동현', '문세윤', '박나래', '넉살', '태연', '한해',...         2018.0        0   \n",
       "4                                                 []         2021.0        0   \n",
       "\n",
       "                                             summary  rating ott.tving  \\\n",
       "0  현실주의 치과의사 윤혜진과 만능 백수 홍반장이 짠내 사람내음 가득한 바닷마을 ‘공진...     0.0   ['정액제']   \n",
       "1  세포들과 함께 먹고 사랑하고 성장하는 평범한 유미(김고은 분)의 이야기를 그린 세포...     0.0   ['정액제']   \n",
       "2  다양한 이유로 이별한 커플들이 모여 \\r\\n지나간 사랑을 되짚고 \\r\\n새로운 사랑...     0.0   ['정액제']   \n",
       "3  ‘좋아요’ 폭발하는 SNS 핵 공감 핫 플레이스부터 오랜 전통이 살아 숨 쉬는 노포...     0.0   ['정액제']   \n",
       "4    Mnet <Show Me The Money 10>\\r\\n2021 COMING SOON     0.0   ['정액제']   \n",
       "\n",
       "  ott.coupang  \n",
       "0         NaN  \n",
       "1         NaN  \n",
       "2         NaN  \n",
       "3         NaN  \n",
       "4         NaN  "
      ]
     },
     "execution_count": 654,
     "metadata": {},
     "output_type": "execute_result"
    }
   ],
   "source": [
    "print(len(tv_cou_df))\n",
    "tv_cou_df.head(5)"
   ]
  },
  {
   "cell_type": "code",
   "execution_count": 655,
   "id": "622e6e08",
   "metadata": {},
   "outputs": [
    {
     "data": {
      "text/plain": [
       "362"
      ]
     },
     "execution_count": 655,
     "metadata": {},
     "output_type": "execute_result"
    }
   ],
   "source": [
    "len(tv_cou_df[tv_cou_df.duplicated(['title', 'category', 'director'])])"
   ]
  },
  {
   "cell_type": "markdown",
   "id": "f36c4137",
   "metadata": {},
   "source": [
    "## tving, coupang 중복 데이터 제거"
   ]
  },
  {
   "cell_type": "code",
   "execution_count": 656,
   "id": "9086bb92",
   "metadata": {},
   "outputs": [],
   "source": [
    "dup_index = tv_cou_df[tv_cou_df.duplicated(['title', 'category', 'director'], keep=False)].index"
   ]
  },
  {
   "cell_type": "code",
   "execution_count": 657,
   "id": "cd5bc290",
   "metadata": {},
   "outputs": [
    {
     "data": {
      "text/html": [
       "<div>\n",
       "<style scoped>\n",
       "    .dataframe tbody tr th:only-of-type {\n",
       "        vertical-align: middle;\n",
       "    }\n",
       "\n",
       "    .dataframe tbody tr th {\n",
       "        vertical-align: top;\n",
       "    }\n",
       "\n",
       "    .dataframe thead th {\n",
       "        text-align: right;\n",
       "    }\n",
       "</style>\n",
       "<table border=\"1\" class=\"dataframe\">\n",
       "  <thead>\n",
       "    <tr style=\"text-align: right;\">\n",
       "      <th></th>\n",
       "      <th>Unnamed: 0</th>\n",
       "      <th>title</th>\n",
       "      <th>category</th>\n",
       "      <th>country</th>\n",
       "      <th>genre</th>\n",
       "      <th>director</th>\n",
       "      <th>actors</th>\n",
       "      <th>released_year</th>\n",
       "      <th>runtime</th>\n",
       "      <th>summary</th>\n",
       "      <th>rating</th>\n",
       "      <th>ott.tving</th>\n",
       "      <th>ott.coupang</th>\n",
       "    </tr>\n",
       "  </thead>\n",
       "  <tbody>\n",
       "    <tr>\n",
       "      <th>2318</th>\n",
       "      <td>0</td>\n",
       "      <td>걸캅스</td>\n",
       "      <td>영화</td>\n",
       "      <td>[]</td>\n",
       "      <td>['코미디', '']</td>\n",
       "      <td>['정다원']</td>\n",
       "      <td>['라미란', '이성경', '윤상현', '최수영']</td>\n",
       "      <td>2018.0</td>\n",
       "      <td>0</td>\n",
       "      <td>′민원실 퇴출 0순위 전직 전설의 형사 ′미영′과 민원실로 밀려난 현직 꼴통 형사 ...</td>\n",
       "      <td>6.0</td>\n",
       "      <td>['구매']</td>\n",
       "      <td>NaN</td>\n",
       "    </tr>\n",
       "    <tr>\n",
       "      <th>7510</th>\n",
       "      <td>0</td>\n",
       "      <td>걸캅스</td>\n",
       "      <td>영화</td>\n",
       "      <td>[]</td>\n",
       "      <td>['코미디', '액션', '범죄']</td>\n",
       "      <td>['정다원']</td>\n",
       "      <td>['라미란', '이성경']</td>\n",
       "      <td>NaN</td>\n",
       "      <td>107</td>\n",
       "      <td>민원실 퇴출 0순위 전직 전설의 형사 미영과 민원실로 밀려난 현직 꼴통 형사 지혜....</td>\n",
       "      <td>0.0</td>\n",
       "      <td>NaN</td>\n",
       "      <td>['정액제']</td>\n",
       "    </tr>\n",
       "  </tbody>\n",
       "</table>\n",
       "</div>"
      ],
      "text/plain": [
       "      Unnamed: 0 title category country                genre director  \\\n",
       "2318           0   걸캅스       영화      []          ['코미디', '']  ['정다원']   \n",
       "7510           0   걸캅스       영화      []  ['코미디', '액션', '범죄']  ['정다원']   \n",
       "\n",
       "                            actors  released_year  runtime  \\\n",
       "2318  ['라미란', '이성경', '윤상현', '최수영']         2018.0        0   \n",
       "7510                ['라미란', '이성경']            NaN      107   \n",
       "\n",
       "                                                summary  rating ott.tving  \\\n",
       "2318  ′민원실 퇴출 0순위 전직 전설의 형사 ′미영′과 민원실로 밀려난 현직 꼴통 형사 ...     6.0    ['구매']   \n",
       "7510  민원실 퇴출 0순위 전직 전설의 형사 미영과 민원실로 밀려난 현직 꼴통 형사 지혜....     0.0       NaN   \n",
       "\n",
       "     ott.coupang  \n",
       "2318         NaN  \n",
       "7510     ['정액제']  "
      ]
     },
     "execution_count": 657,
     "metadata": {},
     "output_type": "execute_result"
    }
   ],
   "source": [
    "tv_cou_df[tv_cou_df['title'] == '걸캅스']"
   ]
  },
  {
   "cell_type": "code",
   "execution_count": 659,
   "id": "081a9b12",
   "metadata": {},
   "outputs": [
    {
     "name": "stderr",
     "output_type": "stream",
     "text": [
      "/usr/local/lib/python3.9/site-packages/pandas/core/series.py:1056: SettingWithCopyWarning: \n",
      "A value is trying to be set on a copy of a slice from a DataFrame\n",
      "\n",
      "See the caveats in the documentation: https://pandas.pydata.org/pandas-docs/stable/user_guide/indexing.html#returning-a-view-versus-a-copy\n",
      "  cacher_needs_updating = self._check_is_chained_assignment_possible()\n"
     ]
    }
   ],
   "source": [
    "for idx in dup_index:\n",
    "    if idx < 5753:\n",
    "        # tving_index\n",
    "        coupang_idx = search_dup_data_in_coupang(tv_cou_df.loc[idx]['title'], tv_cou_df)\n",
    "        if coupang_idx is None:\n",
    "            continue\n",
    "        cur_data = tv_cou_df.loc[idx]\n",
    "        for i in ['runtime', 'genre', 'actors', 'ott.coupang']:\n",
    "            if len(str(cur_data[i])) <= len(str(tv_cou_df.loc[coupang_idx][i])):\n",
    "                cur_data[i] = tv_cou_df.loc[coupang_idx][i]\n",
    "        tv_cou_df = tv_cou_df.drop(coupang_idx)\n",
    "        tv_cou_df.loc[idx] = cur_data"
   ]
  },
  {
   "cell_type": "code",
   "execution_count": 658,
   "id": "34fb6b95",
   "metadata": {},
   "outputs": [],
   "source": [
    "def search_dup_data_in_coupang(title, df):\n",
    "    for idx in dup_index:\n",
    "        if idx < 5753:\n",
    "            continue\n",
    "        # coupang_index\n",
    "        try:\n",
    "            com_title = df.loc[idx]['title']\n",
    "        except:\n",
    "            continue\n",
    "        if df.loc[idx]['title'] == title:\n",
    "            return idx"
   ]
  },
  {
   "cell_type": "code",
   "execution_count": 660,
   "id": "fb555d08",
   "metadata": {},
   "outputs": [
    {
     "data": {
      "text/html": [
       "<div>\n",
       "<style scoped>\n",
       "    .dataframe tbody tr th:only-of-type {\n",
       "        vertical-align: middle;\n",
       "    }\n",
       "\n",
       "    .dataframe tbody tr th {\n",
       "        vertical-align: top;\n",
       "    }\n",
       "\n",
       "    .dataframe thead th {\n",
       "        text-align: right;\n",
       "    }\n",
       "</style>\n",
       "<table border=\"1\" class=\"dataframe\">\n",
       "  <thead>\n",
       "    <tr style=\"text-align: right;\">\n",
       "      <th></th>\n",
       "      <th>Unnamed: 0</th>\n",
       "      <th>title</th>\n",
       "      <th>category</th>\n",
       "      <th>country</th>\n",
       "      <th>genre</th>\n",
       "      <th>director</th>\n",
       "      <th>actors</th>\n",
       "      <th>released_year</th>\n",
       "      <th>runtime</th>\n",
       "      <th>summary</th>\n",
       "      <th>rating</th>\n",
       "      <th>ott.tving</th>\n",
       "      <th>ott.coupang</th>\n",
       "    </tr>\n",
       "  </thead>\n",
       "  <tbody>\n",
       "    <tr>\n",
       "      <th>2318</th>\n",
       "      <td>0</td>\n",
       "      <td>걸캅스</td>\n",
       "      <td>영화</td>\n",
       "      <td>[]</td>\n",
       "      <td>['코미디', '액션', '범죄']</td>\n",
       "      <td>['정다원']</td>\n",
       "      <td>['라미란', '이성경', '윤상현', '최수영']</td>\n",
       "      <td>2018.0</td>\n",
       "      <td>107</td>\n",
       "      <td>′민원실 퇴출 0순위 전직 전설의 형사 ′미영′과 민원실로 밀려난 현직 꼴통 형사 ...</td>\n",
       "      <td>6.0</td>\n",
       "      <td>['구매']</td>\n",
       "      <td>['정액제']</td>\n",
       "    </tr>\n",
       "  </tbody>\n",
       "</table>\n",
       "</div>"
      ],
      "text/plain": [
       "      Unnamed: 0 title category country                genre director  \\\n",
       "2318           0   걸캅스       영화      []  ['코미디', '액션', '범죄']  ['정다원']   \n",
       "\n",
       "                            actors  released_year  runtime  \\\n",
       "2318  ['라미란', '이성경', '윤상현', '최수영']         2018.0      107   \n",
       "\n",
       "                                                summary  rating ott.tving  \\\n",
       "2318  ′민원실 퇴출 0순위 전직 전설의 형사 ′미영′과 민원실로 밀려난 현직 꼴통 형사 ...     6.0    ['구매']   \n",
       "\n",
       "     ott.coupang  \n",
       "2318     ['정액제']  "
      ]
     },
     "execution_count": 660,
     "metadata": {},
     "output_type": "execute_result"
    }
   ],
   "source": [
    "tv_cou_df[tv_cou_df['title'] == '걸캅스']"
   ]
  },
  {
   "cell_type": "code",
   "execution_count": 661,
   "id": "f82701a7",
   "metadata": {},
   "outputs": [
    {
     "data": {
      "text/plain": [
       "0"
      ]
     },
     "execution_count": 661,
     "metadata": {},
     "output_type": "execute_result"
    }
   ],
   "source": [
    "len(tv_cou_df[tv_cou_df.duplicated(['title', 'category', 'director'])])"
   ]
  },
  {
   "cell_type": "code",
   "execution_count": 662,
   "id": "024a33ed",
   "metadata": {},
   "outputs": [
    {
     "data": {
      "text/plain": [
       "7182"
      ]
     },
     "execution_count": 662,
     "metadata": {},
     "output_type": "execute_result"
    }
   ],
   "source": [
    "len(tv_cou_df)"
   ]
  },
  {
   "cell_type": "markdown",
   "id": "2cd3efa5",
   "metadata": {},
   "source": [
    "# JustWatch + Tving Data + Coupang"
   ]
  },
  {
   "cell_type": "code",
   "execution_count": 679,
   "id": "191880b3",
   "metadata": {},
   "outputs": [],
   "source": [
    "total_data = pd.concat([jw_df, tv_cou_df], ignore_index=True)"
   ]
  },
  {
   "cell_type": "code",
   "execution_count": 680,
   "id": "dd137db6",
   "metadata": {},
   "outputs": [
    {
     "data": {
      "text/plain": [
       "24946"
      ]
     },
     "execution_count": 680,
     "metadata": {},
     "output_type": "execute_result"
    }
   ],
   "source": [
    "len(total_data)"
   ]
  },
  {
   "cell_type": "code",
   "execution_count": 681,
   "id": "f88077b6",
   "metadata": {},
   "outputs": [
    {
     "data": {
      "text/html": [
       "<div>\n",
       "<style scoped>\n",
       "    .dataframe tbody tr th:only-of-type {\n",
       "        vertical-align: middle;\n",
       "    }\n",
       "\n",
       "    .dataframe tbody tr th {\n",
       "        vertical-align: top;\n",
       "    }\n",
       "\n",
       "    .dataframe thead th {\n",
       "        text-align: right;\n",
       "    }\n",
       "</style>\n",
       "<table border=\"1\" class=\"dataframe\">\n",
       "  <thead>\n",
       "    <tr style=\"text-align: right;\">\n",
       "      <th></th>\n",
       "      <th>Unnamed: 0</th>\n",
       "      <th>title</th>\n",
       "      <th>original_title</th>\n",
       "      <th>category</th>\n",
       "      <th>country</th>\n",
       "      <th>genre</th>\n",
       "      <th>director</th>\n",
       "      <th>actors</th>\n",
       "      <th>released_year</th>\n",
       "      <th>runtime</th>\n",
       "      <th>summary</th>\n",
       "      <th>rating</th>\n",
       "      <th>ott.Netflix</th>\n",
       "      <th>ott.Watcha</th>\n",
       "      <th>ott.wavve</th>\n",
       "      <th>ott.tving</th>\n",
       "      <th>ott.coupang</th>\n",
       "    </tr>\n",
       "  </thead>\n",
       "  <tbody>\n",
       "    <tr>\n",
       "      <th>0</th>\n",
       "      <td>0</td>\n",
       "      <td>홈랜드</td>\n",
       "      <td>Homeland</td>\n",
       "      <td>TV 프로그램</td>\n",
       "      <td>['미국']</td>\n",
       "      <td>['전쟁', '드라마', '액션', '범죄', '스릴러']</td>\n",
       "      <td>[]</td>\n",
       "      <td>['Claire Danes', 'Maury Sterling', 'Numan Acar...</td>\n",
       "      <td>2011.0</td>\n",
       "      <td>52.0</td>\n",
       "      <td>미 해병대 보병 부사관인 니콜라스 브로디 하사는 이라크 자유작전(이라크 전쟁) 중 ...</td>\n",
       "      <td>7.9</td>\n",
       "      <td>['정액제']</td>\n",
       "      <td>NaN</td>\n",
       "      <td>NaN</td>\n",
       "      <td>NaN</td>\n",
       "      <td>NaN</td>\n",
       "    </tr>\n",
       "    <tr>\n",
       "      <th>1</th>\n",
       "      <td>0</td>\n",
       "      <td>중경삼림</td>\n",
       "      <td>重慶森林</td>\n",
       "      <td>영화</td>\n",
       "      <td>['홍콩']</td>\n",
       "      <td>['로맨스', '드라마', '코미디', '범죄']</td>\n",
       "      <td>['Wong Kar-wai']</td>\n",
       "      <td>['Brigitte Lin', 'Tony Leung Chiu-wai', 'Faye ...</td>\n",
       "      <td>1994.0</td>\n",
       "      <td>103.0</td>\n",
       "      <td>경찰 223은 헤어진 옛 애인을 기다리며, 1달 동안 그녀에게서 연락이 오지 않으면...</td>\n",
       "      <td>8.1</td>\n",
       "      <td>NaN</td>\n",
       "      <td>['정액제']</td>\n",
       "      <td>NaN</td>\n",
       "      <td>NaN</td>\n",
       "      <td>NaN</td>\n",
       "    </tr>\n",
       "  </tbody>\n",
       "</table>\n",
       "</div>"
      ],
      "text/plain": [
       "   Unnamed: 0 title original_title category country  \\\n",
       "0           0   홈랜드       Homeland  TV 프로그램  ['미국']   \n",
       "1           0  중경삼림           重慶森林       영화  ['홍콩']   \n",
       "\n",
       "                              genre          director  \\\n",
       "0  ['전쟁', '드라마', '액션', '범죄', '스릴러']                []   \n",
       "1       ['로맨스', '드라마', '코미디', '범죄']  ['Wong Kar-wai']   \n",
       "\n",
       "                                              actors  released_year  runtime  \\\n",
       "0  ['Claire Danes', 'Maury Sterling', 'Numan Acar...         2011.0     52.0   \n",
       "1  ['Brigitte Lin', 'Tony Leung Chiu-wai', 'Faye ...         1994.0    103.0   \n",
       "\n",
       "                                             summary  rating ott.Netflix  \\\n",
       "0  미 해병대 보병 부사관인 니콜라스 브로디 하사는 이라크 자유작전(이라크 전쟁) 중 ...     7.9     ['정액제']   \n",
       "1  경찰 223은 헤어진 옛 애인을 기다리며, 1달 동안 그녀에게서 연락이 오지 않으면...     8.1         NaN   \n",
       "\n",
       "  ott.Watcha ott.wavve ott.tving ott.coupang  \n",
       "0        NaN       NaN       NaN         NaN  \n",
       "1    ['정액제']       NaN       NaN         NaN  "
      ]
     },
     "execution_count": 681,
     "metadata": {},
     "output_type": "execute_result"
    }
   ],
   "source": [
    "total_data.head(2)"
   ]
  },
  {
   "cell_type": "code",
   "execution_count": 682,
   "id": "450b5226",
   "metadata": {},
   "outputs": [
    {
     "data": {
      "text/plain": [
       "0"
      ]
     },
     "execution_count": 682,
     "metadata": {},
     "output_type": "execute_result"
    }
   ],
   "source": [
    "len(total_data[total_data.duplicated()])"
   ]
  },
  {
   "cell_type": "code",
   "execution_count": 683,
   "id": "407d21df",
   "metadata": {},
   "outputs": [],
   "source": [
    "total_data = total_data.drop(columns=['Unnamed: 0'])"
   ]
  },
  {
   "cell_type": "markdown",
   "id": "15fbd82b",
   "metadata": {},
   "source": [
    "# 중복 데이터 제거 ((Tving+Coupang)과 justwatch 겹치는 목록)"
   ]
  },
  {
   "cell_type": "code",
   "execution_count": 684,
   "id": "f7569428",
   "metadata": {},
   "outputs": [
    {
     "name": "stdout",
     "output_type": "stream",
     "text": [
      "Int64Index([    3,     4,     5,     8,    10,    11,    12,    18,    19,\n",
      "               24,\n",
      "            ...\n",
      "            23503, 23504, 23506, 23509, 23511, 23512, 23513, 23514, 23515,\n",
      "            23516],\n",
      "           dtype='int64', length=4234)\n"
     ]
    }
   ],
   "source": [
    "# 중복되는 인덱스의 배열\n",
    "dup_index = total_data[total_data.duplicated(['title', 'category', 'released_year'], keep=False)].index\n",
    "print(dup_index)"
   ]
  },
  {
   "cell_type": "code",
   "execution_count": 685,
   "id": "6257c821",
   "metadata": {},
   "outputs": [
    {
     "data": {
      "text/html": [
       "<div>\n",
       "<style scoped>\n",
       "    .dataframe tbody tr th:only-of-type {\n",
       "        vertical-align: middle;\n",
       "    }\n",
       "\n",
       "    .dataframe tbody tr th {\n",
       "        vertical-align: top;\n",
       "    }\n",
       "\n",
       "    .dataframe thead th {\n",
       "        text-align: right;\n",
       "    }\n",
       "</style>\n",
       "<table border=\"1\" class=\"dataframe\">\n",
       "  <thead>\n",
       "    <tr style=\"text-align: right;\">\n",
       "      <th></th>\n",
       "      <th>title</th>\n",
       "      <th>original_title</th>\n",
       "      <th>category</th>\n",
       "      <th>country</th>\n",
       "      <th>genre</th>\n",
       "      <th>director</th>\n",
       "      <th>actors</th>\n",
       "      <th>released_year</th>\n",
       "      <th>runtime</th>\n",
       "      <th>summary</th>\n",
       "      <th>rating</th>\n",
       "      <th>ott.Netflix</th>\n",
       "      <th>ott.Watcha</th>\n",
       "      <th>ott.wavve</th>\n",
       "      <th>ott.tving</th>\n",
       "      <th>ott.coupang</th>\n",
       "    </tr>\n",
       "  </thead>\n",
       "  <tbody>\n",
       "    <tr>\n",
       "      <th>2923</th>\n",
       "      <td>괴물</td>\n",
       "      <td>괴물</td>\n",
       "      <td>영화</td>\n",
       "      <td>['대한민국']</td>\n",
       "      <td>['공포', '애니메이션', '액션', '드라마', 'SF']</td>\n",
       "      <td>['Bong Joon-ho']</td>\n",
       "      <td>['Song Kang-ho', 'Byun Hee-bong', 'Park Hae-il...</td>\n",
       "      <td>2006.0</td>\n",
       "      <td>120.0</td>\n",
       "      <td>아버지가 운영하는 한강매점, 늘어지게 낮잠 자던 강두는 우연히 특이한 광경을 목격하...</td>\n",
       "      <td>7.0</td>\n",
       "      <td>['정액제']</td>\n",
       "      <td>['정액제']</td>\n",
       "      <td>['대여', '구매']</td>\n",
       "      <td>NaN</td>\n",
       "      <td>NaN</td>\n",
       "    </tr>\n",
       "    <tr>\n",
       "      <th>17376</th>\n",
       "      <td>괴물</td>\n",
       "      <td>괴물</td>\n",
       "      <td>TV 프로그램</td>\n",
       "      <td>['대한민국']</td>\n",
       "      <td>['드라마', '범죄', '스릴러']</td>\n",
       "      <td>['Sim Na-yeon']</td>\n",
       "      <td>['Shin Ha-kyun', 'Yeo Jin-goo', 'Choi Dae-hoon...</td>\n",
       "      <td>2021.0</td>\n",
       "      <td>66.0</td>\n",
       "      <td>연쇄살인마를 잡기 위해 법과 원칙을 부숴버린 두 남자의 이야기. 또라이 경사 앞에 ...</td>\n",
       "      <td>8.2</td>\n",
       "      <td>['정액제']</td>\n",
       "      <td>NaN</td>\n",
       "      <td>NaN</td>\n",
       "      <td>NaN</td>\n",
       "      <td>NaN</td>\n",
       "    </tr>\n",
       "    <tr>\n",
       "      <th>18424</th>\n",
       "      <td>괴물</td>\n",
       "      <td>NaN</td>\n",
       "      <td>TV 프로그램</td>\n",
       "      <td>[]</td>\n",
       "      <td>['드라마', '공포/오컬트']</td>\n",
       "      <td>['심나연감독', '박성은EP']</td>\n",
       "      <td>['신하균', '여진구', '최대훈', '최성은']</td>\n",
       "      <td>2021.0</td>\n",
       "      <td>0.0</td>\n",
       "      <td>‘괴물은 누구인가. 너인가. 나인가. 우리인가.’ 만양에서 펼쳐지는 괴물 같은 두 ...</td>\n",
       "      <td>0.0</td>\n",
       "      <td>NaN</td>\n",
       "      <td>NaN</td>\n",
       "      <td>NaN</td>\n",
       "      <td>['정액제']</td>\n",
       "      <td>NaN</td>\n",
       "    </tr>\n",
       "    <tr>\n",
       "      <th>21966</th>\n",
       "      <td>괴물</td>\n",
       "      <td>NaN</td>\n",
       "      <td>영화</td>\n",
       "      <td>[]</td>\n",
       "      <td>[' 드라마', '패밀리', '액션', 'SF']</td>\n",
       "      <td>['봉준호']</td>\n",
       "      <td>[' 송강호', ' 변희봉', '박해일', '배두나', '고아성']</td>\n",
       "      <td>2006.0</td>\n",
       "      <td>119.0</td>\n",
       "      <td>햇살 가득한 평화로운 한강 둔치 아버지가 운영하는 한강 매점, 늘어지게 낮잠 자던 ...</td>\n",
       "      <td>9.0</td>\n",
       "      <td>NaN</td>\n",
       "      <td>NaN</td>\n",
       "      <td>NaN</td>\n",
       "      <td>['구매']</td>\n",
       "      <td>['정액제']</td>\n",
       "    </tr>\n",
       "  </tbody>\n",
       "</table>\n",
       "</div>"
      ],
      "text/plain": [
       "      title original_title category   country  \\\n",
       "2923     괴물             괴물       영화  ['대한민국']   \n",
       "17376    괴물             괴물  TV 프로그램  ['대한민국']   \n",
       "18424    괴물            NaN  TV 프로그램        []   \n",
       "21966    괴물            NaN       영화        []   \n",
       "\n",
       "                                    genre            director  \\\n",
       "2923   ['공포', '애니메이션', '액션', '드라마', 'SF']    ['Bong Joon-ho']   \n",
       "17376                ['드라마', '범죄', '스릴러']     ['Sim Na-yeon']   \n",
       "18424                   ['드라마', '공포/오컬트']  ['심나연감독', '박성은EP']   \n",
       "21966         [' 드라마', '패밀리', '액션', 'SF']             ['봉준호']   \n",
       "\n",
       "                                                  actors  released_year  \\\n",
       "2923   ['Song Kang-ho', 'Byun Hee-bong', 'Park Hae-il...         2006.0   \n",
       "17376  ['Shin Ha-kyun', 'Yeo Jin-goo', 'Choi Dae-hoon...         2021.0   \n",
       "18424                       ['신하균', '여진구', '최대훈', '최성은']         2021.0   \n",
       "21966              [' 송강호', ' 변희봉', '박해일', '배두나', '고아성']         2006.0   \n",
       "\n",
       "       runtime                                            summary  rating  \\\n",
       "2923     120.0  아버지가 운영하는 한강매점, 늘어지게 낮잠 자던 강두는 우연히 특이한 광경을 목격하...     7.0   \n",
       "17376     66.0  연쇄살인마를 잡기 위해 법과 원칙을 부숴버린 두 남자의 이야기. 또라이 경사 앞에 ...     8.2   \n",
       "18424      0.0  ‘괴물은 누구인가. 너인가. 나인가. 우리인가.’ 만양에서 펼쳐지는 괴물 같은 두 ...     0.0   \n",
       "21966    119.0  햇살 가득한 평화로운 한강 둔치 아버지가 운영하는 한강 매점, 늘어지게 낮잠 자던 ...     9.0   \n",
       "\n",
       "      ott.Netflix ott.Watcha     ott.wavve ott.tving ott.coupang  \n",
       "2923      ['정액제']    ['정액제']  ['대여', '구매']       NaN         NaN  \n",
       "17376     ['정액제']        NaN           NaN       NaN         NaN  \n",
       "18424         NaN        NaN           NaN   ['정액제']         NaN  \n",
       "21966         NaN        NaN           NaN    ['구매']     ['정액제']  "
      ]
     },
     "execution_count": 685,
     "metadata": {},
     "output_type": "execute_result"
    }
   ],
   "source": [
    "total_data[total_data['title']=='괴물']"
   ]
  },
  {
   "cell_type": "code",
   "execution_count": 686,
   "id": "e78d17a7",
   "metadata": {},
   "outputs": [
    {
     "data": {
      "text/plain": [
       "24946"
      ]
     },
     "execution_count": 686,
     "metadata": {},
     "output_type": "execute_result"
    }
   ],
   "source": [
    "len(total_data)"
   ]
  },
  {
   "cell_type": "code",
   "execution_count": 687,
   "id": "69600e08",
   "metadata": {},
   "outputs": [
    {
     "name": "stderr",
     "output_type": "stream",
     "text": [
      "/usr/local/lib/python3.9/site-packages/pandas/core/series.py:1056: SettingWithCopyWarning: \n",
      "A value is trying to be set on a copy of a slice from a DataFrame\n",
      "\n",
      "See the caveats in the documentation: https://pandas.pydata.org/pandas-docs/stable/user_guide/indexing.html#returning-a-view-versus-a-copy\n",
      "  cacher_needs_updating = self._check_is_chained_assignment_possible()\n"
     ]
    },
    {
     "name": "stdout",
     "output_type": "stream",
     "text": [
      "error\n",
      "error\n",
      "error\n",
      "error\n",
      "error\n",
      "error\n",
      "error\n",
      "error\n",
      "error\n"
     ]
    }
   ],
   "source": [
    "for idx in dup_index:\n",
    "    if idx < 17764:\n",
    "        # justwatch data\n",
    "        tving_idx = search_dup_data_in_tving(total_data.loc[idx]['title'])\n",
    "        if tving_idx is None:\n",
    "            print(\"error\")\n",
    "            continue\n",
    "        cur_data = total_data.loc[idx]\n",
    "        for i in ['director', 'actors', 'ott.tving', 'ott.coupang']:\n",
    "            cur_data[i] = total_data.loc[tving_idx][i]\n",
    "        total_data = total_data.drop(tving_idx)\n",
    "        total_data.loc[idx] = cur_data"
   ]
  },
  {
   "cell_type": "code",
   "execution_count": 648,
   "id": "53e1c837",
   "metadata": {},
   "outputs": [],
   "source": [
    "def search_dup_data_in_tving(title):\n",
    "    for idx in dup_index:\n",
    "        if idx < 17764:\n",
    "            continue\n",
    "        try:\n",
    "            com_title = total_data.loc[idx]['title']\n",
    "        except:\n",
    "            continue\n",
    "        if total_data.loc[idx]['title'] == title:\n",
    "            return idx"
   ]
  },
  {
   "cell_type": "code",
   "execution_count": 650,
   "id": "e6d319bb",
   "metadata": {},
   "outputs": [
    {
     "data": {
      "text/plain": [
       "22839"
      ]
     },
     "execution_count": 650,
     "metadata": {},
     "output_type": "execute_result"
    }
   ],
   "source": [
    "len(total_data)"
   ]
  },
  {
   "cell_type": "code",
   "execution_count": 713,
   "id": "eb6890a4",
   "metadata": {},
   "outputs": [
    {
     "data": {
      "text/html": [
       "<div>\n",
       "<style scoped>\n",
       "    .dataframe tbody tr th:only-of-type {\n",
       "        vertical-align: middle;\n",
       "    }\n",
       "\n",
       "    .dataframe tbody tr th {\n",
       "        vertical-align: top;\n",
       "    }\n",
       "\n",
       "    .dataframe thead th {\n",
       "        text-align: right;\n",
       "    }\n",
       "</style>\n",
       "<table border=\"1\" class=\"dataframe\">\n",
       "  <thead>\n",
       "    <tr style=\"text-align: right;\">\n",
       "      <th></th>\n",
       "      <th>title</th>\n",
       "      <th>original_title</th>\n",
       "      <th>category</th>\n",
       "      <th>country</th>\n",
       "      <th>genre</th>\n",
       "      <th>director</th>\n",
       "      <th>actors</th>\n",
       "      <th>released_year</th>\n",
       "      <th>runtime</th>\n",
       "      <th>summary</th>\n",
       "      <th>rating</th>\n",
       "      <th>ott.Netflix</th>\n",
       "      <th>ott.Watcha</th>\n",
       "      <th>ott.wavve</th>\n",
       "      <th>ott.tving</th>\n",
       "      <th>ott.coupang</th>\n",
       "    </tr>\n",
       "  </thead>\n",
       "  <tbody>\n",
       "    <tr>\n",
       "      <th>5472</th>\n",
       "      <td>아수라</td>\n",
       "      <td>アシュラ</td>\n",
       "      <td>영화</td>\n",
       "      <td>['일본']</td>\n",
       "      <td>['공포', '애니메이션', '액션', '드라마', '역사']</td>\n",
       "      <td>['Keiichi Sato']</td>\n",
       "      <td>['Masako Nozawa', 'Hiroaki Hirata', 'Kinya Kit...</td>\n",
       "      <td>2012.0</td>\n",
       "      <td>76.0</td>\n",
       "      <td>“태어나지 않는 편이 좋았을 텐데…”  15세기 중기(무로마치 시대)의 교토는 그야...</td>\n",
       "      <td>6.8</td>\n",
       "      <td>NaN</td>\n",
       "      <td>NaN</td>\n",
       "      <td>['정액제', '대여']</td>\n",
       "      <td>NaN</td>\n",
       "      <td>NaN</td>\n",
       "    </tr>\n",
       "    <tr>\n",
       "      <th>8590</th>\n",
       "      <td>아수라</td>\n",
       "      <td>아수라</td>\n",
       "      <td>영화</td>\n",
       "      <td>['대한민국']</td>\n",
       "      <td>['범죄', '액션', '드라마', '스릴러']</td>\n",
       "      <td>['김성수']</td>\n",
       "      <td>['정우성', '황정민', '주지훈', '곽도원']</td>\n",
       "      <td>2016.0</td>\n",
       "      <td>136.0</td>\n",
       "      <td>강력계 형사 한도경은 이권과 성공을 위해 각종 범죄를 저지르는 악덕시장 박성배의 뒷...</td>\n",
       "      <td>6.7</td>\n",
       "      <td>['정액제']</td>\n",
       "      <td>NaN</td>\n",
       "      <td>['대여', '구매']</td>\n",
       "      <td>['구매']</td>\n",
       "      <td>['정액제']</td>\n",
       "    </tr>\n",
       "    <tr>\n",
       "      <th>22414</th>\n",
       "      <td>아수라</td>\n",
       "      <td>NaN</td>\n",
       "      <td>영화</td>\n",
       "      <td>[]</td>\n",
       "      <td>['공포(호러)', '']</td>\n",
       "      <td>['사토 케이이치']</td>\n",
       "      <td>['노자와 마사코', '하야시바라 메구미']</td>\n",
       "      <td>2013.0</td>\n",
       "      <td>0.0</td>\n",
       "      <td>“태어나지 않는 편이 좋았을 텐데...”\\r\\n15세기 중기(무로마치 시대)의 교토...</td>\n",
       "      <td>9.0</td>\n",
       "      <td>NaN</td>\n",
       "      <td>NaN</td>\n",
       "      <td>NaN</td>\n",
       "      <td>['구매']</td>\n",
       "      <td>NaN</td>\n",
       "    </tr>\n",
       "  </tbody>\n",
       "</table>\n",
       "</div>"
      ],
      "text/plain": [
       "      title original_title category   country  \\\n",
       "5472    아수라           アシュラ       영화    ['일본']   \n",
       "8590    아수라            아수라       영화  ['대한민국']   \n",
       "22414   아수라            NaN       영화        []   \n",
       "\n",
       "                                    genre          director  \\\n",
       "5472   ['공포', '애니메이션', '액션', '드라마', '역사']  ['Keiichi Sato']   \n",
       "8590           ['범죄', '액션', '드라마', '스릴러']           ['김성수']   \n",
       "22414                      ['공포(호러)', '']       ['사토 케이이치']   \n",
       "\n",
       "                                                  actors  released_year  \\\n",
       "5472   ['Masako Nozawa', 'Hiroaki Hirata', 'Kinya Kit...         2012.0   \n",
       "8590                        ['정우성', '황정민', '주지훈', '곽도원']         2016.0   \n",
       "22414                           ['노자와 마사코', '하야시바라 메구미']         2013.0   \n",
       "\n",
       "       runtime                                            summary  rating  \\\n",
       "5472      76.0  “태어나지 않는 편이 좋았을 텐데…”  15세기 중기(무로마치 시대)의 교토는 그야...     6.8   \n",
       "8590     136.0  강력계 형사 한도경은 이권과 성공을 위해 각종 범죄를 저지르는 악덕시장 박성배의 뒷...     6.7   \n",
       "22414      0.0  “태어나지 않는 편이 좋았을 텐데...”\\r\\n15세기 중기(무로마치 시대)의 교토...     9.0   \n",
       "\n",
       "      ott.Netflix ott.Watcha      ott.wavve ott.tving ott.coupang  \n",
       "5472          NaN        NaN  ['정액제', '대여']       NaN         NaN  \n",
       "8590      ['정액제']        NaN   ['대여', '구매']    ['구매']     ['정액제']  \n",
       "22414         NaN        NaN            NaN    ['구매']         NaN  "
      ]
     },
     "execution_count": 713,
     "metadata": {},
     "output_type": "execute_result"
    }
   ],
   "source": [
    "total_data[total_data['title']=='아수라']"
   ]
  },
  {
   "cell_type": "markdown",
   "id": "18777539",
   "metadata": {},
   "source": [
    "# 중복 데이터 제거 2"
   ]
  },
  {
   "cell_type": "code",
   "execution_count": 1021,
   "id": "2a374159",
   "metadata": {},
   "outputs": [],
   "source": [
    "from collections import defaultdict\n",
    "title_category = defaultdict(list)\n",
    "for i in total_data[total_data.duplicated(['title', 'category'], keep=False)].index:\n",
    "    cur = total_data.loc[i]\n",
    "    title_category[(cur['title'], cur['category'])].append(i)"
   ]
  },
  {
   "cell_type": "code",
   "execution_count": 1022,
   "id": "86b5e89c",
   "metadata": {},
   "outputs": [
    {
     "data": {
      "text/plain": [
       "defaultdict(list,\n",
       "            {('고스트 버스터즈', '영화'): [73, 8645],\n",
       "             ('좋은 친구들', '영화'): [75, 6929],\n",
       "             ('비트', '영화'): [88, 14146],\n",
       "             ('미이라', '영화'): [101, 10033],\n",
       "             ('토탈 리콜', '영화'): [125, 5199],\n",
       "             ('사탄의 인형', '영화'): [142, 13631],\n",
       "             ('용서받지 못한 자', '영화'): [144, 2671],\n",
       "             ('로미오와 줄리엣', '영화'): [163, 581, 6999],\n",
       "             ('베스트 키드', '영화'): [173, 4270],\n",
       "             ('나쁜 녀석들', '영화'): [174, 6722],\n",
       "             ('아웃사이더', '영화'): [182, 11951],\n",
       "             ('도망자', '영화'): [183, 1442],\n",
       "             ('이블 데드', '영화'): [212, 5772],\n",
       "             ('로보캅', '영화'): [213, 6661],\n",
       "             ('졸업', '영화'): [219, 14747],\n",
       "             ('작은 아씨들', '영화'): [235, 13530],\n",
       "             ('아나스타샤', '영화'): [254, 1251],\n",
       "             ('차이나타운', '영화'): [258, 7484],\n",
       "             ('공포의 묘지', '영화'): [261, 13601],\n",
       "             ('보디가드', '영화'): [279, 4857],\n",
       "             ('로마의 휴일', '영화'): [305, 10679],\n",
       "             ('인랑', '영화'): [312, 11732],\n",
       "             ('인페르노', '영화'): [320, 8638],\n",
       "             ('솔라리스', '영화'): [339, 2142],\n",
       "             ('레전드', '영화'): [348, 7488],\n",
       "             ('표적', '영화'): [350, 7147],\n",
       "             ('홀로코스트', '영화'): [358, 6107],\n",
       "             ('옥수수 밭의 아이들', '영화'): [359, 4837],\n",
       "             ('대역전', '영화'): [361, 9156],\n",
       "             ('벤허', '영화'): [370, 854, 8799],\n",
       "             ('뮬란', '영화'): [377, 15406],\n",
       "             ('엠마', '영화'): [406, 15413],\n",
       "             ('닥터 두리틀', '영화'): [420, 15410],\n",
       "             ('순수의 시대', '영화'): [422, 7820],\n",
       "             ('모탈 컴뱃', '영화'): [437, 16991],\n",
       "             ('애니', '영화'): [443, 6636],\n",
       "             ('캐논볼', '영화'): [452, 17253],\n",
       "             ('게임의 규칙', '영화'): [453, 10881],\n",
       "             ('링', '영화'): [460, 6333],\n",
       "             ('하울링', '영화'): [468, 5219],\n",
       "             ('위대한 유산', '영화'): [484, 582, 2375, 5857],\n",
       "             ('리포 맨', '영화'): [514, 4301],\n",
       "             ('고질라', '영화'): [523, 6562],\n",
       "             ('헛소동', '영화'): [527, 5290],\n",
       "             ('데스 위시', '영화'): [531, 11693],\n",
       "             ('적과의 동침', '영화'): [571, 4982, 17045],\n",
       "             ('은밀한 유혹', '영화'): [583, 8071],\n",
       "             ('자칼', '영화'): [610, 10444],\n",
       "             ('천녀유혼', '영화'): [619, 4909],\n",
       "             ('분홍신', '영화'): [631, 2801],\n",
       "             ('히든', '영화'): [683, 2733],\n",
       "             ('스트리트 파이터', '영화'): [688, 1515],\n",
       "             ('헨리 5세', '영화'): [702, 1135],\n",
       "             ('젊은이의 양지', '영화'): [714, 15438],\n",
       "             ('택시', '영화'): [717, 7756],\n",
       "             ('온리 유', '영화'): [723, 8228],\n",
       "             ('연인', '영화'): [737, 2521],\n",
       "             ('안나 카레니나', '영화'): [749, 1414, 5171],\n",
       "             ('최후의 카운트다운', '영화'): [750, 786],\n",
       "             ('공공의 적', '영화'): [778, 2199],\n",
       "             ('디바', '영화'): [812, 15407],\n",
       "             ('흑사회', '영화'): [825, 2675],\n",
       "             ('그날이 오면', '영화'): [840, 12248],\n",
       "             ('길', '영화'): [851, 10402],\n",
       "             ('열혈남아', '영화'): [855, 3014],\n",
       "             ('리벤지', '영화'): [893, 11701, 20739],\n",
       "             ('피터 팬', '영화'): [900, 2321],\n",
       "             ('소나기', '영화'): [918, 10379],\n",
       "             ('영원한 사랑', '영화'): [919, 1568],\n",
       "             ('로망스', '영화'): [923, 3147],\n",
       "             ('레 미제라블', '영화'): [933, 13649, 20497],\n",
       "             ('언더그라운드', '영화'): [950, 4932],\n",
       "             ('백야', '영화'): [951, 5430],\n",
       "             ('제인 에어', '영화'): [962, 4687],\n",
       "             ('헤드헌터', '영화'): [1065, 13898],\n",
       "             ('트롤', '영화'): [1069, 8655],\n",
       "             ('겟어웨이', '영화'): [1076, 5966],\n",
       "             ('피크닉', '영화'): [1163, 1584],\n",
       "             ('러브', '영화'): [1169, 7530],\n",
       "             ('쉘 위 댄스', '영화'): [1200, 2551],\n",
       "             ('집으로 가는 길', '영화'): [1229, 5843],\n",
       "             ('소공녀', '영화'): [1257, 11671, 24386],\n",
       "             ('모모', '영화'): [1290, 4124, 9210],\n",
       "             ('빈센트', '영화'): [1314, 7070, 10673],\n",
       "             ('어느 하녀의 일기', '영화'): [1339, 8019],\n",
       "             ('비밀', '영화'): [1379, 7950],\n",
       "             ('소림오조', '영화'): [1392, 1599],\n",
       "             ('흑권', '영화'): [1405, 3144],\n",
       "             ('백발마녀전', '영화'): [1440, 15840],\n",
       "             ('쏘아올린 불꽃, 밑에서 볼까? 옆에서 볼까?', '영화'): [1577, 10381],\n",
       "             ('기문둔갑', '영화'): [1667, 10583, 15851],\n",
       "             ('암전', '영화'): [1702, 14285],\n",
       "             ('장마', '영화'): [1725, 16035],\n",
       "             ('황진이', '영화'): [1791, 3322],\n",
       "             ('배니싱 트윈', '영화'): [1826, 9108],\n",
       "             ('오만과 편견', 'TV 프로그램'): [1852, 7395],\n",
       "             ('신조협려', 'TV 프로그램'): [1868, 3025],\n",
       "             ('스타트업', 'TV 프로그램'): [1991, 16350],\n",
       "             ('소름', '영화'): [1998, 6608],\n",
       "             ('루시아', '영화'): [2007, 11014],\n",
       "             ('선물', '영화'): [2046, 14170],\n",
       "             ('하루', '영화'): [2064, 7239, 10500],\n",
       "             ('아들', '영화'): [2150, 3435],\n",
       "             ('챔피언', '영화'): [2206, 12007, 20050, 21324],\n",
       "             ('예스터데이', '영화'): [2238, 13559],\n",
       "             ('빅 피쉬', '영화'): [2287, 10465],\n",
       "             ('몬스터', '영화'): [2300, 6302, 11879, 22172],\n",
       "             ('엘프', '영화'): [2332, 14229],\n",
       "             ('허니', '영화'): [2357, 12768],\n",
       "             ('더 로드', '영화'): [2362, 3882],\n",
       "             ('보디가드', 'TV 프로그램'): [2450, 13024],\n",
       "             ('터미널', '영화'): [2459, 7923],\n",
       "             ('헬보이', '영화'): [2501, 13638],\n",
       "             ('그루지', '영화'): [2513, 15542],\n",
       "             ('피닉스', '영화'): [2545, 6556],\n",
       "             ('세레니티', '영화'): [2703, 13709],\n",
       "             ('저스트 프렌드', '영화'): [2728, 12137],\n",
       "             ('케이브', '영화'): [2741, 9014],\n",
       "             ('숨바꼭질', '영화'): [2751, 5961, 12182],\n",
       "             ('두 여자', '영화'): [2868, 4521, 13789],\n",
       "             ('꽃보다 남자', 'TV 프로그램'): [2900, 4161],\n",
       "             ('데자뷰', '영화'): [2959, 12790],\n",
       "             ('데스노트', '영화'): [2960, 10191],\n",
       "             ('일루셔니스트', '영화'): [2972, 16171],\n",
       "             ('몬스터 하우스', '영화'): [2974, 10484],\n",
       "             ('싸움의 기술', '영화'): [2979, 14669],\n",
       "             ('포세이돈', '영화'): [2995, 7052],\n",
       "             ('귀향', '영화'): [2999, 9317],\n",
       "             ('심야식당', 'TV 프로그램'): [3135, 4173],\n",
       "             ('내일의 기억', '영화'): [3154, 16949],\n",
       "             ('슈퍼배드', '영화'): [3241, 4230],\n",
       "             ('히트맨', '영화'): [3277, 15691],\n",
       "             ('킹덤', '영화'): [3308, 14098],\n",
       "             ('퍼펙트 스트레인저', '영화'): [3355, 8780],\n",
       "             ('더 시크릿', '영화'): [3384, 15598],\n",
       "             ('리턴', '영화'): [3391, 11163],\n",
       "             ('학교 가는 길', '영화'): [3403, 6740],\n",
       "             ('상어', '영화'): [3474, 14577],\n",
       "             ('아름다운 그대에게', 'TV 프로그램'): [3510, 5714],\n",
       "             ('잃어버린 세계를 찾아서', '영화'): [3582, 13669],\n",
       "             ('커넥트', '영화'): [3721, 15473],\n",
       "             ('플라이 미 투 더 문', '영화'): [3734, 5350],\n",
       "             ('연인들', '영화'): [3759, 10417],\n",
       "             ('분노의 질주: 언리미티드', '영화'): [3768, 4641],\n",
       "             ('아기와 나', '영화'): [3792, 11098],\n",
       "             ('절대 그이', 'TV 프로그램'): [3851, 14892],\n",
       "             ('마더', '영화'): [3870, 15437],\n",
       "             ('트라이앵글', '영화'): [3886, 4100],\n",
       "             ('시리어스 맨', '영화'): [3898, 15959],\n",
       "             ('시크릿', '영화'): [4071, 6137, 22162],\n",
       "             ('오디션', '영화'): [4096, 6677],\n",
       "             ('만추', '영화'): [4215, 21581],\n",
       "             ('더 브레이브', '영화'): [4224, 14323],\n",
       "             ('파이터', '영화'): [4250, 17332],\n",
       "             ('몬스터즈', '영화'): [4282, 7156],\n",
       "             ('대지진', '영화'): [4403, 9154],\n",
       "             ('무법자', '영화'): [4470, 8225],\n",
       "             ('용의자', '영화'): [4480, 6066],\n",
       "             ('저스티스', '영화'): [4624, 10830],\n",
       "             ('한나', '영화'): [4672, 10048],\n",
       "             ('이민자', '영화'): [4677, 5928],\n",
       "             ('더 콜러', '영화'): [4825, 23220, 23221],\n",
       "             ('크롤', '영화'): [4872, 13644],\n",
       "             ('손님', '영화'): [4875, 8041],\n",
       "             ('블라인드', '영화'): [4880, 14155, 22008],\n",
       "             ('럭키', '영화'): [4991, 8946],\n",
       "             ('마마', '영화'): [5003, 5833],\n",
       "             ('슈츠', 'TV 프로그램'): [5047, 12991],\n",
       "             ('비스트', '영화'): [5218, 13845, 23113],\n",
       "             ('브레이크', '영화'): [5385, 12324, 13998],\n",
       "             ('아수라', '영화'): [5472, 8590],\n",
       "             ('핑크', '영화'): [5580, 8942],\n",
       "             ('옆자리 괴물군', 'TV 프로그램'): [5681, 5690],\n",
       "             ('스토커', '영화'): [5753, 15689],\n",
       "             ('사이코메트리', '영화'): [6022, 9389],\n",
       "             ('헌트', '영화'): [6053, 15424],\n",
       "             ('기적의 피아노', '영화'): [6127, 8276],\n",
       "             ('언노운 어택', '영화'): [6153, 12724],\n",
       "             ('스파이', '영화'): [6250, 7529],\n",
       "             ('드래곤 기사단', '영화'): [6287, 10831],\n",
       "             ('룸메이트', '영화'): [6362, 7646],\n",
       "             ('최고의 이혼', 'TV 프로그램'): [6379, 13104],\n",
       "             ('나를 찾아줘', '영화'): [6522, 13822],\n",
       "             ('더 게스트', '영화'): [6599, 10270],\n",
       "             ('미녀와 야수', '영화'): [6611, 21386, 22959],\n",
       "             ('엘로이즈', '영화'): [6762, 10563],\n",
       "             ('마녀', '영화'): [6908, 11628],\n",
       "             ('나이팅게일', '영화'): [6911, 11781],\n",
       "             ('추적자', '영화'): [7196, 14802],\n",
       "             ('퍼즐', '영화'): [7274, 12038],\n",
       "             ('룸', '영화'): [7537, 12764],\n",
       "             ('조이', '영화'): [7546, 12277],\n",
       "             ('라이프', '영화'): [7581, 9943],\n",
       "             ('더 웨이브', '영화'): [7584, 14012],\n",
       "             ('홈', '영화'): [7610, 12102],\n",
       "             ('행맨', '영화'): [7816, 10324],\n",
       "             ('고백', '영화'): [8159, 17347],\n",
       "             ('사라진 시간', '영화'): [8187, 15418],\n",
       "             ('트릭', '영화'): [8245, 9513],\n",
       "             ('애프터매스', '영화'): [8282, 10174, 17085],\n",
       "             ('폴라로이드', '영화'): [8359, 13884],\n",
       "             ('사일런스', '영화'): [8633, 13667],\n",
       "             ('걸 온 더 트레인', '영화'): [8636, 17162],\n",
       "             ('더 보이', '영화'): [8737, 13588],\n",
       "             ('분노', '영화'): [8805, 14059],\n",
       "             ('테이크 다운', '영화'): [8977, 14592],\n",
       "             ('돌로레스', '영화'): [9330, 10751],\n",
       "             ('컨저링 하우스', '영화'): [9527, 12888],\n",
       "             ('나만이 없는 거리', 'TV 프로그램'): [9625, 11317],\n",
       "             ('고스트 스토리', '영화'): [10017, 15963],\n",
       "             ('어트랙션', '영화'): [10050, 14644],\n",
       "             ('비스티걸스', '영화'): [10223, 10391],\n",
       "             ('너의 췌장을 먹고 싶어', '영화'): [10435, 11655],\n",
       "             ('루시드 드림', '영화'): [10534, 12158],\n",
       "             ('딥', '영화'): [10692, 11920],\n",
       "             ('아빠는 딸', '영화'): [11008, 21652],\n",
       "             ('굿 닥터', 'TV 프로그램'): [11217, 13463],\n",
       "             ('세이렌', 'TV 프로그램'): [11243, 13016],\n",
       "             ('블랙', 'TV 프로그램'): [11313, 11414],\n",
       "             ('버닝', '영화'): [11644, 13878],\n",
       "             ('갈매기', '영화'): [11849, 17277],\n",
       "             ('아직 끝나지 않았다', '영화'): [12010, 21922],\n",
       "             ('뮤턴트 워', '영화'): [12288, 13943],\n",
       "             ('로지', '영화'): [12490, 14152],\n",
       "             ('라스트 레터', '영화'): [12551, 15561],\n",
       "             ('마리아', '영화'): [12639, 14173],\n",
       "             ('침입자', '영화'): [12704, 16126],\n",
       "             ('빌런', '영화'): [13534, 15863],\n",
       "             ('블랙머니', '영화'): [13773, 15766],\n",
       "             ('파라다이스 좀비', '영화'): [15909, 16101],\n",
       "             ('스트레인저', 'TV 프로그램'): [16359, 16499],\n",
       "             ('핑크퐁 동물동요', 'TV 프로그램'): [17842, 23599],\n",
       "             ('콩순이의 율동교실', 'TV 프로그램'): [17884, 23563],\n",
       "             ('플레이어', 'TV 프로그램'): [17998, 18861],\n",
       "             ('핑크퐁 수동요', 'TV 프로그램'): [18190, 23750],\n",
       "             ('이누야샤 완결편', 'TV 프로그램'): [18270, 23857],\n",
       "             ('핑크퐁 마더구스', 'TV 프로그램'): [18444, 23689],\n",
       "             ('포켓몬스터 썬&문', 'TV 프로그램'): [18482, 23813],\n",
       "             ('미니특공대 슈퍼공룡파워', 'TV 프로그램'): [18773, 23578],\n",
       "             ('체인지 디바', 'TV 프로그램'): [18979, 23830],\n",
       "             ('푸른거탑 제로', 'TV 프로그램'): [19131, 19439],\n",
       "             ('클라이언트 리스트', 'TV 프로그램'): [19246, 24101],\n",
       "             ('터닝메카드W', 'TV 프로그램'): [19469, 23659],\n",
       "             ('tvN Shift', 'TV 프로그램'): [19569, 19816],\n",
       "             ('요괴메카드 왕마', 'TV 프로그램'): [19708, 23725],\n",
       "             ('매트릭스', '영화'): [20147, 24242],\n",
       "             ('쿵푸 팬더', '영화'): [20493, 24290],\n",
       "             ('쿵푸 팬더 2', '영화'): [20641, 24333],\n",
       "             ('겨울왕국 2', '영화'): [20897, 21190],\n",
       "             ('고녀석 맛나겠다2 - 함께라서 행복해', '영화'): [21733, 23166],\n",
       "             ('적인걸 더 파이널', '영화'): [22101, 24393],\n",
       "             ('피터팬', '영화'): [23306, 24411]})"
      ]
     },
     "execution_count": 1022,
     "metadata": {},
     "output_type": "execute_result"
    }
   ],
   "source": [
    "title_category"
   ]
  },
  {
   "cell_type": "code",
   "execution_count": 1075,
   "id": "9ef74996",
   "metadata": {},
   "outputs": [
    {
     "data": {
      "text/html": [
       "<div>\n",
       "<style scoped>\n",
       "    .dataframe tbody tr th:only-of-type {\n",
       "        vertical-align: middle;\n",
       "    }\n",
       "\n",
       "    .dataframe tbody tr th {\n",
       "        vertical-align: top;\n",
       "    }\n",
       "\n",
       "    .dataframe thead th {\n",
       "        text-align: right;\n",
       "    }\n",
       "</style>\n",
       "<table border=\"1\" class=\"dataframe\">\n",
       "  <thead>\n",
       "    <tr style=\"text-align: right;\">\n",
       "      <th></th>\n",
       "      <th>title</th>\n",
       "      <th>original_title</th>\n",
       "      <th>category</th>\n",
       "      <th>country</th>\n",
       "      <th>genre</th>\n",
       "      <th>director</th>\n",
       "      <th>actors</th>\n",
       "      <th>released_year</th>\n",
       "      <th>runtime</th>\n",
       "      <th>summary</th>\n",
       "      <th>rating</th>\n",
       "      <th>ott.Netflix</th>\n",
       "      <th>ott.Watcha</th>\n",
       "      <th>ott.wavve</th>\n",
       "      <th>ott.tving</th>\n",
       "      <th>ott.coupang</th>\n",
       "    </tr>\n",
       "  </thead>\n",
       "  <tbody>\n",
       "    <tr>\n",
       "      <th>23306</th>\n",
       "      <td>피터팬</td>\n",
       "      <td>NaN</td>\n",
       "      <td>영화</td>\n",
       "      <td>[]</td>\n",
       "      <td>['애니메이션', '']</td>\n",
       "      <td>['해밀턴 러스크', '클라이드 제로니미', '윌프레드 잭슨']</td>\n",
       "      <td>['유강진', '유해무', '김선우', '성유진', '강수진', '조동희', '탁원...</td>\n",
       "      <td>1953.0</td>\n",
       "      <td>0.0</td>\n",
       "      <td>행복하고 아름다운 웬디의 집. 그곳엔 상냥한 어머니와 듬직한 아버지, 귀여운 동생 ...</td>\n",
       "      <td>9.0</td>\n",
       "      <td>NaN</td>\n",
       "      <td>NaN</td>\n",
       "      <td>NaN</td>\n",
       "      <td>['구매']</td>\n",
       "      <td>NaN</td>\n",
       "    </tr>\n",
       "    <tr>\n",
       "      <th>24411</th>\n",
       "      <td>피터팬</td>\n",
       "      <td>NaN</td>\n",
       "      <td>영화</td>\n",
       "      <td>[]</td>\n",
       "      <td>['어드벤처', '판타지', '키즈', '패밀리']</td>\n",
       "      <td>['PJ 호건']</td>\n",
       "      <td>['제이슨 이삭스', '제러미 섬프터', '레이첼 허드우드', '린 레드그레이브',...</td>\n",
       "      <td>NaN</td>\n",
       "      <td>113.0</td>\n",
       "      <td>키스와 눈물의 비밀이 사랑에 빠진 연인을 구한다!사랑과 모험을 동경하는 웬디. 어느...</td>\n",
       "      <td>0.0</td>\n",
       "      <td>NaN</td>\n",
       "      <td>NaN</td>\n",
       "      <td>NaN</td>\n",
       "      <td>NaN</td>\n",
       "      <td>['정액제']</td>\n",
       "    </tr>\n",
       "  </tbody>\n",
       "</table>\n",
       "</div>"
      ],
      "text/plain": [
       "      title original_title category country                         genre  \\\n",
       "23306   피터팬            NaN       영화      []                 ['애니메이션', '']   \n",
       "24411   피터팬            NaN       영화      []  ['어드벤처', '판타지', '키즈', '패밀리']   \n",
       "\n",
       "                                  director  \\\n",
       "23306  ['해밀턴 러스크', '클라이드 제로니미', '윌프레드 잭슨']   \n",
       "24411                            ['PJ 호건']   \n",
       "\n",
       "                                                  actors  released_year  \\\n",
       "23306  ['유강진', '유해무', '김선우', '성유진', '강수진', '조동희', '탁원...         1953.0   \n",
       "24411  ['제이슨 이삭스', '제러미 섬프터', '레이첼 허드우드', '린 레드그레이브',...            NaN   \n",
       "\n",
       "       runtime                                            summary  rating  \\\n",
       "23306      0.0  행복하고 아름다운 웬디의 집. 그곳엔 상냥한 어머니와 듬직한 아버지, 귀여운 동생 ...     9.0   \n",
       "24411    113.0  키스와 눈물의 비밀이 사랑에 빠진 연인을 구한다!사랑과 모험을 동경하는 웬디. 어느...     0.0   \n",
       "\n",
       "      ott.Netflix ott.Watcha ott.wavve ott.tving ott.coupang  \n",
       "23306         NaN        NaN       NaN    ['구매']         NaN  \n",
       "24411         NaN        NaN       NaN       NaN     ['정액제']  "
      ]
     },
     "execution_count": 1075,
     "metadata": {},
     "output_type": "execute_result"
    }
   ],
   "source": [
    "total_data[total_data['title'] == '피터팬']"
   ]
  },
  {
   "cell_type": "code",
   "execution_count": 1074,
   "id": "16d4b704",
   "metadata": {},
   "outputs": [
    {
     "name": "stderr",
     "output_type": "stream",
     "text": [
      "/usr/local/lib/python3.9/site-packages/pandas/core/series.py:1056: SettingWithCopyWarning: \n",
      "A value is trying to be set on a copy of a slice from a DataFrame\n",
      "\n",
      "See the caveats in the documentation: https://pandas.pydata.org/pandas-docs/stable/user_guide/indexing.html#returning-a-view-versus-a-copy\n",
      "  cacher_needs_updating = self._check_is_chained_assignment_possible()\n"
     ]
    }
   ],
   "source": [
    "total_data = tmp_func(22101, 24393, total_data)"
   ]
  },
  {
   "cell_type": "code",
   "execution_count": 945,
   "id": "3a69649b",
   "metadata": {},
   "outputs": [],
   "source": [
    "def tmp_func(cur_idx, other_idx, total_data):\n",
    "    cur, other = total_data.loc[cur_idx], total_data.loc[other_idx]\n",
    "    for i in ['released_year', 'ott.tving', 'ott.coupang', 'director', 'actors']:\n",
    "        if i == 'ott.tving' and not pd.isna(cur[i]):\n",
    "            continue\n",
    "        cur[i] = other[i]\n",
    "    total_data.loc[cur_idx] = cur\n",
    "    total_data = total_data.drop(other_idx)\n",
    "    return total_data"
   ]
  },
  {
   "cell_type": "code",
   "execution_count": 824,
   "id": "e93f9fdc",
   "metadata": {},
   "outputs": [
    {
     "name": "stderr",
     "output_type": "stream",
     "text": [
      "/usr/local/lib/python3.9/site-packages/pandas/core/series.py:1056: SettingWithCopyWarning: \n",
      "A value is trying to be set on a copy of a slice from a DataFrame\n",
      "\n",
      "See the caveats in the documentation: https://pandas.pydata.org/pandas-docs/stable/user_guide/indexing.html#returning-a-view-versus-a-copy\n",
      "  cacher_needs_updating = self._check_is_chained_assignment_possible()\n"
     ]
    }
   ],
   "source": [
    "for key, val in title_category.items():\n",
    "    val.sort()\n",
    "    if len(val) == 2 and (val[0] < 17764 and val[1] >= 17764):\n",
    "        cur = total_data.loc[val[0]]\n",
    "        other = total_data.loc[val[1]]\n",
    "        for i in ['ott.tving', 'ott.coupang', 'director', 'actors']:\n",
    "            cur[i] = other[i]\n",
    "        total_data.loc[val[0]] = cur\n",
    "        total_data = total_data.drop(val[1])"
   ]
  },
  {
   "cell_type": "markdown",
   "id": "66332aa1",
   "metadata": {},
   "source": [
    "# Country의 결측치 => 삭제?"
   ]
  },
  {
   "cell_type": "code",
   "execution_count": 1078,
   "id": "14c6b233",
   "metadata": {},
   "outputs": [
    {
     "data": {
      "text/plain": [
       "4889"
      ]
     },
     "execution_count": 1078,
     "metadata": {},
     "output_type": "execute_result"
    }
   ],
   "source": [
    "len(total_data[total_data['country'] == '[]'])"
   ]
  },
  {
   "cell_type": "markdown",
   "id": "ef1b550c",
   "metadata": {},
   "source": [
    "# Actor, Director의 결측치와 영어데이터 => 삭제? or검색을 활용한 방법??"
   ]
  },
  {
   "cell_type": "code",
   "execution_count": 1088,
   "id": "5e9ee24e",
   "metadata": {},
   "outputs": [
    {
     "data": {
      "text/plain": [
       "1907"
      ]
     },
     "execution_count": 1088,
     "metadata": {},
     "output_type": "execute_result"
    }
   ],
   "source": [
    "len(total_data[total_data['actors'] == '[]'])"
   ]
  },
  {
   "cell_type": "code",
   "execution_count": 1103,
   "id": "7b981386",
   "metadata": {},
   "outputs": [
    {
     "data": {
      "text/plain": [
       "13604"
      ]
     },
     "execution_count": 1103,
     "metadata": {},
     "output_type": "execute_result"
    }
   ],
   "source": [
    "import string\n",
    "eng_actor_cnt = 0\n",
    "for i in total_data['actors']:\n",
    "    if len(i) > 3 and i[2] in string.ascii_letters:\n",
    "        eng_actor_cnt += 1\n",
    "eng_actor_cnt"
   ]
  },
  {
   "cell_type": "code",
   "execution_count": 1105,
   "id": "277c4d08",
   "metadata": {},
   "outputs": [
    {
     "data": {
      "text/plain": [
       "11667"
      ]
     },
     "execution_count": 1105,
     "metadata": {},
     "output_type": "execute_result"
    }
   ],
   "source": [
    "eng_dir_cnt = 0\n",
    "for i in total_data['director']:\n",
    "    if len(i) > 3 and i[2] in string.ascii_letters:\n",
    "        eng_dir_cnt += 1\n",
    "eng_dir_cnt"
   ]
  },
  {
   "cell_type": "code",
   "execution_count": 1089,
   "id": "44877e77",
   "metadata": {},
   "outputs": [
    {
     "data": {
      "text/plain": [
       "3860"
      ]
     },
     "execution_count": 1089,
     "metadata": {},
     "output_type": "execute_result"
    }
   ],
   "source": [
    "len(total_data[total_data['director'] == '[]'])"
   ]
  },
  {
   "cell_type": "code",
   "execution_count": 1119,
   "id": "d1eff6d3",
   "metadata": {},
   "outputs": [],
   "source": [
    "mask1 = (total_data['actors'] == '[]') & (total_data['director'] == '[]')"
   ]
  },
  {
   "cell_type": "code",
   "execution_count": 1121,
   "id": "d63e40f8",
   "metadata": {},
   "outputs": [
    {
     "data": {
      "text/plain": [
       "1121"
      ]
     },
     "execution_count": 1121,
     "metadata": {},
     "output_type": "execute_result"
    }
   ],
   "source": [
    "len(total_data.loc[mask1, :])"
   ]
  },
  {
   "cell_type": "markdown",
   "id": "0a78dc11",
   "metadata": {},
   "source": [
    "# 장르로 거르는건?"
   ]
  },
  {
   "cell_type": "code",
   "execution_count": 1110,
   "id": "6753ce62",
   "metadata": {},
   "outputs": [
    {
     "data": {
      "text/plain": [
       "692"
      ]
     },
     "execution_count": 1110,
     "metadata": {},
     "output_type": "execute_result"
    }
   ],
   "source": [
    "len(total_data[total_data['genre'] == '[]'])"
   ]
  },
  {
   "cell_type": "code",
   "execution_count": 723,
   "id": "35cc8226",
   "metadata": {},
   "outputs": [],
   "source": [
    "tmp = set()\n",
    "for i in total_data['genre'].unique():\n",
    "    for j in i[1:-1].split(\",\"):\n",
    "        tmp.add(j)"
   ]
  },
  {
   "cell_type": "code",
   "execution_count": 1079,
   "id": "ec8e574b",
   "metadata": {},
   "outputs": [
    {
     "name": "stdout",
     "output_type": "stream",
     "text": [
      "248\n"
     ]
    }
   ],
   "source": [
    "print(len(tmp))"
   ]
  },
  {
   "cell_type": "markdown",
   "id": "64882cad",
   "metadata": {},
   "source": [
    "# 영어 줄거리는 과감하게 버리는 건?"
   ]
  },
  {
   "cell_type": "code",
   "execution_count": 1124,
   "id": "4655e717",
   "metadata": {},
   "outputs": [
    {
     "data": {
      "text/plain": [
       "1842"
      ]
     },
     "execution_count": 1124,
     "metadata": {},
     "output_type": "execute_result"
    }
   ],
   "source": [
    "import re\n",
    "reg = re.compile('[ㄱ-힣]')\n",
    "cnt = 0 \n",
    "for i in total_data.index:\n",
    "    cur = total_data.loc[i]\n",
    "    try:\n",
    "        if reg.search(cur['summary']):\n",
    "            pass\n",
    "        else:\n",
    "            cnt+=1\n",
    "            pass\n",
    "    except:\n",
    "        cnt+=1\n",
    "cnt"
   ]
  },
  {
   "cell_type": "code",
   "execution_count": 1087,
   "id": "4bae7cfa",
   "metadata": {},
   "outputs": [
    {
     "data": {
      "text/html": [
       "<div>\n",
       "<style scoped>\n",
       "    .dataframe tbody tr th:only-of-type {\n",
       "        vertical-align: middle;\n",
       "    }\n",
       "\n",
       "    .dataframe tbody tr th {\n",
       "        vertical-align: top;\n",
       "    }\n",
       "\n",
       "    .dataframe thead th {\n",
       "        text-align: right;\n",
       "    }\n",
       "</style>\n",
       "<table border=\"1\" class=\"dataframe\">\n",
       "  <thead>\n",
       "    <tr style=\"text-align: right;\">\n",
       "      <th></th>\n",
       "      <th>title</th>\n",
       "      <th>original_title</th>\n",
       "      <th>category</th>\n",
       "      <th>country</th>\n",
       "      <th>genre</th>\n",
       "      <th>director</th>\n",
       "      <th>actors</th>\n",
       "      <th>released_year</th>\n",
       "      <th>runtime</th>\n",
       "      <th>summary</th>\n",
       "      <th>rating</th>\n",
       "      <th>ott.Netflix</th>\n",
       "      <th>ott.Watcha</th>\n",
       "      <th>ott.wavve</th>\n",
       "      <th>ott.tving</th>\n",
       "      <th>ott.coupang</th>\n",
       "    </tr>\n",
       "  </thead>\n",
       "  <tbody>\n",
       "    <tr>\n",
       "      <th>17753</th>\n",
       "      <td>아기상어: 올리와 윌리엄</td>\n",
       "      <td>아기상어: 올리와 윌리엄</td>\n",
       "      <td>TV 프로그램</td>\n",
       "      <td>['대한민국']</td>\n",
       "      <td>[]</td>\n",
       "      <td>[]</td>\n",
       "      <td>['Kimiko Glenn', 'Luke Youngblood', 'Natasha R...</td>\n",
       "      <td>2021.0</td>\n",
       "      <td>11.0</td>\n",
       "      <td>Follow Baby Shark Brooklyn and his best friend...</td>\n",
       "      <td>0.0</td>\n",
       "      <td>NaN</td>\n",
       "      <td>['정액제']</td>\n",
       "      <td>['정액제']</td>\n",
       "      <td>NaN</td>\n",
       "      <td>NaN</td>\n",
       "    </tr>\n",
       "  </tbody>\n",
       "</table>\n",
       "</div>"
      ],
      "text/plain": [
       "               title original_title category   country genre director  \\\n",
       "17753  아기상어: 올리와 윌리엄  아기상어: 올리와 윌리엄  TV 프로그램  ['대한민국']    []       []   \n",
       "\n",
       "                                                  actors  released_year  \\\n",
       "17753  ['Kimiko Glenn', 'Luke Youngblood', 'Natasha R...         2021.0   \n",
       "\n",
       "       runtime                                            summary  rating  \\\n",
       "17753     11.0  Follow Baby Shark Brooklyn and his best friend...     0.0   \n",
       "\n",
       "      ott.Netflix ott.Watcha ott.wavve ott.tving ott.coupang  \n",
       "17753         NaN    ['정액제']   ['정액제']       NaN         NaN  "
      ]
     },
     "execution_count": 1087,
     "metadata": {},
     "output_type": "execute_result"
    }
   ],
   "source": [
    "total_data[total_data['title']=='아기상어: 올리와 윌리엄']"
   ]
  },
  {
   "cell_type": "code",
   "execution_count": 1076,
   "id": "75c7d891",
   "metadata": {},
   "outputs": [
    {
     "data": {
      "text/plain": [
       "21771"
      ]
     },
     "execution_count": 1076,
     "metadata": {},
     "output_type": "execute_result"
    }
   ],
   "source": [
    "len(total_data)"
   ]
  },
  {
   "cell_type": "code",
   "execution_count": 1090,
   "id": "1721860b",
   "metadata": {
    "scrolled": true
   },
   "outputs": [
    {
     "data": {
      "text/plain": [
       "title                 0\n",
       "original_title     4007\n",
       "category              0\n",
       "country               0\n",
       "genre                 0\n",
       "director              0\n",
       "actors                0\n",
       "released_year       938\n",
       "runtime              24\n",
       "summary              64\n",
       "rating                0\n",
       "ott.Netflix       16747\n",
       "ott.Watcha        14642\n",
       "ott.wavve          9047\n",
       "ott.tving         16111\n",
       "ott.coupang       19981\n",
       "dtype: int64"
      ]
     },
     "execution_count": 1090,
     "metadata": {},
     "output_type": "execute_result"
    }
   ],
   "source": [
    "total_data.isnull().sum()"
   ]
  },
  {
   "cell_type": "markdown",
   "id": "c0e6887b",
   "metadata": {},
   "source": [
    "# actor 이름 교체"
   ]
  },
  {
   "cell_type": "code",
   "execution_count": 183,
   "id": "e0098f74",
   "metadata": {},
   "outputs": [
    {
     "name": "stdout",
     "output_type": "stream",
     "text": [
      "['줄리 앤드류스', '크리스토퍼 플러머']\n",
      "사운드 오브 뮤직 ['줄리 앤드류스', ' 크리스토퍼 플러머']\n",
      "['줄리 앤드류스', '크리스토퍼 플러머']\n"
     ]
    }
   ],
   "source": [
    "with open(\"/Users/jeonggyu/Desktop/수집한 dataset/0_7214.json\", \"r\") as f:\n",
    "    dict_actor = json.load(f)\n",
    "    for idx in df.index:\n",
    "        cur = df.loc[11]\n",
    "        print(cur['actors'])\n",
    "        cur_actors = cur['actors'].replace(\"'\", \"\")[1:-1].split(\",\")\n",
    "        \n",
    "        ch_actors = filter(lambda x: x is not None, map(lambda x: dict_actor.get(x), cur_actors))\n",
    "        print(cur['title'], cur_actors)\n",
    "        print(list(ch_actors))\n",
    "        break"
   ]
  },
  {
   "cell_type": "markdown",
   "id": "7069cbf6",
   "metadata": {},
   "source": [
    "# director 이름 교체"
   ]
  },
  {
   "cell_type": "markdown",
   "id": "f375504b",
   "metadata": {},
   "source": [
    "# actor 데이터 합치기"
   ]
  },
  {
   "cell_type": "code",
   "execution_count": 228,
   "id": "0c2dc53d",
   "metadata": {},
   "outputs": [
    {
     "name": "stdout",
     "output_type": "stream",
     "text": [
      "4065\n",
      "1269\n",
      "5550\n"
     ]
    }
   ],
   "source": [
    "import re\n",
    "reg = re.compile('[ㄱ-힣]')\n",
    "\n",
    "with open('/Users/jeonggyu/Desktop/수집한 dataset/actors/google_0_7214.json', \"r\") as nf,\\\n",
    "open('/Users/jeonggyu/Desktop/수집한 dataset/actors/0_7214.json', \"r\") as of,\\\n",
    "open('/Users/jeonggyu/Desktop/수집한 dataset/actors/final_0_7214.json', \"w\") as target:\n",
    "    nd, od = json.load(nf), json.load(of)\n",
    "    print(len(list(filter(lambda x: x[1] is None, od.items()))))\n",
    "    print(len(list(filter(lambda x: x[1] is None, nd.items()))))\n",
    "    # google검색을 naver와 합친다.\n",
    "    od.update(nd)\n",
    "        \n",
    "    # none 처리\n",
    "    tmp = dict(filter(lambda x: x[1] is not None, od.items()))\n",
    "    \n",
    "    # 한글 key 값들 처리\n",
    "    tmp = dict(filter(lambda x: not reg.search(x[0]), tmp.items()))\n",
    "    \n",
    "    # 영어 value 값 처리\n",
    "    tmp = dict(filter(lambda x: reg.search(str(x[1])), tmp.items()))\n",
    "    \n",
    "    print(len(tmp))\n"
   ]
  },
  {
   "cell_type": "code",
   "execution_count": null,
   "id": "752b83e2",
   "metadata": {},
   "outputs": [],
   "source": []
  }
 ],
 "metadata": {
  "kernelspec": {
   "display_name": "Python 3 (ipykernel)",
   "language": "python",
   "name": "python3"
  },
  "language_info": {
   "codemirror_mode": {
    "name": "ipython",
    "version": 3
   },
   "file_extension": ".py",
   "mimetype": "text/x-python",
   "name": "python",
   "nbconvert_exporter": "python",
   "pygments_lexer": "ipython3",
   "version": "3.9.6"
  }
 },
 "nbformat": 4,
 "nbformat_minor": 5
}
